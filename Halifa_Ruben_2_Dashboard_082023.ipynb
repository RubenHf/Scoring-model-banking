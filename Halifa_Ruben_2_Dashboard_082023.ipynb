{
 "cells": [
  {
   "cell_type": "code",
   "execution_count": 39,
   "id": "4c6d9347",
   "metadata": {},
   "outputs": [],
   "source": [
    "import dash\n",
    "from dash import Dash, html, dash_table, dcc, callback, Output, Input, State, ctx, Patch\n",
    "import pandas as pd\n",
    "import plotly\n",
    "import plotly.express as px\n",
    "import plotly.subplots as sp\n",
    "import copy\n",
    "import base64\n",
    "import io\n",
    "import numpy as np\n",
    "import time\n",
    "import scipy\n",
    "import requests\n",
    "from scipy import stats\n"
   ]
  },
  {
   "cell_type": "code",
   "execution_count": 40,
   "id": "6750b4c1",
   "metadata": {},
   "outputs": [],
   "source": [
    "# Pour générer le fichier requirement \n",
    "#pip freeze > requirements.txt"
   ]
  },
  {
   "cell_type": "code",
   "execution_count": 41,
   "id": "40661cce",
   "metadata": {},
   "outputs": [
    {
     "name": "stdout",
     "output_type": "stream",
     "text": [
      "Pandas Version : 1.5.3\n",
      "Plotly Version : 5.9.0\n",
      "Dash Version : 2.12.1\n",
      "numpy Version : 1.23.5\n",
      "scipy Version : 1.10.1\n"
     ]
    }
   ],
   "source": [
    "libraries = {\n",
    "    \"Pandas\" : pd,\n",
    "    \"Plotly\" : plotly,\n",
    "    \"Dash\" : dash,\n",
    "    \"numpy\" : np,\n",
    "    \"scipy\": scipy,\n",
    "}\n",
    "\n",
    "# On affiche les différentes versions des librairies utilisées\n",
    "for lib_name, lib in libraries.items():\n",
    "    print(f\"{lib_name} Version : {lib.__version__}\")"
   ]
  },
  {
   "cell_type": "code",
   "execution_count": 65,
   "id": "d5cb4b83",
   "metadata": {},
   "outputs": [],
   "source": [
    "df = pd.read_csv(\"test.csv\")"
   ]
  },
  {
   "cell_type": "code",
   "execution_count": 43,
   "id": "40249b85",
   "metadata": {},
   "outputs": [],
   "source": [
    "def API_feature_importance_model():\n",
    "    # Fonction appelant l'API, renvoie les valeurs SHAP des features du modèle\n",
    "    \n",
    "    # Lien de l'API permettant de faire la prédiction\n",
    "    url=\"http://banking-model-api-924e29320872.herokuapp.com/shap_model\"\n",
    "\n",
    "    # On envoie une requête POST au format JSON \n",
    "    response = requests.post(url)\n",
    "\n",
    "    # On vérigie l'état de la réponse\n",
    "    if response.status_code == 200:\n",
    "        # Si tout s'est bien déroulé\n",
    "        \n",
    "        # On récupère une réponse sous le format json\n",
    "        df_reponse = response.json()  \n",
    "\n",
    "        # On retransforme sous format DataFrame\n",
    "        df_reponse = pd.DataFrame(df_reponse.get(\"data\", {}))\n",
    "\n",
    "        # On retourne le dataframe modifié\n",
    "        return df_reponse\n",
    "    else:\n",
    "        # La requête a échouée\n",
    "        print(\"La requête a échoué avec le code :\", response.status_code)\n",
    "        print(\"Contenu du message :\", response.text)\n",
    "\n",
    "        return None"
   ]
  },
  {
   "cell_type": "code",
   "execution_count": 44,
   "id": "9e17f241",
   "metadata": {},
   "outputs": [],
   "source": [
    "def API_prediction(df, threshold):\n",
    "    # Fonction appelant l'API de prédiction\n",
    "    \n",
    "    # Lien de l'API permettant de faire la prédiction\n",
    "    url=\"http://banking-model-api-924e29320872.herokuapp.com/prediction\"\n",
    "\n",
    "    df_preparation = copy.deepcopy(df)\n",
    "\n",
    "    # On enlève les valeurs nulles pour passer le dataframe à l'API\n",
    "    df_preparation = df_preparation.fillna(-.0123)\n",
    "\n",
    "    # On transforme en dictionnaire\n",
    "    df_preparation = df_preparation.to_dict('list')\n",
    "\n",
    "    # On envoie une requête POST au format JSON (nos données au format JSON et le threshold)\n",
    "    response = requests.post(url, json={\"data\": df_preparation, \"thresh\": threshold})\n",
    "\n",
    "    # On vérigie l'état de la réponse\n",
    "    if response.status_code == 200:\n",
    "        # Si tout s'est bien déroulé\n",
    "        # On récupère une réponse sous le format json\n",
    "        df_reponse = response.json()  \n",
    "\n",
    "        # On retransforme sous format DataFrame\n",
    "        df_reponse = pd.DataFrame(df_reponse.get(\"data\", {}))\n",
    "\n",
    "        # On remet les valeurs np.nan\n",
    "        df_reponse = df_reponse.replace(-.0123, np.nan)\n",
    "\n",
    "        # On retourne le dataframe modifié\n",
    "        return df_reponse\n",
    "    else:\n",
    "        # La requête a échouée\n",
    "        print(\"La requête a échoué avec le code :\", response.status_code)\n",
    "        print(\"Contenu du message :\", response.text)\n",
    "\n",
    "        return df"
   ]
  },
  {
   "cell_type": "code",
   "execution_count": 42,
   "id": "4a5ce46b",
   "metadata": {},
   "outputs": [],
   "source": [
    "def API_scoring(df, threshold):\n",
    "    # Fonction appelant l'API, renvoyant un score selon la prédiction\n",
    "        \n",
    "    # Lien de l'API permettant de faire la prédiction\n",
    "    url=\"http://banking-model-api-924e29320872.herokuapp.com/scoring\"\n",
    "\n",
    "    df_preparation = copy.deepcopy(df)\n",
    "\n",
    "    # On enlève les valeurs nulles pour passer le dataframe à l'API\n",
    "    df_preparation = df_preparation.fillna(-.0123)\n",
    "\n",
    "    # On transforme en dictionnaire\n",
    "    df_preparation = df_preparation.to_dict('list')\n",
    "\n",
    "    # On envoie une requête POST au format JSON (nos données au format JSON et le threshold)\n",
    "    response = requests.post(url, json={\"data\": df_preparation, \"thresh\": threshold})\n",
    "\n",
    "    # On vérigie l'état de la réponse\n",
    "    if response.status_code == 200:\n",
    "        # Si tout s'est bien déroulé\n",
    "        # On récupère une réponse sous le format json\n",
    "        df_reponse = response.json()  \n",
    "\n",
    "        # On retransforme sous format DataFrame\n",
    "        df_reponse = pd.DataFrame(df_reponse.get(\"data\", {}))\n",
    "\n",
    "        # On remet les valeurs np.nan\n",
    "        df_reponse = df_reponse.replace(-.0123, np.nan)\n",
    "\n",
    "        # On retourne le dataframe modifié\n",
    "        return df_reponse\n",
    "    else:\n",
    "        # La requête a échouée\n",
    "        print(\"La requête a échoué avec le code :\", response.status_code)\n",
    "        print(\"Contenu du message :\", response.text)\n",
    "\n",
    "        return df"
   ]
  },
  {
   "cell_type": "code",
   "execution_count": 45,
   "id": "a6ec27b8",
   "metadata": {},
   "outputs": [],
   "source": [
    "def API_local_importance(df):\n",
    "    # Fonction appelant l'API de mesure de l'importance locale des variables mesurée avec SHAP\n",
    "    \n",
    "    # Lien de l'API permettant de mesurer l'importance locale des variables de chaque client\n",
    "    url=\"http://banking-model-api-924e29320872.herokuapp.com/importance_client\"\n",
    "\n",
    "    df_preparation = copy.deepcopy(df)\n",
    "\n",
    "    # On enlève les valeurs nulles pour passer le dataframe à l'API\n",
    "    df_preparation = df_preparation.fillna(-.0123)\n",
    "\n",
    "    # On transforme en dictionnaire\n",
    "    df_preparation = df_preparation.to_dict('list')\n",
    "\n",
    "    # On envoie une requête POST au format JSON \n",
    "    response = requests.post(url, json={\"data\": df_preparation})\n",
    "\n",
    "    # On vérigie l'état de la réponse\n",
    "    if response.status_code == 200:\n",
    "        # Si tout s'est bien déroulé\n",
    "        # On récupère une réponse sous le format json\n",
    "        df_reponse = response.json()  \n",
    "\n",
    "        # On retransforme sous format DataFrame\n",
    "        df_reponse = pd.DataFrame(df_reponse.get(\"data\", {}))\n",
    "\n",
    "        # On remet les valeurs np.nan\n",
    "        df_reponse = df_reponse.replace(-.0123, np.nan)\n",
    "\n",
    "        # On retourne le dataframe avec les importances locales\n",
    "        return df_reponse\n",
    "    else:\n",
    "        # La requête a échouée\n",
    "        print(\"La requête a échoué avec le code :\", response.status_code)\n",
    "        print(\"Contenu du message :\", response.text)\n",
    "\n",
    "        return None"
   ]
  },
  {
   "cell_type": "code",
   "execution_count": 46,
   "id": "8ba0af95",
   "metadata": {},
   "outputs": [],
   "source": [
    "def API_get_threshold():\n",
    "    # Fonction appelant l'API et retournant le threshold optimal du modèle\n",
    "    \n",
    "    # Lien de l'API permettant de récupérer le threshold du modèle\n",
    "    url=\"http://banking-model-api-924e29320872.herokuapp.com/get_threshold\"\n",
    "    \n",
    "    # On envoie une requête POST\n",
    "    response = requests.post(url)\n",
    "\n",
    "    # On vérigie l'état de la réponse\n",
    "    if response.status_code == 200:\n",
    "        # Si tout s'est bien déroulé\n",
    "        # On récupère une réponse sous le format json\n",
    "        th = response.json() \n",
    "\n",
    "        # On retourne le threshold\n",
    "        return th.get(\"data\", {})\n",
    "    \n",
    "    else:\n",
    "        # La requête a échouée\n",
    "        print(\"La requête a échoué avec le code :\", response.status_code)\n",
    "        print(\"Contenu du message :\", response.text)\n",
    "\n",
    "        return None"
   ]
  },
  {
   "cell_type": "code",
   "execution_count": 47,
   "id": "707b07eb",
   "metadata": {},
   "outputs": [],
   "source": [
    "def API_risque_th_model():\n",
    "    # Fonction appelant l'API, renvoie les valeurs risques clients insolvables selon threshold\n",
    "    \n",
    "    # Lien de l'API permettant de faire la prédiction\n",
    "    url=\"http://banking-model-api-924e29320872.herokuapp.com/risque_th_model\"\n",
    "\n",
    "    # On envoie une requête POST au format JSON \n",
    "    response = requests.post(url)\n",
    "\n",
    "    # On vérigie l'état de la réponse\n",
    "    if response.status_code == 200:\n",
    "        # Si tout s'est bien déroulé\n",
    "        \n",
    "        # On récupère une réponse sous le format json\n",
    "        df_reponse = response.json()  \n",
    "\n",
    "        # On retransforme sous format DataFrame\n",
    "        df_reponse = pd.DataFrame(df_reponse.get(\"data\", {}))\n",
    "\n",
    "        # On retourne le dataframe modifié\n",
    "        return df_reponse\n",
    "    else:\n",
    "        # La requête a échouée\n",
    "        print(\"La requête a échoué avec le code :\", response.status_code)\n",
    "        print(\"Contenu du message :\", response.text)\n",
    "\n",
    "        return None"
   ]
  },
  {
   "cell_type": "code",
   "execution_count": 48,
   "id": "0be7999d",
   "metadata": {},
   "outputs": [],
   "source": [
    "def API_client_th_model():\n",
    "    # Fonction appelant l'API, renvoie les valeurs de pourcentage clients solvables selon threshold\n",
    "    \n",
    "    # Lien de l'API permettant de faire la prédiction\n",
    "    url=\"http://banking-model-api-924e29320872.herokuapp.com/client_th_model\"\n",
    "\n",
    "    # On envoie une requête POST au format JSON \n",
    "    response = requests.post(url)\n",
    "\n",
    "    # On vérigie l'état de la réponse\n",
    "    if response.status_code == 200:\n",
    "        # Si tout s'est bien déroulé\n",
    "        \n",
    "        # On récupère une réponse sous le format json\n",
    "        df_reponse = response.json()  \n",
    "\n",
    "        # On retransforme sous format DataFrame\n",
    "        df_reponse = pd.DataFrame(df_reponse.get(\"data\", {}))\n",
    "\n",
    "        # On retourne le dataframe modifié\n",
    "        return df_reponse\n",
    "    else:\n",
    "        # La requête a échouée\n",
    "        print(\"La requête a échoué avec le code :\", response.status_code)\n",
    "        print(\"Contenu du message :\", response.text)\n",
    "\n",
    "        return None"
   ]
  },
  {
   "cell_type": "code",
   "execution_count": 69,
   "id": "9148746e",
   "metadata": {},
   "outputs": [],
   "source": [
    "def application_model(df, threshold):\n",
    "    \n",
    "    result_df = copy.deepcopy(df)\n",
    "    \n",
    "    # On réalise la prédiction en appelant l'API\n",
    "    result_df = API_prediction(result_df, threshold)\n",
    "    \n",
    "    result_df = API_scoring(result_df, threshold)\n",
    "\n",
    "    return result_df"
   ]
  },
  {
   "cell_type": "code",
   "execution_count": 70,
   "id": "804d3337",
   "metadata": {},
   "outputs": [],
   "source": [
    "def figure_feature_client_dash(df_shape, df_client, nb_variable = 10, color_point = \"plotly\", size = 18):\n",
    "    \n",
    "    # on ajuste la couleur des barres du graphique\n",
    "    if color_point == \"colorblind\":\n",
    "        color_bar = \"#648FFF\"\n",
    "        color_bar_selected = \"#FFB000\"\n",
    "    else :\n",
    "        color_bar = \"blue\"\n",
    "        color_bar_selected = \"red\"\n",
    "     \n",
    "    figure_height = (df_shape.shape[0] * size)\n",
    "    \n",
    "    for i, client in df_shape.iterrows():\n",
    "\n",
    "        figure_height = 200 + (len(client[2:]) * size+1)\n",
    "        \n",
    "        # on trie les variables selon leur influence sur le résultat et on ne garde que les nb_variables premières valeurs\n",
    "        index = abs(client[2:]).sort_values(ascending=True)[-nb_variable:].index\n",
    "        \n",
    "        nomVar = str(f\"SOMME DES VARIABLES RESTANTES ({(len(client) - 2 - nb_variable)})\")\n",
    "        # Ajout du score des variables non calculées\n",
    "        client.loc[nomVar] = client[~client.index.isin(index)][2:].sum()\n",
    "        \n",
    "        # on ajoute sous la forme d'un index\n",
    "        index = index.insert(0, pd.Index([nomVar]))\n",
    "        \n",
    "        \n",
    "        # On fait -1 pour inverser la contribution\n",
    "        # Négatif : Contribution négative à l'obtention du prêt\n",
    "        # Positif : Contribution positif à l'obtention du prêt\n",
    "        client[index] = client[index] * -1 \n",
    "        \n",
    "        # Pour afficher les valeurs sur le graphiques\n",
    "        texte_liste = round(client[index], 2).astype(str).values\n",
    "        # Permet de standardiser la taille du nom des variables\n",
    "        texte_variable = index[1:].str[:20]\n",
    "        \n",
    "        texte_valeur = df_client[index[1:]].values[0]\n",
    "\n",
    "        # on format\n",
    "        texte_valeur = [round(x) if abs(x) > 5 else round(x, 2) for x in texte_valeur]\n",
    "\n",
    "        \n",
    "        # On ajoute la valeur de la variable au nom de la variable\n",
    "        combined_texte = [f\"{x} ({y})\" for x, y in zip(texte_variable, texte_valeur)]\n",
    "\n",
    "        combined_texte.insert(0, pd.Index([nomVar]))\n",
    "\n",
    "        figure_var = px.bar(client[index], \n",
    "                        y=index, \n",
    "                        x=round(client[index], 2).values,\n",
    "                        text=texte_liste,  \n",
    "                        height=figure_height)\n",
    "\n",
    "        # on met une couleur selon si la variable a une influence positive ou négative sur le score.\n",
    "        colors = [color_bar_selected if client[col] <= 0 else color_bar for col in client[index].index]\n",
    "        figure_var.update_traces(marker_color=colors)\n",
    "        \n",
    "        # On fait -1 pour inverser la contribution\n",
    "        # Négatif : Contribution négative à l'obtention du prêt\n",
    "        # Positif : Contribution positif à l'obtention du prêt\n",
    "        shape_global = {'nom': [\"Résultat global\"], 'valeur': round(client[1] * -1, 2)}\n",
    "        figure_global = px.bar(shape_global,\n",
    "                        x='valeur',\n",
    "                        text='valeur',\n",
    "                        height=200)\n",
    "        colors = [color_bar_selected if shape_global[\"valeur\"] <= 0 else color_bar]\n",
    "        figure_global.update_traces(marker_color=colors)\n",
    "        \n",
    "        # On crée un subplot de 2 lignes, avec une différence de taille entre les 2 figures\n",
    "        fig_general = sp.make_subplots(rows=2, cols=1, row_heights=[9, 1], shared_xaxes=True,\n",
    "                              subplot_titles=(f\"Les 10 variables contribuant le plus <br>à la prédiction du client : {round(client[0])} \", \n",
    "                                              f\"Valeur globale : {'Pas de prêt' if shape_global['valeur'] <= 0 else 'Prêt'}\"),\n",
    "                              vertical_spacing=0.05)\n",
    "        \n",
    "        fig_general.update_annotations(font=dict(size=8+size, color=\"black\"))\n",
    "\n",
    "        # On ajoute la première figure en haut\n",
    "        for trace in figure_var.data:\n",
    "            fig_general.add_trace(trace, row=1, col=1)\n",
    "\n",
    "        # On ajoute la seconde en bas\n",
    "        for trace in figure_global.data:\n",
    "            fig_general.add_trace(trace, row=2, col=1)  \n",
    "\n",
    "        fig_general.update_yaxes(ticktext=combined_texte, tickvals=list(range(nb_variable+1)), row=1, col=1)\n",
    "        fig_general.update_yaxes(ticktext=[shape_global[\"nom\"]], tickvals=[0], row=2, col=1)\n",
    "        fig_general.update_layout(height=figure_height)\n",
    "\n",
    "        fig_general.update_layout(\n",
    "            title=dict(\n",
    "                font=dict(size=8+size, color=\"black\"), x=0.5, xanchor='center'),\n",
    "            \n",
    "            font=dict(size=size, color=\"black\"),\n",
    "            yaxis=dict(title = \"\",#\"Variable(s) d'intérêt(s)\",\n",
    "                tickmode='array', tickvals=list(range(nb_variable + 1)),  \n",
    "                dtick=1, automargin=False),\n",
    "            margin=dict(l= 200 - ((1 - size / 36) * 30), r=20, t=150, b=20),# on va de 50 à 200 (18 à 36 en taille)\n",
    "        )\n",
    "            \n",
    "        fig_general.add_shape(type=\"line\", x0=0, x1=0, y0=-0.5, y1=nb_variable+0.5,\n",
    "                            line=dict(color=\"black\", width=2), row=1, col=1)\n",
    "        fig_general.add_shape(type=\"line\", x0=0, x1=0, y0=-0.5, y1=0.5,\n",
    "                            line=dict(color=\"black\", width=2), row=2, col=1)\n",
    "\n",
    "    return fig_general\n",
    "        \n",
    "def return_dataframe_client(df, list_client):\n",
    "    return df.loc[df.SK_ID_CURR.isin(list_client)]\n"
   ]
  },
  {
   "cell_type": "code",
   "execution_count": 71,
   "id": "0345718b",
   "metadata": {},
   "outputs": [],
   "source": [
    "def feature_importance_threshold(df, feats, importance, variance_importance = 0.9):\n",
    "\n",
    "    # On récupère le total\n",
    "    variance_total = df[importance].sum()\n",
    "    \n",
    "    # Ce qui va nous permettre d'identifier les variables à afficher\n",
    "    variance_threshold = variance_total * variance_importance\n",
    "    \n",
    "    # On trie\n",
    "    df.sort_values(importance, ascending = False, inplace = True)\n",
    "    \n",
    "    # On mesure la somme continue de l'importance, en partant de la variable la plus importante\n",
    "    cumsum = df[importance].cumsum()\n",
    "    \n",
    "    # On ne sélectionne que les features\n",
    "    cols_num = [cols_num for cols_num, val in zip(cumsum.index, cumsum) if val <= variance_threshold]\n",
    "    \n",
    "    sorted_df = copy.copy(df.loc[df.index.isin(cols_num), :]) \n",
    "    \n",
    "    return sorted_df\n",
    "\n",
    "def figure_feature_importance_dash(df, feats, importance, size, variance_importance = 0.9, color_point = \"plotly\", list_feat = None):\n",
    "    ## \n",
    "    #    Fonction retournant un object de type figure\n",
    "    #    On filtre les variables à afficher selon l'importance qu'ils ont sur le modèle (du plus important au moins)\n",
    "    #    variance_importance = 0.5 : On affiche les variables qui ont 50 % du poids du modèle \n",
    "    #    variance_importance = 1 : On affiche l'ensemble des variables qui contribue au modèle\n",
    "    ##\n",
    "    \n",
    "    # on ajuste la couleur des barres du graphique\n",
    "    if color_point == \"colorblind\":\n",
    "        color_bar = \"#648FFF\"\n",
    "        color_bar_selected = \"#FFB000\"\n",
    "    else :\n",
    "        color_bar = \"blue\"\n",
    "        color_bar_selected = \"red\"\n",
    "        \n",
    "    mask = feature_importance_threshold(df, feats, importance, variance_importance)\n",
    "    \n",
    "\n",
    "    mask.sort_values(by=importance, ascending = True, inplace = True)\n",
    "    \n",
    "    # Permet de standardiser la taille du nom des variables, selon la taille du texte\n",
    "    mask[\"truncated\"] = mask[feats].str[:(60 - size)]\n",
    "    \n",
    "    figure_height = 200 + (mask.shape[0] * (size+1))\n",
    "    \n",
    "    # On instancie un objet px.bar avec les features filtrées\n",
    "    figure = px.bar(mask, \n",
    "                    y=feats, \n",
    "                    x=importance,\n",
    "                    height=figure_height, \n",
    "                   )\n",
    "        \n",
    "    # Si on a une liste de features sélectionnées, on les met en avant\n",
    "    \n",
    "    if list_feat:\n",
    "        colors = [color_bar_selected if f in list_feat else color_bar for f in mask[feats]]\n",
    "        figure.update_traces(marker_color=colors)\n",
    "    else : \n",
    "        figure.update_traces(marker_color=color_bar)\n",
    "        \n",
    "    figure.update_yaxes(ticktext=mask[\"truncated\"], tickvals=list(range(len(mask[\"truncated\"]))))\n",
    "    \n",
    "    figure.update_layout(\n",
    "        title=dict(\n",
    "            text = (\n",
    "                    f\"{mask.shape[0]} variable{'(s)' if mask.shape[0] > 1 else ''} \"\n",
    "                    f\"contribue{'nt' if mask.shape[0] > 1 else ''} <br>à expliquer \"\n",
    "                    f\"{round(variance_importance * 100)} % du modèle\"\n",
    "                ),\n",
    "            font=dict(size=8+size, color=\"black\"),\n",
    "            x=0.5,  \n",
    "            xanchor='center',\n",
    "        ),\n",
    "        margin=dict(l=200 - ((1 - size / 36) * 30), r=20, t=150, b=20),# on va de 50 à 200 (18 à 36 en taille)\n",
    "        font=dict(size=size, color=\"black\"),\n",
    "        xaxis=dict(title = \"Importance (valeur absolue)\"),\n",
    "        yaxis=dict(title = \"\",\n",
    "            tickmode='array',  \n",
    "            tickvals=list(range(mask.shape[0])),  \n",
    "            dtick=1,  \n",
    "            automargin=False),\n",
    "    )\n",
    "    # On retourne la figure\n",
    "    return figure\n"
   ]
  },
  {
   "cell_type": "code",
   "execution_count": 166,
   "id": "e4ea798d",
   "metadata": {},
   "outputs": [],
   "source": [
    "def figure_score_dash(df, scoring_var, selected_client, color_discrete_map, point_size, font_size, proba_threshold_model, marker_type):\n",
    "    \n",
    "    if scoring_var == \"score\" :\n",
    "        threshold = 0\n",
    "        textH = threshold + 5\n",
    "        textB = threshold - 5\n",
    "\n",
    "    elif scoring_var == \"proba_pred_pret\":\n",
    "        threshold = proba_threshold_model\n",
    "        textH = threshold + 0.05\n",
    "        textB = threshold - 0.05\n",
    "        \n",
    "    if scoring_var in [\"score\", \"proba_pred_pret\"]:\n",
    "        figure_score = px.strip(df, y=scoring_var,\n",
    "                    # On fait figurer le nom des clients et leur note\n",
    "                    hover_data=[\"SK_ID_CURR\", \"score_note\"],  \n",
    "                    # On établit la coloration selon la condition de prêt \n",
    "                    color=df[\"prediction_pret\"],  \n",
    "                    color_discrete_map=color_discrete_map,         \n",
    "                    # on actualise les valeurs de l'axe des x\n",
    "                    ).update_xaxes(range=[-0.5, 0.5], tickvals=[0]  \n",
    "\n",
    "                    # On ajoute une ligne horizontale\n",
    "                    ).add_shape(type=\"line\", x0=-1, x1=1, y0=threshold, y1=threshold,\n",
    "                        line=dict(color=\"red\", width=1)\n",
    "\n",
    "                    # On ajoute un texte au dessus de la ligne\n",
    "                    ).add_annotation(text=\"Threshold\", x=-0.4, y=textH, showarrow=False,\n",
    "                        font=dict(color=\"red\", size=20)\n",
    "\n",
    "                    # On ajoute un texte au dessus de la ligne              \n",
    "                    ).add_annotation(text=\"Prêt\", x=0.4, y=textH, showarrow=False,\n",
    "                        font=dict(color=\"black\", size=20)\n",
    "\n",
    "                    # On ajoute un texte en dessous de la ligne\n",
    "                    ).add_annotation(text=\"Non Prêt\", x=0.4, y=textB, showarrow=False,\n",
    "                        font=dict(color=\"black\", size=20)\n",
    "\n",
    "                    # On regroupe tout sur un seul tick\n",
    "                    ).update_traces(offsetgroup=0.5)\n",
    "        \n",
    "        figure_score.update_traces(marker = dict(symbol = marker_type, size=point_size))\n",
    "        \n",
    "        if selected_client is not None :\n",
    "            selected_data_p = df[(df[\"SK_ID_CURR\"].isin(selected_client)) & (df[\"prediction_pret\"] == \"Pret\")]\n",
    "            selected_data_np = df[(df[\"SK_ID_CURR\"].isin(selected_client)) & (df[\"prediction_pret\"] == \"Non pret\")]\n",
    "        \n",
    "            for selected_data in [selected_data_p, selected_data_np]:\n",
    "                if not selected_data.empty:\n",
    "                    trace = px.strip(selected_data, y=scoring_var, color=selected_data[\"prediction_pret\"], \n",
    "                         color_discrete_map=color_discrete_map, hover_data=[\"SK_ID_CURR\", \"score_note\"]\n",
    "                        ).update_traces(marker = dict(symbol = marker_type), \n",
    "                                        marker_size=point_size+18, name=\"Sélectionné(s)\", \n",
    "                                        marker_line_color=\"black\", marker_line_width=2)\n",
    "                else :\n",
    "                    trace = px.strip()\n",
    "                    \n",
    "                figure_score.add_trace(trace.data[0]).update_traces(offsetgroup=0.5)\n",
    "                \n",
    "                \n",
    "\n",
    "    else : \n",
    "        nb_pret = df[df.prediction_pret == 'Pret'].shape[0]\n",
    "        nb_non_pret = df[df.prediction_pret == 'Non pret'].shape[0]\n",
    "        nb_max = df[\"score_note\"].value_counts().max()\n",
    "\n",
    "        figure_score = px.histogram(df.sort_values(\"score_note\"), x = \"score_note\",\n",
    "                    color=df.sort_values(\"score_note\")[\"prediction_pret\"],  \n",
    "                    color_discrete_map=color_discrete_map                       \n",
    "                        # On ajoute un texte au dessus de la ligne              \n",
    "                    ).add_annotation(text=f\"Prêt (n={nb_pret})\", x=1, y=nb_max, showarrow=False,\n",
    "                        font=dict(color=\"black\", size=20)\n",
    "\n",
    "                    # On ajoute un texte en dessous de la ligne\n",
    "                    ).add_annotation(text=f\"Non prêt (n={nb_non_pret})\", x=len(df[\"score_note\"].unique()) - 3, y=nb_max, showarrow=False,\n",
    "                        font=dict(color=\"black\", size=20))\n",
    "\n",
    "        figure_score.update_xaxes(title=dict(\n",
    "                    text = \"Distribution des clients selont leur score note\",\n",
    "                    font=dict(size=20, color=\"black\"),\n",
    "                ))\n",
    "        figure_score.update_yaxes(title=dict(\n",
    "                    text = \"Comptage (nombre de client(s))\",\n",
    "                    font=dict(size=20, color=\"black\"),\n",
    "                ))\n",
    "\n",
    "    figure_score.update_layout(font=dict(size=font_size, color=\"black\"))\n",
    "    \n",
    "    return figure_score"
   ]
  },
  {
   "cell_type": "code",
   "execution_count": 241,
   "id": "a94d022b",
   "metadata": {},
   "outputs": [
    {
     "data": {
      "application/vnd.plotly.v1+json": {
       "config": {
        "plotlyServerURL": "https://plot.ly"
       },
       "data": [
        {
         "customdata": [
          [
           100002,
           "f-"
          ],
          [
           100006,
           "d++"
          ],
          [
           100007,
           "d++"
          ],
          [
           100008,
           "d++"
          ],
          [
           100019,
           "d++"
          ],
          [
           100020,
           "f+"
          ],
          [
           100024,
           "d-"
          ],
          [
           100025,
           "d++"
          ],
          [
           100026,
           "e-"
          ],
          [
           100031,
           "d-"
          ],
          [
           100035,
           "e++"
          ],
          [
           100047,
           "e--"
          ],
          [
           100048,
           "e--"
          ],
          [
           100049,
           "d++"
          ],
          [
           100051,
           "e-"
          ],
          [
           100052,
           "d-"
          ],
          [
           100053,
           "d--"
          ],
          [
           100056,
           "d+"
          ],
          [
           100063,
           "d--"
          ],
          [
           100064,
           "d--"
          ],
          [
           100072,
           "e++"
          ],
          [
           100076,
           "e++"
          ],
          [
           100077,
           "d+"
          ],
          [
           100079,
           "d-"
          ],
          [
           100085,
           "e-"
          ],
          [
           100086,
           "d+"
          ],
          [
           100087,
           "e++"
          ],
          [
           100089,
           "d-"
          ],
          [
           100095,
           "d+"
          ],
          [
           100098,
           "d+"
          ],
          [
           100099,
           "d--"
          ],
          [
           100110,
           "d-"
          ],
          [
           100111,
           "d+"
          ],
          [
           100112,
           "e-"
          ],
          [
           100114,
           "f++"
          ],
          [
           100115,
           "d++"
          ],
          [
           100116,
           "d--"
          ],
          [
           100119,
           "d--"
          ],
          [
           100120,
           "f++"
          ],
          [
           100121,
           "d-"
          ],
          [
           100122,
           "d+"
          ],
          [
           100130,
           "e-"
          ],
          [
           100133,
           "e+"
          ],
          [
           100135,
           "d-"
          ],
          [
           100137,
           "d+"
          ],
          [
           100139,
           "e++"
          ],
          [
           100142,
           "e++"
          ],
          [
           100144,
           "d++"
          ],
          [
           100149,
           "f-"
          ],
          [
           100155,
           "e++"
          ],
          [
           100157,
           "d--"
          ],
          [
           100160,
           "d+"
          ],
          [
           100161,
           "d--"
          ],
          [
           100162,
           "e-"
          ],
          [
           100163,
           "e++"
          ],
          [
           100166,
           "d-"
          ],
          [
           100167,
           "d--"
          ],
          [
           100177,
           "d+"
          ],
          [
           100181,
           "d-"
          ],
          [
           100189,
           "e-"
          ],
          [
           100192,
           "e++"
          ],
          [
           100194,
           "e++"
          ],
          [
           100197,
           "d+"
          ],
          [
           100202,
           "d--"
          ],
          [
           100204,
           "e+"
          ],
          [
           100205,
           "f+"
          ],
          [
           100206,
           "e-"
          ],
          [
           100209,
           "d+"
          ],
          [
           100211,
           "e--"
          ],
          [
           100217,
           "d+"
          ],
          [
           100227,
           "d--"
          ],
          [
           100228,
           "d-"
          ],
          [
           100230,
           "e++"
          ],
          [
           100233,
           "d+"
          ],
          [
           100235,
           "e-"
          ],
          [
           100237,
           "d--"
          ],
          [
           100239,
           "d+"
          ],
          [
           100240,
           "e--"
          ],
          [
           100243,
           "d-"
          ],
          [
           100244,
           "e-"
          ],
          [
           100246,
           "f+"
          ],
          [
           100247,
           "d-"
          ],
          [
           100249,
           "d-"
          ],
          [
           100251,
           "d++"
          ],
          [
           100258,
           "e+"
          ],
          [
           100259,
           "e++"
          ],
          [
           100263,
           "d++"
          ],
          [
           100265,
           "e++"
          ],
          [
           100268,
           "d+"
          ],
          [
           100269,
           "e++"
          ],
          [
           100272,
           "e+"
          ],
          [
           100273,
           "e--"
          ],
          [
           100276,
           "d+"
          ],
          [
           100285,
           "d-"
          ],
          [
           100286,
           "d++"
          ],
          [
           100288,
           "d+"
          ],
          [
           100290,
           "f+"
          ],
          [
           100291,
           "e+"
          ],
          [
           100292,
           "d-"
          ],
          [
           100295,
           "d++"
          ],
          [
           100297,
           "d++"
          ],
          [
           100300,
           "e--"
          ],
          [
           100301,
           "f+"
          ],
          [
           100302,
           "e--"
          ],
          [
           100309,
           "d++"
          ],
          [
           100310,
           "e+"
          ],
          [
           100321,
           "d--"
          ],
          [
           100325,
           "d-"
          ],
          [
           100326,
           "d--"
          ],
          [
           100329,
           "d++"
          ],
          [
           100336,
           "d+"
          ],
          [
           100342,
           "f+"
          ],
          [
           100345,
           "d+"
          ],
          [
           100349,
           "e-"
          ],
          [
           100353,
           "e-"
          ],
          [
           100354,
           "e-"
          ],
          [
           100355,
           "e--"
          ],
          [
           100356,
           "d-"
          ],
          [
           100361,
           "d-"
          ],
          [
           100375,
           "e+"
          ],
          [
           100376,
           "f+"
          ],
          [
           100377,
           "d+"
          ],
          [
           100383,
           "e++"
          ],
          [
           100396,
           "f+"
          ],
          [
           100403,
           "e+"
          ],
          [
           100405,
           "d+"
          ],
          [
           100406,
           "d++"
          ],
          [
           100407,
           "d++"
          ],
          [
           100409,
           "e-"
          ],
          [
           100411,
           "d++"
          ],
          [
           100418,
           "d++"
          ],
          [
           100420,
           "d-"
          ],
          [
           100424,
           "d--"
          ],
          [
           100427,
           "d+"
          ],
          [
           100429,
           "e--"
          ],
          [
           100430,
           "d--"
          ],
          [
           100431,
           "f++"
          ],
          [
           100439,
           "f+"
          ],
          [
           100452,
           "e-"
          ],
          [
           100456,
           "e-"
          ],
          [
           100464,
           "d++"
          ],
          [
           100467,
           "d++"
          ],
          [
           100468,
           "d+"
          ],
          [
           100472,
           "e--"
          ],
          [
           100473,
           "d-"
          ],
          [
           100476,
           "d++"
          ],
          [
           100477,
           "f++"
          ],
          [
           100479,
           "d-"
          ],
          [
           100480,
           "d+"
          ],
          [
           100482,
           "d+"
          ],
          [
           100485,
           "d--"
          ],
          [
           100490,
           "e+"
          ],
          [
           100491,
           "f+"
          ],
          [
           100492,
           "d++"
          ],
          [
           100498,
           "e-"
          ],
          [
           100501,
           "d++"
          ],
          [
           100504,
           "e++"
          ],
          [
           100505,
           "d--"
          ],
          [
           100506,
           "d+"
          ],
          [
           100507,
           "d--"
          ],
          [
           100511,
           "d-"
          ],
          [
           100514,
           "d++"
          ],
          [
           100520,
           "d++"
          ],
          [
           100525,
           "e++"
          ],
          [
           100526,
           "d--"
          ],
          [
           100530,
           "d++"
          ],
          [
           100531,
           "d++"
          ],
          [
           100532,
           "f+"
          ],
          [
           100538,
           "d-"
          ],
          [
           100540,
           "e++"
          ],
          [
           100541,
           "f+"
          ],
          [
           100543,
           "d-"
          ],
          [
           100544,
           "f++"
          ],
          [
           100546,
           "d-"
          ],
          [
           100547,
           "f+"
          ],
          [
           100549,
           "e++"
          ],
          [
           100555,
           "e-"
          ],
          [
           100558,
           "f-"
          ],
          [
           100560,
           "d++"
          ],
          [
           100563,
           "d--"
          ],
          [
           100567,
           "e-"
          ],
          [
           100571,
           "e++"
          ],
          [
           100573,
           "d++"
          ]
         ],
         "hovertemplate": "prediction_pret=Non pret<br>CODE_GENDER=%{x}<br>EXT_SOURCE_2=%{y}<br>SK_ID_CURR=%{customdata[0]}<br>score_note=%{customdata[1]}<extra></extra>",
         "legendgroup": "Non pret",
         "marker": {
          "color": "red",
          "size": 12,
          "symbol": "circle"
         },
         "mode": "markers",
         "name": "Non pret",
         "orientation": "v",
         "showlegend": true,
         "type": "scatter",
         "x": [
          0,
          1,
          0,
          0,
          0,
          0,
          0,
          1,
          1,
          1,
          1,
          0,
          1,
          1,
          0,
          1,
          1,
          0,
          1,
          1,
          0,
          0,
          0,
          0,
          0,
          1,
          1,
          0,
          1,
          0,
          1,
          0,
          1,
          0,
          1,
          1,
          1,
          1,
          1,
          0,
          1,
          1,
          1,
          0,
          1,
          1,
          0,
          1,
          0,
          0,
          0,
          0,
          1,
          1,
          1,
          1,
          1,
          0,
          1,
          1,
          1,
          1,
          1,
          1,
          1,
          1,
          0,
          0,
          0,
          1,
          0,
          1,
          1,
          1,
          1,
          1,
          1,
          0,
          0,
          0,
          1,
          1,
          1,
          0,
          1,
          0,
          1,
          1,
          1,
          0,
          1,
          1,
          1,
          1,
          0,
          1,
          0,
          1,
          1,
          0,
          0,
          0,
          0,
          1,
          1,
          0,
          0,
          1,
          0,
          1,
          1,
          0,
          1,
          1,
          1,
          1,
          0,
          1,
          0,
          0,
          0,
          0,
          0,
          0,
          0,
          0,
          1,
          1,
          0,
          0,
          1,
          1,
          0,
          1,
          0,
          1,
          1,
          0,
          0,
          0,
          0,
          1,
          1,
          0,
          0,
          0,
          0,
          0,
          0,
          1,
          0,
          0,
          0,
          1,
          0,
          0,
          1,
          0,
          0,
          0,
          1,
          0,
          1,
          0,
          0,
          1,
          1,
          0,
          0,
          1,
          1,
          1,
          1,
          0,
          0,
          1,
          1,
          0,
          1,
          1,
          0,
          0,
          1
         ],
         "xaxis": "x",
         "y": [
          0.2629485927471776,
          0.6504416904014653,
          0.3227382869704046,
          0.3542247319929012,
          0.34663398139668,
          0.2363778398884225,
          0.113374512719927,
          0.2337669575081463,
          0.457142971588935,
          0.5484771599678789,
          0.479987342189869,
          0.306840586048305,
          0.0373152355612163,
          0.6742032101473874,
          0.6315186311742824,
          0.535542260363498,
          0.2476647173356162,
          0.5239340474953537,
          0.6166372926426479,
          0.6227082733555896,
          0.0265407750366898,
          0.5848873555356944,
          0.6473478219828046,
          0.5619229565929612,
          0.3687189849837431,
          0.5698732368655826,
          0.5720641471414096,
          0.5500579930157645,
          0.3045061145430549,
          0.5970811533321667,
          0.6605789818593445,
          0.6405493008893001,
          0.608604105963283,
          0.4323402118056743,
          0.1549370735653434,
          0.3343001962973505,
          0.7002735745029195,
          0.5002642944981995,
          0.1699529509371729,
          0.5861504130199274,
          0.0472914244045298,
          0.2820694905045227,
          0.3167548800416005,
          0.7206401576263843,
          0.0867193865852445,
          0.6014083651352106,
          0.0648582778736916,
          0.6116366959675879,
          0.1644631394414229,
          0.2820783472350259,
          0.147684817245518,
          0.6319612327366237,
          0.2653117484731741,
          0.5982432424547262,
          0.3909932576851988,
          0.5248175794365513,
          0.5513078693516321,
          0.6036550365741279,
          0.182171374180396,
          0.0102716488262289,
          0.0862529149111319,
          0.1117667170159572,
          0.4722858229404335,
          0.1219059405425988,
          0.1715351212035425,
          0.0462155273798622,
          0.1642589058565359,
          0.3721102589242765,
          0.5750860506591902,
          0.3914359469034673,
          0.6348960636020012,
          0.4088706121454352,
          0.3715433102138179,
          0.2015836822864006,
          0.505288174383516,
          0.5470362331184999,
          0.7573276838423868,
          0.628531689899611,
          0.3940749254999855,
          0.1035702527837697,
          0.044020822931951,
          0.6577836105245277,
          0.0934453265892372,
          0.5810223448295264,
          0.2338648947760501,
          0.3791620413147299,
          0.2353137627595652,
          0.5777182931688097,
          0.6466885821859959,
          0.2858978721410488,
          0.1952575702271164,
          0.1263320626915722,
          0.2168492990482221,
          0.4354125753011015,
          0.7109249275557172,
          0.5971811044818364,
          0.2587283392986726,
          0.18241258581846,
          0.0654523265728891,
          0.3023938171668298,
          0.6126231664059472,
          0.474891701732854,
          0.2532889043013798,
          0.4794306372473876,
          0.3341688139258219,
          0.1601580935334256,
          0.6336075825314255,
          0.5884083428119181,
          0.0634547973481448,
          0.0813107269975509,
          0.6290421096825476,
          0.031275077373225,
          0.5215499611050477,
          0.6727124369201232,
          0.1671032782815753,
          0.0420101655775344,
          0.1842197251959363,
          0.5619552546028269,
          0.4339187290167497,
          0.2916239092557009,
          0.4459873293894053,
          null,
          0.3248209867959093,
          0.2939875845022613,
          0.3241738848541972,
          0.381816634240153,
          0.1607413388003202,
          0.540298243263855,
          0.5180129725133938,
          0.6097806994342824,
          0.7376641513695528,
          0.6104257226549659,
          0.50060870864451,
          0.3964846075383985,
          0.2629952143123565,
          0.2160482176858288,
          0.4141927781705488,
          0.4822091852232648,
          0.2665197753925157,
          0.5487262610762287,
          0.3611072890083497,
          0.4259653165504175,
          0.2430409934483329,
          0.3658072346409718,
          0.5998137228666071,
          0.3660203315419941,
          0.6160271197421764,
          0.5735838084148978,
          0.6642416338253251,
          0.3067894273830089,
          0.3359812288049393,
          0.281799441342796,
          0.0826271298687096,
          0.6258165762682069,
          0.3613343470040338,
          0.5297775848707685,
          0.5421769202693426,
          0.6434793699778232,
          0.5451499236047679,
          0.266327452346679,
          0.3918058596048165,
          0.5977122880781701,
          0.3260787531984177,
          0.4992747869288629,
          0.4601020162546491,
          0.4451986134988326,
          0.6574734264340084,
          0.2906085390815557,
          0.4131107931387085,
          0.3065058156503732,
          0.0845500559682115,
          0.5880428716604243,
          0.0345763370775344,
          0.1621921059592286,
          0.2206047627669316,
          0.1937330395635624,
          0.5158451064098964,
          0.197611644362726,
          0.5744607287321212,
          0.4604768526623809,
          0.2916600497102669,
          0.1326310788663782,
          0.5682483704960352
         ],
         "yaxis": "y"
        },
        {
         "customdata": [
          [
           100003,
           "a+"
          ],
          [
           100004,
           "b-"
          ],
          [
           100009,
           "a+"
          ],
          [
           100010,
           "a--"
          ],
          [
           100011,
           "c-"
          ],
          [
           100012,
           "c-"
          ],
          [
           100014,
           "c+"
          ],
          [
           100015,
           "b++"
          ],
          [
           100016,
           "c--"
          ],
          [
           100017,
           "b-"
          ],
          [
           100018,
           "b--"
          ],
          [
           100021,
           "b-"
          ],
          [
           100022,
           "b-"
          ],
          [
           100023,
           "c+"
          ],
          [
           100027,
           "a--"
          ],
          [
           100029,
           "b++"
          ],
          [
           100030,
           "c+"
          ],
          [
           100032,
           "c++"
          ],
          [
           100033,
           "b--"
          ],
          [
           100034,
           "b--"
          ],
          [
           100036,
           "c-"
          ],
          [
           100037,
           "b-"
          ],
          [
           100039,
           "c-"
          ],
          [
           100040,
           "c++"
          ],
          [
           100041,
           "c++"
          ],
          [
           100043,
           "b--"
          ],
          [
           100044,
           "b--"
          ],
          [
           100045,
           "a--"
          ],
          [
           100046,
           "a-"
          ],
          [
           100050,
           "a--"
          ],
          [
           100054,
           "c-"
          ],
          [
           100055,
           "c+"
          ],
          [
           100058,
           "b+"
          ],
          [
           100059,
           "b++"
          ],
          [
           100060,
           "c-"
          ],
          [
           100061,
           "b-"
          ],
          [
           100062,
           "b-"
          ],
          [
           100068,
           "c-"
          ],
          [
           100069,
           "c-"
          ],
          [
           100070,
           "c-"
          ],
          [
           100071,
           "b++"
          ],
          [
           100073,
           "c--"
          ],
          [
           100075,
           "b--"
          ],
          [
           100078,
           "b--"
          ],
          [
           100080,
           "b--"
          ],
          [
           100081,
           "c--"
          ],
          [
           100082,
           "c+"
          ],
          [
           100083,
           "c+"
          ],
          [
           100084,
           "c--"
          ],
          [
           100088,
           "b++"
          ],
          [
           100093,
           "b--"
          ],
          [
           100094,
           "b++"
          ],
          [
           100096,
           "c--"
          ],
          [
           100097,
           "c--"
          ],
          [
           100100,
           "b+"
          ],
          [
           100101,
           "b++"
          ],
          [
           100102,
           "b-"
          ],
          [
           100103,
           "b--"
          ],
          [
           100104,
           "b--"
          ],
          [
           100105,
           "b--"
          ],
          [
           100108,
           "c+"
          ],
          [
           100113,
           "c-"
          ],
          [
           100118,
           "b-"
          ],
          [
           100123,
           "c+"
          ],
          [
           100124,
           "b-"
          ],
          [
           100125,
           "b--"
          ],
          [
           100126,
           "b+"
          ],
          [
           100127,
           "b--"
          ],
          [
           100129,
           "a+"
          ],
          [
           100131,
           "c-"
          ],
          [
           100132,
           "b++"
          ],
          [
           100134,
           "b+"
          ],
          [
           100136,
           "b+"
          ],
          [
           100138,
           "b-"
          ],
          [
           100140,
           "b--"
          ],
          [
           100143,
           "a-"
          ],
          [
           100145,
           "a--"
          ],
          [
           100146,
           "c-"
          ],
          [
           100147,
           "c++"
          ],
          [
           100148,
           "c--"
          ],
          [
           100151,
           "b--"
          ],
          [
           100152,
           "c-"
          ],
          [
           100153,
           "c--"
          ],
          [
           100154,
           "c++"
          ],
          [
           100156,
           "b++"
          ],
          [
           100158,
           "c++"
          ],
          [
           100159,
           "b+"
          ],
          [
           100164,
           "b--"
          ],
          [
           100165,
           "a+"
          ],
          [
           100173,
           "b--"
          ],
          [
           100174,
           "b++"
          ],
          [
           100175,
           "c--"
          ],
          [
           100176,
           "b+"
          ],
          [
           100178,
           "c++"
          ],
          [
           100179,
           "b-"
          ],
          [
           100180,
           "b-"
          ],
          [
           100182,
           "c+"
          ],
          [
           100183,
           "b++"
          ],
          [
           100185,
           "a--"
          ],
          [
           100186,
           "b-"
          ],
          [
           100188,
           "a--"
          ],
          [
           100190,
           "a--"
          ],
          [
           100191,
           "a-"
          ],
          [
           100193,
           "b++"
          ],
          [
           100195,
           "b--"
          ],
          [
           100196,
           "c--"
          ],
          [
           100198,
           "c-"
          ],
          [
           100199,
           "c--"
          ],
          [
           100200,
           "b-"
          ],
          [
           100201,
           "b--"
          ],
          [
           100203,
           "b--"
          ],
          [
           100207,
           "c-"
          ],
          [
           100208,
           "b--"
          ],
          [
           100210,
           "b-"
          ],
          [
           100213,
           "c--"
          ],
          [
           100214,
           "c-"
          ],
          [
           100215,
           "b++"
          ],
          [
           100216,
           "b-"
          ],
          [
           100218,
           "c--"
          ],
          [
           100219,
           "c++"
          ],
          [
           100220,
           "b-"
          ],
          [
           100221,
           "a+"
          ],
          [
           100224,
           "c++"
          ],
          [
           100225,
           "b+"
          ],
          [
           100226,
           "b+"
          ],
          [
           100229,
           "b++"
          ],
          [
           100231,
           "b-"
          ],
          [
           100234,
           "b--"
          ],
          [
           100236,
           "c+"
          ],
          [
           100238,
           "b-"
          ],
          [
           100242,
           "c-"
          ],
          [
           100248,
           "c--"
          ],
          [
           100250,
           "c+"
          ],
          [
           100252,
           "c-"
          ],
          [
           100254,
           "a+"
          ],
          [
           100255,
           "b-"
          ],
          [
           100257,
           "b--"
          ],
          [
           100260,
           "b-"
          ],
          [
           100261,
           "c-"
          ],
          [
           100262,
           "c+"
          ],
          [
           100264,
           "c++"
          ],
          [
           100266,
           "c-"
          ],
          [
           100267,
           "b-"
          ],
          [
           100270,
           "a++"
          ],
          [
           100274,
           "b+"
          ],
          [
           100275,
           "a--"
          ],
          [
           100277,
           "b++"
          ],
          [
           100279,
           "c-"
          ],
          [
           100281,
           "b--"
          ],
          [
           100282,
           "b+"
          ],
          [
           100283,
           "b++"
          ],
          [
           100284,
           "b-"
          ],
          [
           100287,
           "a--"
          ],
          [
           100289,
           "a+"
          ],
          [
           100293,
           "b++"
          ],
          [
           100294,
           "b--"
          ],
          [
           100296,
           "c+"
          ],
          [
           100298,
           "b++"
          ],
          [
           100299,
           "a-"
          ],
          [
           100303,
           "c--"
          ],
          [
           100304,
           "a+"
          ],
          [
           100305,
           "c-"
          ],
          [
           100307,
           "c++"
          ],
          [
           100308,
           "b-"
          ],
          [
           100313,
           "a-"
          ],
          [
           100314,
           "b--"
          ],
          [
           100315,
           "b-"
          ],
          [
           100316,
           "b-"
          ],
          [
           100317,
           "a--"
          ],
          [
           100318,
           "c+"
          ],
          [
           100319,
           "c-"
          ],
          [
           100320,
           "c+"
          ],
          [
           100322,
           "a--"
          ],
          [
           100323,
           "b-"
          ],
          [
           100324,
           "c-"
          ],
          [
           100327,
           "c-"
          ],
          [
           100328,
           "a--"
          ],
          [
           100332,
           "c-"
          ],
          [
           100333,
           "c+"
          ],
          [
           100334,
           "c+"
          ],
          [
           100335,
           "b++"
          ],
          [
           100337,
           "b--"
          ],
          [
           100338,
           "c-"
          ],
          [
           100339,
           "b++"
          ],
          [
           100340,
           "c--"
          ],
          [
           100341,
           "c--"
          ],
          [
           100343,
           "c--"
          ],
          [
           100344,
           "b++"
          ],
          [
           100346,
           "b++"
          ],
          [
           100347,
           "a--"
          ],
          [
           100348,
           "b-"
          ],
          [
           100350,
           "c-"
          ],
          [
           100351,
           "b++"
          ],
          [
           100357,
           "b-"
          ],
          [
           100359,
           "c++"
          ],
          [
           100360,
           "b++"
          ],
          [
           100362,
           "b++"
          ],
          [
           100363,
           "b++"
          ],
          [
           100364,
           "c-"
          ],
          [
           100365,
           "b--"
          ],
          [
           100366,
           "b--"
          ],
          [
           100368,
           "b+"
          ],
          [
           100369,
           "c+"
          ],
          [
           100370,
           "c-"
          ],
          [
           100371,
           "a--"
          ],
          [
           100372,
           "b--"
          ],
          [
           100373,
           "c++"
          ],
          [
           100374,
           "c++"
          ],
          [
           100378,
           "c+"
          ],
          [
           100379,
           "c+"
          ],
          [
           100380,
           "c-"
          ],
          [
           100381,
           "c+"
          ],
          [
           100387,
           "c--"
          ],
          [
           100388,
           "c++"
          ],
          [
           100389,
           "b-"
          ],
          [
           100390,
           "b++"
          ],
          [
           100391,
           "c+"
          ],
          [
           100392,
           "c-"
          ],
          [
           100393,
           "a+"
          ],
          [
           100394,
           "b+"
          ],
          [
           100395,
           "b++"
          ],
          [
           100397,
           "a+"
          ],
          [
           100398,
           "c+"
          ],
          [
           100400,
           "a--"
          ],
          [
           100401,
           "c+"
          ],
          [
           100402,
           "c-"
          ],
          [
           100408,
           "c-"
          ],
          [
           100410,
           "b--"
          ],
          [
           100412,
           "c+"
          ],
          [
           100413,
           "b--"
          ],
          [
           100414,
           "c++"
          ],
          [
           100415,
           "c--"
          ],
          [
           100417,
           "b--"
          ],
          [
           100419,
           "c-"
          ],
          [
           100421,
           "b--"
          ],
          [
           100423,
           "c+"
          ],
          [
           100425,
           "b-"
          ],
          [
           100428,
           "c++"
          ],
          [
           100432,
           "b--"
          ],
          [
           100433,
           "c--"
          ],
          [
           100434,
           "b-"
          ],
          [
           100435,
           "b-"
          ],
          [
           100436,
           "a--"
          ],
          [
           100437,
           "b--"
          ],
          [
           100440,
           "c+"
          ],
          [
           100441,
           "b-"
          ],
          [
           100442,
           "b+"
          ],
          [
           100443,
           "c-"
          ],
          [
           100448,
           "c-"
          ],
          [
           100449,
           "b--"
          ],
          [
           100451,
           "b--"
          ],
          [
           100453,
           "c+"
          ],
          [
           100454,
           "b-"
          ],
          [
           100455,
           "a-"
          ],
          [
           100457,
           "b--"
          ],
          [
           100458,
           "b-"
          ],
          [
           100459,
           "c-"
          ],
          [
           100460,
           "c+"
          ],
          [
           100461,
           "c-"
          ],
          [
           100462,
           "c--"
          ],
          [
           100463,
           "b++"
          ],
          [
           100465,
           "c+"
          ],
          [
           100469,
           "c+"
          ],
          [
           100470,
           "b++"
          ],
          [
           100471,
           "b--"
          ],
          [
           100474,
           "a--"
          ],
          [
           100475,
           "b--"
          ],
          [
           100478,
           "b-"
          ],
          [
           100481,
           "a--"
          ],
          [
           100486,
           "b+"
          ],
          [
           100487,
           "c--"
          ],
          [
           100488,
           "a-"
          ],
          [
           100489,
           "c-"
          ],
          [
           100493,
           "c-"
          ],
          [
           100495,
           "c--"
          ],
          [
           100496,
           "b-"
          ],
          [
           100497,
           "b++"
          ],
          [
           100499,
           "b++"
          ],
          [
           100500,
           "b--"
          ],
          [
           100502,
           "c--"
          ],
          [
           100503,
           "c--"
          ],
          [
           100508,
           "a-"
          ],
          [
           100509,
           "b-"
          ],
          [
           100513,
           "c++"
          ],
          [
           100515,
           "c++"
          ],
          [
           100516,
           "a--"
          ],
          [
           100518,
           "b++"
          ],
          [
           100519,
           "c-"
          ],
          [
           100521,
           "c-"
          ],
          [
           100522,
           "c+"
          ],
          [
           100523,
           "c--"
          ],
          [
           100524,
           "c-"
          ],
          [
           100527,
           "a--"
          ],
          [
           100528,
           "b--"
          ],
          [
           100529,
           "c-"
          ],
          [
           100533,
           "b+"
          ],
          [
           100534,
           "b+"
          ],
          [
           100535,
           "c+"
          ],
          [
           100536,
           "a-"
          ],
          [
           100537,
           "c-"
          ],
          [
           100539,
           "a-"
          ],
          [
           100542,
           "b+"
          ],
          [
           100545,
           "b++"
          ],
          [
           100550,
           "c-"
          ],
          [
           100554,
           "a+"
          ],
          [
           100556,
           "b++"
          ],
          [
           100557,
           "c++"
          ],
          [
           100559,
           "a--"
          ],
          [
           100562,
           "c--"
          ],
          [
           100564,
           "c+"
          ],
          [
           100565,
           "c++"
          ],
          [
           100566,
           "b++"
          ],
          [
           100570,
           "b--"
          ],
          [
           100572,
           "c++"
          ],
          [
           100574,
           "b+"
          ],
          [
           100575,
           "a--"
          ],
          [
           100576,
           "b-"
          ]
         ],
         "hovertemplate": "prediction_pret=Pret<br>CODE_GENDER=%{x}<br>EXT_SOURCE_2=%{y}<br>SK_ID_CURR=%{customdata[0]}<br>score_note=%{customdata[1]}<extra></extra>",
         "legendgroup": "Pret",
         "marker": {
          "color": "blue",
          "size": 12,
          "symbol": "circle"
         },
         "mode": "markers",
         "name": "Pret",
         "orientation": "v",
         "showlegend": true,
         "type": "scatter",
         "x": [
          1,
          0,
          1,
          0,
          1,
          0,
          1,
          1,
          1,
          0,
          1,
          1,
          1,
          1,
          1,
          0,
          1,
          0,
          0,
          0,
          1,
          1,
          0,
          1,
          1,
          1,
          0,
          1,
          0,
          1,
          1,
          1,
          1,
          0,
          0,
          1,
          0,
          0,
          0,
          0,
          1,
          0,
          1,
          1,
          1,
          0,
          0,
          0,
          0,
          1,
          1,
          1,
          1,
          0,
          0,
          1,
          1,
          1,
          1,
          1,
          1,
          0,
          1,
          1,
          0,
          1,
          0,
          0,
          1,
          1,
          1,
          1,
          0,
          0,
          1,
          0,
          1,
          0,
          1,
          1,
          0,
          1,
          0,
          0,
          1,
          0,
          1,
          1,
          1,
          1,
          1,
          1,
          1,
          1,
          1,
          1,
          1,
          1,
          0,
          1,
          1,
          0,
          1,
          1,
          0,
          1,
          0,
          1,
          1,
          1,
          1,
          1,
          0,
          1,
          1,
          1,
          1,
          1,
          0,
          0,
          1,
          1,
          1,
          0,
          1,
          1,
          0,
          1,
          0,
          0,
          0,
          1,
          1,
          1,
          0,
          0,
          1,
          0,
          1,
          0,
          1,
          1,
          0,
          1,
          0,
          1,
          0,
          0,
          1,
          1,
          1,
          0,
          1,
          0,
          1,
          1,
          0,
          1,
          1,
          1,
          1,
          0,
          0,
          0,
          1,
          0,
          1,
          1,
          1,
          1,
          1,
          0,
          0,
          0,
          1,
          0,
          1,
          1,
          1,
          0,
          1,
          1,
          1,
          0,
          1,
          0,
          0,
          0,
          1,
          1,
          1,
          1,
          1,
          1,
          0,
          1,
          1,
          1,
          1,
          1,
          0,
          1,
          1,
          1,
          1,
          1,
          1,
          1,
          1,
          0,
          1,
          1,
          0,
          1,
          0,
          1,
          1,
          0,
          0,
          0,
          0,
          1,
          1,
          1,
          1,
          1,
          1,
          1,
          1,
          0,
          1,
          1,
          1,
          1,
          0,
          1,
          1,
          1,
          1,
          1,
          1,
          1,
          1,
          1,
          1,
          1,
          1,
          1,
          1,
          1,
          1,
          0,
          0,
          1,
          1,
          1,
          0,
          1,
          1,
          0,
          1,
          0,
          0,
          1,
          1,
          0,
          1,
          1,
          0,
          1,
          0,
          1,
          0,
          1,
          1,
          1,
          0,
          1,
          1,
          1,
          1,
          1,
          1,
          1,
          1,
          1,
          1,
          1,
          1,
          1,
          0,
          0,
          1,
          1,
          1,
          0,
          1,
          0,
          1,
          1,
          0,
          1,
          1,
          1,
          1,
          1,
          1,
          1,
          0,
          0,
          1,
          1,
          1,
          1,
          0,
          0,
          1
         ],
         "xaxis": "x",
         "y": [
          0.6222457752555098,
          0.5559120833904428,
          0.7239998516953141,
          0.7142792864482229,
          0.2057472880073281,
          0.7466436294590924,
          0.6518623334244781,
          0.5551831615131809,
          0.7150418188660659,
          0.5669066132460429,
          0.6426562048311103,
          0.6835133461914255,
          0.7064284028871654,
          0.5866171400119664,
          0.6243047373592765,
          0.7861793090532118,
          0.6514056365297631,
          0.5411237022695412,
          0.6850109901296888,
          0.5027790378786304,
          0.6273004007953609,
          0.5594667916353414,
          0.3217448956617718,
          0.1724975081477771,
          0.6631580756296298,
          0.6816988025574287,
          0.7197985370372056,
          0.6507647995068742,
          0.7380532835697358,
          0.7661378050275851,
          0.0892406534424171,
          0.5891866296961207,
          0.4508497225560816,
          0.7133545848531052,
          0.705947456699447,
          0.7029791046049891,
          0.6628649268152181,
          0.6091352920795285,
          0.2567370429595146,
          0.6535972121081295,
          0.5706663563799912,
          0.7330511930996613,
          0.6645439411246608,
          0.5172704004425673,
          0.1238882922844139,
          0.6454384930609306,
          0.6865047975453018,
          0.7071263161734994,
          0.5705270507243844,
          0.5851740300889305,
          0.4885999153777029,
          0.5827354769124312,
          0.0239523667712844,
          0.3573422337147276,
          0.495765140717496,
          0.7162122102538987,
          0.6611083077510267,
          0.7180575365896832,
          0.6446273721560554,
          0.2547599571469118,
          0.7566679797246073,
          0.5930185238421518,
          0.6263029188866104,
          0.3993660764222056,
          0.7103178570703124,
          0.5713305828391398,
          0.7050933282515942,
          0.6870034445422084,
          0.6102072901939566,
          0.7079724741176917,
          0.7112888072636568,
          0.7492408359410063,
          0.6820166294931829,
          0.6075618184170141,
          0.7158609528990171,
          0.6781247611812603,
          0.7464864055627681,
          0.2823264042190451,
          0.4109070009841619,
          0.6605593694772599,
          0.6952191372191353,
          0.1654420733377721,
          0.6680204349150283,
          0.4949615763457107,
          0.5978227034457954,
          0.6837025341222017,
          0.5712502464772474,
          0.6220298665860468,
          0.6466885821859959,
          0.6363951652298555,
          0.7047931325938472,
          0.7636485619996934,
          0.5852908069048889,
          0.7651254360605889,
          0.6161564242321512,
          0.5098519541101603,
          0.7518692268821991,
          0.60043294901342,
          0.557347622511613,
          0.6413041903506802,
          0.7024628947445616,
          0.5858586300023704,
          0.6887921778530354,
          0.7488544429116339,
          0.5477730476270279,
          0.593340422792271,
          0.7489161279000881,
          0.7044244680571375,
          0.640040616163284,
          0.6015603738443187,
          0.6405140556837132,
          0.6717825437089173,
          0.6344549499357989,
          0.6219784526230758,
          0.4953660887502677,
          0.5002314931327102,
          0.2653117484731741,
          0.7094531689636673,
          0.7494092451416423,
          0.6933579251678945,
          0.6263387445759298,
          0.5924589685675292,
          0.5986321123746743,
          0.7221783702089665,
          0.6365722494978974,
          0.6410123825293345,
          0.4973012633185316,
          0.5839260467408239,
          0.4306182973609284,
          0.6456336382884252,
          0.7183142380543178,
          0.2234945061552079,
          0.2954329912505275,
          0.6709671766393199,
          0.7504426912158406,
          0.6118859962683346,
          0.5187008727721591,
          0.7057703891585944,
          0.5080921823639696,
          0.6904584635520693,
          0.3051502285076308,
          0.6958165307388609,
          0.6815374524920329,
          0.7140560925710472,
          0.6984528683753916,
          0.7319070919171349,
          0.5745141843911776,
          0.4586845685086158,
          0.6609074073182916,
          0.5232303868528839,
          0.6535724567257833,
          0.3282689967736757,
          0.6555304997519134,
          0.6587035208707981,
          0.495546481404605,
          0.4413832573630213,
          0.7117915010199288,
          0.4923105677275208,
          0.7047612832459343,
          0.2824903715892518,
          0.6549426491435624,
          0.4342249243207465,
          0.6803211845067775,
          0.7284562016754909,
          0.7078413458879441,
          0.7807633668999076,
          0.5922952796456947,
          0.5759247800821108,
          0.7081668419696704,
          0.5334148717361978,
          0.5652898364253501,
          0.6104465234371922,
          0.7317096673610596,
          0.6636951890911267,
          0.659140920402117,
          0.3952451550026659,
          0.6923108327651505,
          0.1198425132882416,
          0.5885936894845518,
          0.7036316193086658,
          0.703772964069933,
          0.7121861090565618,
          0.7548313411309313,
          0.7666154651803404,
          0.2619665407674808,
          0.6473727821815991,
          0.5819802398826008,
          0.6428972186219171,
          0.6177377757065927,
          0.5313407216958058,
          0.5986583828980028,
          0.501308468594292,
          0.6664424519552968,
          0.7651057865385212,
          0.5738405161746867,
          0.7561078884474521,
          0.6402018177118465,
          0.462204930913421,
          0.3317501680295368,
          0.6699670681732066,
          0.7659810473713963,
          0.6895650848141843,
          0.2714429768279456,
          0.1760406256233073,
          0.6156753285811992,
          0.6737371194166208,
          0.6257090346027011,
          0.4864418401140338,
          0.5289658285087285,
          0.5600864986413236,
          0.5989368155736363,
          0.7311297378418329,
          0.514818296761671,
          0.3437917862373299,
          0.748204082783147,
          0.7332137713837072,
          0.4581525181168522,
          0.2626562696709219,
          0.6823200671179018,
          0.6574635771143577,
          0.7756150234556971,
          0.7909698130306837,
          0.5454535565974076,
          0.4422946612453707,
          0.6225746857008014,
          null,
          0.4352513119138168,
          0.7763107082812815,
          0.6334349631106121,
          0.6513361147619012,
          0.5570077120596583,
          0.2338257164484567,
          0.3552308172290725,
          0.6608289914198783,
          0.6882387858634964,
          0.0509156034933721,
          0.33558617623308,
          0.5612876560786817,
          0.6992168588466124,
          0.1995430892462679,
          0.712768463231494,
          0.6618868600420863,
          0.7318727638257434,
          0.7307512832888281,
          0.0966100367748805,
          0.6043820469316155,
          0.7725711165964728,
          0.4279341883428694,
          0.5977648680611596,
          0.6118808031088434,
          0.6527550633490753,
          0.6364963607704553,
          0.6234734733706343,
          0.7238600003643091,
          0.6567787174204534,
          0.5528111893494622,
          0.7346357733570478,
          0.3494573309449184,
          0.2620553359511834,
          0.4907584156938881,
          0.6491030488561069,
          0.603388176696659,
          0.4919826349257847,
          0.6198526719399989,
          0.6274333167657095,
          0.7182921142141405,
          0.7797660720509568,
          0.5238795035201189,
          0.6550760686563266,
          0.4487337237131814,
          0.3434120217612429,
          0.6450881109941825,
          0.4084320053410289,
          0.6921664110816699,
          0.5362656081663173,
          0.5673951275416941,
          0.7192954712452143,
          0.5897158218040505,
          0.6680592302129481,
          0.7506146553881062,
          0.6184398011621871,
          0.7743680895683124,
          0.6945004681900009,
          0.62507889864914,
          0.5874918332121367,
          0.6743953122775311,
          0.5803621056214874,
          0.2735541611244237,
          0.5439567567369228,
          0.5331862806077896,
          0.4966507266311186,
          0.682144661108665,
          0.6962098017006059,
          0.5277560830566873,
          0.2299657860760792,
          0.7957270944903794,
          0.5434522199971914,
          0.5413680384938626,
          0.7234926821589504,
          0.4573980391520343,
          0.7292988671189998,
          0.7281706194426241,
          0.6827512508922978,
          0.6399398491481402,
          0.6238686713083913,
          0.7421584798141769,
          0.3488361733767661,
          0.503265573770721,
          0.0316710199379322,
          0.51437585566115,
          0.6573158210441619,
          0.7261271450380146,
          0.5695462383736847,
          0.4689462025520905,
          0.7174550590987756,
          0.5337033119344637,
          0.7641888557043178
         ],
         "yaxis": "y"
        },
        {
         "customdata": [
          [
           100002,
           "f-"
          ],
          [
           100003,
           "a+"
          ]
         ],
         "hovertemplate": "CODE_GENDER=%{x}<br>EXT_SOURCE_2=%{y}<br>SK_ID_CURR=%{customdata[0]}<br>score_note=%{customdata[1]}<extra></extra>",
         "legendgroup": "",
         "marker": {
          "color": "green",
          "line": {
           "color": "black",
           "width": 1
          },
          "size": 12,
          "symbol": "circle"
         },
         "mode": "markers",
         "name": "Sélectionné(s)",
         "orientation": "v",
         "showlegend": false,
         "type": "scatter",
         "x": [
          0,
          1
         ],
         "xaxis": "x",
         "y": [
          0.2629485927471776,
          0.6222457752555098
         ],
         "yaxis": "y"
        }
       ],
       "layout": {
        "font": {
         "color": "black",
         "size": 12
        },
        "legend": {
         "title": {
          "text": "prediction_pret"
         },
         "tracegroupgap": 0
        },
        "margin": {
         "t": 60
        },
        "template": {
         "data": {
          "bar": [
           {
            "error_x": {
             "color": "#2a3f5f"
            },
            "error_y": {
             "color": "#2a3f5f"
            },
            "marker": {
             "line": {
              "color": "#E5ECF6",
              "width": 0.5
             },
             "pattern": {
              "fillmode": "overlay",
              "size": 10,
              "solidity": 0.2
             }
            },
            "type": "bar"
           }
          ],
          "barpolar": [
           {
            "marker": {
             "line": {
              "color": "#E5ECF6",
              "width": 0.5
             },
             "pattern": {
              "fillmode": "overlay",
              "size": 10,
              "solidity": 0.2
             }
            },
            "type": "barpolar"
           }
          ],
          "carpet": [
           {
            "aaxis": {
             "endlinecolor": "#2a3f5f",
             "gridcolor": "white",
             "linecolor": "white",
             "minorgridcolor": "white",
             "startlinecolor": "#2a3f5f"
            },
            "baxis": {
             "endlinecolor": "#2a3f5f",
             "gridcolor": "white",
             "linecolor": "white",
             "minorgridcolor": "white",
             "startlinecolor": "#2a3f5f"
            },
            "type": "carpet"
           }
          ],
          "choropleth": [
           {
            "colorbar": {
             "outlinewidth": 0,
             "ticks": ""
            },
            "type": "choropleth"
           }
          ],
          "contour": [
           {
            "colorbar": {
             "outlinewidth": 0,
             "ticks": ""
            },
            "colorscale": [
             [
              0,
              "#0d0887"
             ],
             [
              0.1111111111111111,
              "#46039f"
             ],
             [
              0.2222222222222222,
              "#7201a8"
             ],
             [
              0.3333333333333333,
              "#9c179e"
             ],
             [
              0.4444444444444444,
              "#bd3786"
             ],
             [
              0.5555555555555556,
              "#d8576b"
             ],
             [
              0.6666666666666666,
              "#ed7953"
             ],
             [
              0.7777777777777778,
              "#fb9f3a"
             ],
             [
              0.8888888888888888,
              "#fdca26"
             ],
             [
              1,
              "#f0f921"
             ]
            ],
            "type": "contour"
           }
          ],
          "contourcarpet": [
           {
            "colorbar": {
             "outlinewidth": 0,
             "ticks": ""
            },
            "type": "contourcarpet"
           }
          ],
          "heatmap": [
           {
            "colorbar": {
             "outlinewidth": 0,
             "ticks": ""
            },
            "colorscale": [
             [
              0,
              "#0d0887"
             ],
             [
              0.1111111111111111,
              "#46039f"
             ],
             [
              0.2222222222222222,
              "#7201a8"
             ],
             [
              0.3333333333333333,
              "#9c179e"
             ],
             [
              0.4444444444444444,
              "#bd3786"
             ],
             [
              0.5555555555555556,
              "#d8576b"
             ],
             [
              0.6666666666666666,
              "#ed7953"
             ],
             [
              0.7777777777777778,
              "#fb9f3a"
             ],
             [
              0.8888888888888888,
              "#fdca26"
             ],
             [
              1,
              "#f0f921"
             ]
            ],
            "type": "heatmap"
           }
          ],
          "heatmapgl": [
           {
            "colorbar": {
             "outlinewidth": 0,
             "ticks": ""
            },
            "colorscale": [
             [
              0,
              "#0d0887"
             ],
             [
              0.1111111111111111,
              "#46039f"
             ],
             [
              0.2222222222222222,
              "#7201a8"
             ],
             [
              0.3333333333333333,
              "#9c179e"
             ],
             [
              0.4444444444444444,
              "#bd3786"
             ],
             [
              0.5555555555555556,
              "#d8576b"
             ],
             [
              0.6666666666666666,
              "#ed7953"
             ],
             [
              0.7777777777777778,
              "#fb9f3a"
             ],
             [
              0.8888888888888888,
              "#fdca26"
             ],
             [
              1,
              "#f0f921"
             ]
            ],
            "type": "heatmapgl"
           }
          ],
          "histogram": [
           {
            "marker": {
             "pattern": {
              "fillmode": "overlay",
              "size": 10,
              "solidity": 0.2
             }
            },
            "type": "histogram"
           }
          ],
          "histogram2d": [
           {
            "colorbar": {
             "outlinewidth": 0,
             "ticks": ""
            },
            "colorscale": [
             [
              0,
              "#0d0887"
             ],
             [
              0.1111111111111111,
              "#46039f"
             ],
             [
              0.2222222222222222,
              "#7201a8"
             ],
             [
              0.3333333333333333,
              "#9c179e"
             ],
             [
              0.4444444444444444,
              "#bd3786"
             ],
             [
              0.5555555555555556,
              "#d8576b"
             ],
             [
              0.6666666666666666,
              "#ed7953"
             ],
             [
              0.7777777777777778,
              "#fb9f3a"
             ],
             [
              0.8888888888888888,
              "#fdca26"
             ],
             [
              1,
              "#f0f921"
             ]
            ],
            "type": "histogram2d"
           }
          ],
          "histogram2dcontour": [
           {
            "colorbar": {
             "outlinewidth": 0,
             "ticks": ""
            },
            "colorscale": [
             [
              0,
              "#0d0887"
             ],
             [
              0.1111111111111111,
              "#46039f"
             ],
             [
              0.2222222222222222,
              "#7201a8"
             ],
             [
              0.3333333333333333,
              "#9c179e"
             ],
             [
              0.4444444444444444,
              "#bd3786"
             ],
             [
              0.5555555555555556,
              "#d8576b"
             ],
             [
              0.6666666666666666,
              "#ed7953"
             ],
             [
              0.7777777777777778,
              "#fb9f3a"
             ],
             [
              0.8888888888888888,
              "#fdca26"
             ],
             [
              1,
              "#f0f921"
             ]
            ],
            "type": "histogram2dcontour"
           }
          ],
          "mesh3d": [
           {
            "colorbar": {
             "outlinewidth": 0,
             "ticks": ""
            },
            "type": "mesh3d"
           }
          ],
          "parcoords": [
           {
            "line": {
             "colorbar": {
              "outlinewidth": 0,
              "ticks": ""
             }
            },
            "type": "parcoords"
           }
          ],
          "pie": [
           {
            "automargin": true,
            "type": "pie"
           }
          ],
          "scatter": [
           {
            "fillpattern": {
             "fillmode": "overlay",
             "size": 10,
             "solidity": 0.2
            },
            "type": "scatter"
           }
          ],
          "scatter3d": [
           {
            "line": {
             "colorbar": {
              "outlinewidth": 0,
              "ticks": ""
             }
            },
            "marker": {
             "colorbar": {
              "outlinewidth": 0,
              "ticks": ""
             }
            },
            "type": "scatter3d"
           }
          ],
          "scattercarpet": [
           {
            "marker": {
             "colorbar": {
              "outlinewidth": 0,
              "ticks": ""
             }
            },
            "type": "scattercarpet"
           }
          ],
          "scattergeo": [
           {
            "marker": {
             "colorbar": {
              "outlinewidth": 0,
              "ticks": ""
             }
            },
            "type": "scattergeo"
           }
          ],
          "scattergl": [
           {
            "marker": {
             "colorbar": {
              "outlinewidth": 0,
              "ticks": ""
             }
            },
            "type": "scattergl"
           }
          ],
          "scattermapbox": [
           {
            "marker": {
             "colorbar": {
              "outlinewidth": 0,
              "ticks": ""
             }
            },
            "type": "scattermapbox"
           }
          ],
          "scatterpolar": [
           {
            "marker": {
             "colorbar": {
              "outlinewidth": 0,
              "ticks": ""
             }
            },
            "type": "scatterpolar"
           }
          ],
          "scatterpolargl": [
           {
            "marker": {
             "colorbar": {
              "outlinewidth": 0,
              "ticks": ""
             }
            },
            "type": "scatterpolargl"
           }
          ],
          "scatterternary": [
           {
            "marker": {
             "colorbar": {
              "outlinewidth": 0,
              "ticks": ""
             }
            },
            "type": "scatterternary"
           }
          ],
          "surface": [
           {
            "colorbar": {
             "outlinewidth": 0,
             "ticks": ""
            },
            "colorscale": [
             [
              0,
              "#0d0887"
             ],
             [
              0.1111111111111111,
              "#46039f"
             ],
             [
              0.2222222222222222,
              "#7201a8"
             ],
             [
              0.3333333333333333,
              "#9c179e"
             ],
             [
              0.4444444444444444,
              "#bd3786"
             ],
             [
              0.5555555555555556,
              "#d8576b"
             ],
             [
              0.6666666666666666,
              "#ed7953"
             ],
             [
              0.7777777777777778,
              "#fb9f3a"
             ],
             [
              0.8888888888888888,
              "#fdca26"
             ],
             [
              1,
              "#f0f921"
             ]
            ],
            "type": "surface"
           }
          ],
          "table": [
           {
            "cells": {
             "fill": {
              "color": "#EBF0F8"
             },
             "line": {
              "color": "white"
             }
            },
            "header": {
             "fill": {
              "color": "#C8D4E3"
             },
             "line": {
              "color": "white"
             }
            },
            "type": "table"
           }
          ]
         },
         "layout": {
          "annotationdefaults": {
           "arrowcolor": "#2a3f5f",
           "arrowhead": 0,
           "arrowwidth": 1
          },
          "autotypenumbers": "strict",
          "coloraxis": {
           "colorbar": {
            "outlinewidth": 0,
            "ticks": ""
           }
          },
          "colorscale": {
           "diverging": [
            [
             0,
             "#8e0152"
            ],
            [
             0.1,
             "#c51b7d"
            ],
            [
             0.2,
             "#de77ae"
            ],
            [
             0.3,
             "#f1b6da"
            ],
            [
             0.4,
             "#fde0ef"
            ],
            [
             0.5,
             "#f7f7f7"
            ],
            [
             0.6,
             "#e6f5d0"
            ],
            [
             0.7,
             "#b8e186"
            ],
            [
             0.8,
             "#7fbc41"
            ],
            [
             0.9,
             "#4d9221"
            ],
            [
             1,
             "#276419"
            ]
           ],
           "sequential": [
            [
             0,
             "#0d0887"
            ],
            [
             0.1111111111111111,
             "#46039f"
            ],
            [
             0.2222222222222222,
             "#7201a8"
            ],
            [
             0.3333333333333333,
             "#9c179e"
            ],
            [
             0.4444444444444444,
             "#bd3786"
            ],
            [
             0.5555555555555556,
             "#d8576b"
            ],
            [
             0.6666666666666666,
             "#ed7953"
            ],
            [
             0.7777777777777778,
             "#fb9f3a"
            ],
            [
             0.8888888888888888,
             "#fdca26"
            ],
            [
             1,
             "#f0f921"
            ]
           ],
           "sequentialminus": [
            [
             0,
             "#0d0887"
            ],
            [
             0.1111111111111111,
             "#46039f"
            ],
            [
             0.2222222222222222,
             "#7201a8"
            ],
            [
             0.3333333333333333,
             "#9c179e"
            ],
            [
             0.4444444444444444,
             "#bd3786"
            ],
            [
             0.5555555555555556,
             "#d8576b"
            ],
            [
             0.6666666666666666,
             "#ed7953"
            ],
            [
             0.7777777777777778,
             "#fb9f3a"
            ],
            [
             0.8888888888888888,
             "#fdca26"
            ],
            [
             1,
             "#f0f921"
            ]
           ]
          },
          "colorway": [
           "#636efa",
           "#EF553B",
           "#00cc96",
           "#ab63fa",
           "#FFA15A",
           "#19d3f3",
           "#FF6692",
           "#B6E880",
           "#FF97FF",
           "#FECB52"
          ],
          "font": {
           "color": "#2a3f5f"
          },
          "geo": {
           "bgcolor": "white",
           "lakecolor": "white",
           "landcolor": "#E5ECF6",
           "showlakes": true,
           "showland": true,
           "subunitcolor": "white"
          },
          "hoverlabel": {
           "align": "left"
          },
          "hovermode": "closest",
          "mapbox": {
           "style": "light"
          },
          "paper_bgcolor": "white",
          "plot_bgcolor": "#E5ECF6",
          "polar": {
           "angularaxis": {
            "gridcolor": "white",
            "linecolor": "white",
            "ticks": ""
           },
           "bgcolor": "#E5ECF6",
           "radialaxis": {
            "gridcolor": "white",
            "linecolor": "white",
            "ticks": ""
           }
          },
          "scene": {
           "xaxis": {
            "backgroundcolor": "#E5ECF6",
            "gridcolor": "white",
            "gridwidth": 2,
            "linecolor": "white",
            "showbackground": true,
            "ticks": "",
            "zerolinecolor": "white"
           },
           "yaxis": {
            "backgroundcolor": "#E5ECF6",
            "gridcolor": "white",
            "gridwidth": 2,
            "linecolor": "white",
            "showbackground": true,
            "ticks": "",
            "zerolinecolor": "white"
           },
           "zaxis": {
            "backgroundcolor": "#E5ECF6",
            "gridcolor": "white",
            "gridwidth": 2,
            "linecolor": "white",
            "showbackground": true,
            "ticks": "",
            "zerolinecolor": "white"
           }
          },
          "shapedefaults": {
           "line": {
            "color": "#2a3f5f"
           }
          },
          "ternary": {
           "aaxis": {
            "gridcolor": "white",
            "linecolor": "white",
            "ticks": ""
           },
           "baxis": {
            "gridcolor": "white",
            "linecolor": "white",
            "ticks": ""
           },
           "bgcolor": "#E5ECF6",
           "caxis": {
            "gridcolor": "white",
            "linecolor": "white",
            "ticks": ""
           }
          },
          "title": {
           "x": 0.05
          },
          "xaxis": {
           "automargin": true,
           "gridcolor": "white",
           "linecolor": "white",
           "ticks": "",
           "title": {
            "standoff": 15
           },
           "zerolinecolor": "white",
           "zerolinewidth": 2
          },
          "yaxis": {
           "automargin": true,
           "gridcolor": "white",
           "linecolor": "white",
           "ticks": "",
           "title": {
            "standoff": 15
           },
           "zerolinecolor": "white",
           "zerolinewidth": 2
          }
         }
        },
        "xaxis": {
         "anchor": "y",
         "domain": [
          0,
          1
         ],
         "title": {
          "text": "CODE_GENDER"
         }
        },
        "yaxis": {
         "anchor": "x",
         "domain": [
          0,
          1
         ],
         "title": {
          "text": "EXT_SOURCE_2"
         }
        }
       }
      },
      "text/html": [
       "<div>                            <div id=\"42e1e0a3-a7dd-46af-941c-96a0e3ec36d5\" class=\"plotly-graph-div\" style=\"height:525px; width:100%;\"></div>            <script type=\"text/javascript\">                require([\"plotly\"], function(Plotly) {                    window.PLOTLYENV=window.PLOTLYENV || {};                                    if (document.getElementById(\"42e1e0a3-a7dd-46af-941c-96a0e3ec36d5\")) {                    Plotly.newPlot(                        \"42e1e0a3-a7dd-46af-941c-96a0e3ec36d5\",                        [{\"customdata\":[[100002,\"f-\"],[100006,\"d++\"],[100007,\"d++\"],[100008,\"d++\"],[100019,\"d++\"],[100020,\"f+\"],[100024,\"d-\"],[100025,\"d++\"],[100026,\"e-\"],[100031,\"d-\"],[100035,\"e++\"],[100047,\"e--\"],[100048,\"e--\"],[100049,\"d++\"],[100051,\"e-\"],[100052,\"d-\"],[100053,\"d--\"],[100056,\"d+\"],[100063,\"d--\"],[100064,\"d--\"],[100072,\"e++\"],[100076,\"e++\"],[100077,\"d+\"],[100079,\"d-\"],[100085,\"e-\"],[100086,\"d+\"],[100087,\"e++\"],[100089,\"d-\"],[100095,\"d+\"],[100098,\"d+\"],[100099,\"d--\"],[100110,\"d-\"],[100111,\"d+\"],[100112,\"e-\"],[100114,\"f++\"],[100115,\"d++\"],[100116,\"d--\"],[100119,\"d--\"],[100120,\"f++\"],[100121,\"d-\"],[100122,\"d+\"],[100130,\"e-\"],[100133,\"e+\"],[100135,\"d-\"],[100137,\"d+\"],[100139,\"e++\"],[100142,\"e++\"],[100144,\"d++\"],[100149,\"f-\"],[100155,\"e++\"],[100157,\"d--\"],[100160,\"d+\"],[100161,\"d--\"],[100162,\"e-\"],[100163,\"e++\"],[100166,\"d-\"],[100167,\"d--\"],[100177,\"d+\"],[100181,\"d-\"],[100189,\"e-\"],[100192,\"e++\"],[100194,\"e++\"],[100197,\"d+\"],[100202,\"d--\"],[100204,\"e+\"],[100205,\"f+\"],[100206,\"e-\"],[100209,\"d+\"],[100211,\"e--\"],[100217,\"d+\"],[100227,\"d--\"],[100228,\"d-\"],[100230,\"e++\"],[100233,\"d+\"],[100235,\"e-\"],[100237,\"d--\"],[100239,\"d+\"],[100240,\"e--\"],[100243,\"d-\"],[100244,\"e-\"],[100246,\"f+\"],[100247,\"d-\"],[100249,\"d-\"],[100251,\"d++\"],[100258,\"e+\"],[100259,\"e++\"],[100263,\"d++\"],[100265,\"e++\"],[100268,\"d+\"],[100269,\"e++\"],[100272,\"e+\"],[100273,\"e--\"],[100276,\"d+\"],[100285,\"d-\"],[100286,\"d++\"],[100288,\"d+\"],[100290,\"f+\"],[100291,\"e+\"],[100292,\"d-\"],[100295,\"d++\"],[100297,\"d++\"],[100300,\"e--\"],[100301,\"f+\"],[100302,\"e--\"],[100309,\"d++\"],[100310,\"e+\"],[100321,\"d--\"],[100325,\"d-\"],[100326,\"d--\"],[100329,\"d++\"],[100336,\"d+\"],[100342,\"f+\"],[100345,\"d+\"],[100349,\"e-\"],[100353,\"e-\"],[100354,\"e-\"],[100355,\"e--\"],[100356,\"d-\"],[100361,\"d-\"],[100375,\"e+\"],[100376,\"f+\"],[100377,\"d+\"],[100383,\"e++\"],[100396,\"f+\"],[100403,\"e+\"],[100405,\"d+\"],[100406,\"d++\"],[100407,\"d++\"],[100409,\"e-\"],[100411,\"d++\"],[100418,\"d++\"],[100420,\"d-\"],[100424,\"d--\"],[100427,\"d+\"],[100429,\"e--\"],[100430,\"d--\"],[100431,\"f++\"],[100439,\"f+\"],[100452,\"e-\"],[100456,\"e-\"],[100464,\"d++\"],[100467,\"d++\"],[100468,\"d+\"],[100472,\"e--\"],[100473,\"d-\"],[100476,\"d++\"],[100477,\"f++\"],[100479,\"d-\"],[100480,\"d+\"],[100482,\"d+\"],[100485,\"d--\"],[100490,\"e+\"],[100491,\"f+\"],[100492,\"d++\"],[100498,\"e-\"],[100501,\"d++\"],[100504,\"e++\"],[100505,\"d--\"],[100506,\"d+\"],[100507,\"d--\"],[100511,\"d-\"],[100514,\"d++\"],[100520,\"d++\"],[100525,\"e++\"],[100526,\"d--\"],[100530,\"d++\"],[100531,\"d++\"],[100532,\"f+\"],[100538,\"d-\"],[100540,\"e++\"],[100541,\"f+\"],[100543,\"d-\"],[100544,\"f++\"],[100546,\"d-\"],[100547,\"f+\"],[100549,\"e++\"],[100555,\"e-\"],[100558,\"f-\"],[100560,\"d++\"],[100563,\"d--\"],[100567,\"e-\"],[100571,\"e++\"],[100573,\"d++\"]],\"hovertemplate\":\"prediction_pret=Non pret<br>CODE_GENDER=%{x}<br>EXT_SOURCE_2=%{y}<br>SK_ID_CURR=%{customdata[0]}<br>score_note=%{customdata[1]}<extra></extra>\",\"legendgroup\":\"Non pret\",\"marker\":{\"color\":\"red\",\"symbol\":\"circle\",\"size\":12},\"mode\":\"markers\",\"name\":\"Non pret\",\"orientation\":\"v\",\"showlegend\":true,\"x\":[0,1,0,0,0,0,0,1,1,1,1,0,1,1,0,1,1,0,1,1,0,0,0,0,0,1,1,0,1,0,1,0,1,0,1,1,1,1,1,0,1,1,1,0,1,1,0,1,0,0,0,0,1,1,1,1,1,0,1,1,1,1,1,1,1,1,0,0,0,1,0,1,1,1,1,1,1,0,0,0,1,1,1,0,1,0,1,1,1,0,1,1,1,1,0,1,0,1,1,0,0,0,0,1,1,0,0,1,0,1,1,0,1,1,1,1,0,1,0,0,0,0,0,0,0,0,1,1,0,0,1,1,0,1,0,1,1,0,0,0,0,1,1,0,0,0,0,0,0,1,0,0,0,1,0,0,1,0,0,0,1,0,1,0,0,1,1,0,0,1,1,1,1,0,0,1,1,0,1,1,0,0,1],\"xaxis\":\"x\",\"y\":[0.2629485927471776,0.6504416904014653,0.3227382869704046,0.3542247319929012,0.34663398139668,0.2363778398884225,0.113374512719927,0.2337669575081463,0.457142971588935,0.5484771599678789,0.479987342189869,0.306840586048305,0.0373152355612163,0.6742032101473874,0.6315186311742824,0.535542260363498,0.2476647173356162,0.5239340474953537,0.6166372926426479,0.6227082733555896,0.0265407750366898,0.5848873555356944,0.6473478219828046,0.5619229565929612,0.3687189849837431,0.5698732368655826,0.5720641471414096,0.5500579930157645,0.3045061145430549,0.5970811533321667,0.6605789818593445,0.6405493008893001,0.608604105963283,0.4323402118056743,0.1549370735653434,0.3343001962973505,0.7002735745029195,0.5002642944981995,0.1699529509371729,0.5861504130199274,0.0472914244045298,0.2820694905045227,0.3167548800416005,0.7206401576263843,0.0867193865852445,0.6014083651352106,0.0648582778736916,0.6116366959675879,0.1644631394414229,0.2820783472350259,0.147684817245518,0.6319612327366237,0.2653117484731741,0.5982432424547262,0.3909932576851988,0.5248175794365513,0.5513078693516321,0.6036550365741279,0.182171374180396,0.0102716488262289,0.0862529149111319,0.1117667170159572,0.4722858229404335,0.1219059405425988,0.1715351212035425,0.0462155273798622,0.1642589058565359,0.3721102589242765,0.5750860506591902,0.3914359469034673,0.6348960636020012,0.4088706121454352,0.3715433102138179,0.2015836822864006,0.505288174383516,0.5470362331184999,0.7573276838423868,0.628531689899611,0.3940749254999855,0.1035702527837697,0.044020822931951,0.6577836105245277,0.0934453265892372,0.5810223448295264,0.2338648947760501,0.3791620413147299,0.2353137627595652,0.5777182931688097,0.6466885821859959,0.2858978721410488,0.1952575702271164,0.1263320626915722,0.2168492990482221,0.4354125753011015,0.7109249275557172,0.5971811044818364,0.2587283392986726,0.18241258581846,0.0654523265728891,0.3023938171668298,0.6126231664059472,0.474891701732854,0.2532889043013798,0.4794306372473876,0.3341688139258219,0.1601580935334256,0.6336075825314255,0.5884083428119181,0.0634547973481448,0.0813107269975509,0.6290421096825476,0.031275077373225,0.5215499611050477,0.6727124369201232,0.1671032782815753,0.0420101655775344,0.1842197251959363,0.5619552546028269,0.4339187290167497,0.2916239092557009,0.4459873293894053,null,0.3248209867959093,0.2939875845022613,0.3241738848541972,0.381816634240153,0.1607413388003202,0.540298243263855,0.5180129725133938,0.6097806994342824,0.7376641513695528,0.6104257226549659,0.50060870864451,0.3964846075383985,0.2629952143123565,0.2160482176858288,0.4141927781705488,0.4822091852232648,0.2665197753925157,0.5487262610762287,0.3611072890083497,0.4259653165504175,0.2430409934483329,0.3658072346409718,0.5998137228666071,0.3660203315419941,0.6160271197421764,0.5735838084148978,0.6642416338253251,0.3067894273830089,0.3359812288049393,0.281799441342796,0.0826271298687096,0.6258165762682069,0.3613343470040338,0.5297775848707685,0.5421769202693426,0.6434793699778232,0.5451499236047679,0.266327452346679,0.3918058596048165,0.5977122880781701,0.3260787531984177,0.4992747869288629,0.4601020162546491,0.4451986134988326,0.6574734264340084,0.2906085390815557,0.4131107931387085,0.3065058156503732,0.0845500559682115,0.5880428716604243,0.0345763370775344,0.1621921059592286,0.2206047627669316,0.1937330395635624,0.5158451064098964,0.197611644362726,0.5744607287321212,0.4604768526623809,0.2916600497102669,0.1326310788663782,0.5682483704960352],\"yaxis\":\"y\",\"type\":\"scatter\"},{\"customdata\":[[100003,\"a+\"],[100004,\"b-\"],[100009,\"a+\"],[100010,\"a--\"],[100011,\"c-\"],[100012,\"c-\"],[100014,\"c+\"],[100015,\"b++\"],[100016,\"c--\"],[100017,\"b-\"],[100018,\"b--\"],[100021,\"b-\"],[100022,\"b-\"],[100023,\"c+\"],[100027,\"a--\"],[100029,\"b++\"],[100030,\"c+\"],[100032,\"c++\"],[100033,\"b--\"],[100034,\"b--\"],[100036,\"c-\"],[100037,\"b-\"],[100039,\"c-\"],[100040,\"c++\"],[100041,\"c++\"],[100043,\"b--\"],[100044,\"b--\"],[100045,\"a--\"],[100046,\"a-\"],[100050,\"a--\"],[100054,\"c-\"],[100055,\"c+\"],[100058,\"b+\"],[100059,\"b++\"],[100060,\"c-\"],[100061,\"b-\"],[100062,\"b-\"],[100068,\"c-\"],[100069,\"c-\"],[100070,\"c-\"],[100071,\"b++\"],[100073,\"c--\"],[100075,\"b--\"],[100078,\"b--\"],[100080,\"b--\"],[100081,\"c--\"],[100082,\"c+\"],[100083,\"c+\"],[100084,\"c--\"],[100088,\"b++\"],[100093,\"b--\"],[100094,\"b++\"],[100096,\"c--\"],[100097,\"c--\"],[100100,\"b+\"],[100101,\"b++\"],[100102,\"b-\"],[100103,\"b--\"],[100104,\"b--\"],[100105,\"b--\"],[100108,\"c+\"],[100113,\"c-\"],[100118,\"b-\"],[100123,\"c+\"],[100124,\"b-\"],[100125,\"b--\"],[100126,\"b+\"],[100127,\"b--\"],[100129,\"a+\"],[100131,\"c-\"],[100132,\"b++\"],[100134,\"b+\"],[100136,\"b+\"],[100138,\"b-\"],[100140,\"b--\"],[100143,\"a-\"],[100145,\"a--\"],[100146,\"c-\"],[100147,\"c++\"],[100148,\"c--\"],[100151,\"b--\"],[100152,\"c-\"],[100153,\"c--\"],[100154,\"c++\"],[100156,\"b++\"],[100158,\"c++\"],[100159,\"b+\"],[100164,\"b--\"],[100165,\"a+\"],[100173,\"b--\"],[100174,\"b++\"],[100175,\"c--\"],[100176,\"b+\"],[100178,\"c++\"],[100179,\"b-\"],[100180,\"b-\"],[100182,\"c+\"],[100183,\"b++\"],[100185,\"a--\"],[100186,\"b-\"],[100188,\"a--\"],[100190,\"a--\"],[100191,\"a-\"],[100193,\"b++\"],[100195,\"b--\"],[100196,\"c--\"],[100198,\"c-\"],[100199,\"c--\"],[100200,\"b-\"],[100201,\"b--\"],[100203,\"b--\"],[100207,\"c-\"],[100208,\"b--\"],[100210,\"b-\"],[100213,\"c--\"],[100214,\"c-\"],[100215,\"b++\"],[100216,\"b-\"],[100218,\"c--\"],[100219,\"c++\"],[100220,\"b-\"],[100221,\"a+\"],[100224,\"c++\"],[100225,\"b+\"],[100226,\"b+\"],[100229,\"b++\"],[100231,\"b-\"],[100234,\"b--\"],[100236,\"c+\"],[100238,\"b-\"],[100242,\"c-\"],[100248,\"c--\"],[100250,\"c+\"],[100252,\"c-\"],[100254,\"a+\"],[100255,\"b-\"],[100257,\"b--\"],[100260,\"b-\"],[100261,\"c-\"],[100262,\"c+\"],[100264,\"c++\"],[100266,\"c-\"],[100267,\"b-\"],[100270,\"a++\"],[100274,\"b+\"],[100275,\"a--\"],[100277,\"b++\"],[100279,\"c-\"],[100281,\"b--\"],[100282,\"b+\"],[100283,\"b++\"],[100284,\"b-\"],[100287,\"a--\"],[100289,\"a+\"],[100293,\"b++\"],[100294,\"b--\"],[100296,\"c+\"],[100298,\"b++\"],[100299,\"a-\"],[100303,\"c--\"],[100304,\"a+\"],[100305,\"c-\"],[100307,\"c++\"],[100308,\"b-\"],[100313,\"a-\"],[100314,\"b--\"],[100315,\"b-\"],[100316,\"b-\"],[100317,\"a--\"],[100318,\"c+\"],[100319,\"c-\"],[100320,\"c+\"],[100322,\"a--\"],[100323,\"b-\"],[100324,\"c-\"],[100327,\"c-\"],[100328,\"a--\"],[100332,\"c-\"],[100333,\"c+\"],[100334,\"c+\"],[100335,\"b++\"],[100337,\"b--\"],[100338,\"c-\"],[100339,\"b++\"],[100340,\"c--\"],[100341,\"c--\"],[100343,\"c--\"],[100344,\"b++\"],[100346,\"b++\"],[100347,\"a--\"],[100348,\"b-\"],[100350,\"c-\"],[100351,\"b++\"],[100357,\"b-\"],[100359,\"c++\"],[100360,\"b++\"],[100362,\"b++\"],[100363,\"b++\"],[100364,\"c-\"],[100365,\"b--\"],[100366,\"b--\"],[100368,\"b+\"],[100369,\"c+\"],[100370,\"c-\"],[100371,\"a--\"],[100372,\"b--\"],[100373,\"c++\"],[100374,\"c++\"],[100378,\"c+\"],[100379,\"c+\"],[100380,\"c-\"],[100381,\"c+\"],[100387,\"c--\"],[100388,\"c++\"],[100389,\"b-\"],[100390,\"b++\"],[100391,\"c+\"],[100392,\"c-\"],[100393,\"a+\"],[100394,\"b+\"],[100395,\"b++\"],[100397,\"a+\"],[100398,\"c+\"],[100400,\"a--\"],[100401,\"c+\"],[100402,\"c-\"],[100408,\"c-\"],[100410,\"b--\"],[100412,\"c+\"],[100413,\"b--\"],[100414,\"c++\"],[100415,\"c--\"],[100417,\"b--\"],[100419,\"c-\"],[100421,\"b--\"],[100423,\"c+\"],[100425,\"b-\"],[100428,\"c++\"],[100432,\"b--\"],[100433,\"c--\"],[100434,\"b-\"],[100435,\"b-\"],[100436,\"a--\"],[100437,\"b--\"],[100440,\"c+\"],[100441,\"b-\"],[100442,\"b+\"],[100443,\"c-\"],[100448,\"c-\"],[100449,\"b--\"],[100451,\"b--\"],[100453,\"c+\"],[100454,\"b-\"],[100455,\"a-\"],[100457,\"b--\"],[100458,\"b-\"],[100459,\"c-\"],[100460,\"c+\"],[100461,\"c-\"],[100462,\"c--\"],[100463,\"b++\"],[100465,\"c+\"],[100469,\"c+\"],[100470,\"b++\"],[100471,\"b--\"],[100474,\"a--\"],[100475,\"b--\"],[100478,\"b-\"],[100481,\"a--\"],[100486,\"b+\"],[100487,\"c--\"],[100488,\"a-\"],[100489,\"c-\"],[100493,\"c-\"],[100495,\"c--\"],[100496,\"b-\"],[100497,\"b++\"],[100499,\"b++\"],[100500,\"b--\"],[100502,\"c--\"],[100503,\"c--\"],[100508,\"a-\"],[100509,\"b-\"],[100513,\"c++\"],[100515,\"c++\"],[100516,\"a--\"],[100518,\"b++\"],[100519,\"c-\"],[100521,\"c-\"],[100522,\"c+\"],[100523,\"c--\"],[100524,\"c-\"],[100527,\"a--\"],[100528,\"b--\"],[100529,\"c-\"],[100533,\"b+\"],[100534,\"b+\"],[100535,\"c+\"],[100536,\"a-\"],[100537,\"c-\"],[100539,\"a-\"],[100542,\"b+\"],[100545,\"b++\"],[100550,\"c-\"],[100554,\"a+\"],[100556,\"b++\"],[100557,\"c++\"],[100559,\"a--\"],[100562,\"c--\"],[100564,\"c+\"],[100565,\"c++\"],[100566,\"b++\"],[100570,\"b--\"],[100572,\"c++\"],[100574,\"b+\"],[100575,\"a--\"],[100576,\"b-\"]],\"hovertemplate\":\"prediction_pret=Pret<br>CODE_GENDER=%{x}<br>EXT_SOURCE_2=%{y}<br>SK_ID_CURR=%{customdata[0]}<br>score_note=%{customdata[1]}<extra></extra>\",\"legendgroup\":\"Pret\",\"marker\":{\"color\":\"blue\",\"symbol\":\"circle\",\"size\":12},\"mode\":\"markers\",\"name\":\"Pret\",\"orientation\":\"v\",\"showlegend\":true,\"x\":[1,0,1,0,1,0,1,1,1,0,1,1,1,1,1,0,1,0,0,0,1,1,0,1,1,1,0,1,0,1,1,1,1,0,0,1,0,0,0,0,1,0,1,1,1,0,0,0,0,1,1,1,1,0,0,1,1,1,1,1,1,0,1,1,0,1,0,0,1,1,1,1,0,0,1,0,1,0,1,1,0,1,0,0,1,0,1,1,1,1,1,1,1,1,1,1,1,1,0,1,1,0,1,1,0,1,0,1,1,1,1,1,0,1,1,1,1,1,0,0,1,1,1,0,1,1,0,1,0,0,0,1,1,1,0,0,1,0,1,0,1,1,0,1,0,1,0,0,1,1,1,0,1,0,1,1,0,1,1,1,1,0,0,0,1,0,1,1,1,1,1,0,0,0,1,0,1,1,1,0,1,1,1,0,1,0,0,0,1,1,1,1,1,1,0,1,1,1,1,1,0,1,1,1,1,1,1,1,1,0,1,1,0,1,0,1,1,0,0,0,0,1,1,1,1,1,1,1,1,0,1,1,1,1,0,1,1,1,1,1,1,1,1,1,1,1,1,1,1,1,1,0,0,1,1,1,0,1,1,0,1,0,0,1,1,0,1,1,0,1,0,1,0,1,1,1,0,1,1,1,1,1,1,1,1,1,1,1,1,1,0,0,1,1,1,0,1,0,1,1,0,1,1,1,1,1,1,1,0,0,1,1,1,1,0,0,1],\"xaxis\":\"x\",\"y\":[0.6222457752555098,0.5559120833904428,0.7239998516953141,0.7142792864482229,0.2057472880073281,0.7466436294590924,0.6518623334244781,0.5551831615131809,0.7150418188660659,0.5669066132460429,0.6426562048311103,0.6835133461914255,0.7064284028871654,0.5866171400119664,0.6243047373592765,0.7861793090532118,0.6514056365297631,0.5411237022695412,0.6850109901296888,0.5027790378786304,0.6273004007953609,0.5594667916353414,0.3217448956617718,0.1724975081477771,0.6631580756296298,0.6816988025574287,0.7197985370372056,0.6507647995068742,0.7380532835697358,0.7661378050275851,0.0892406534424171,0.5891866296961207,0.4508497225560816,0.7133545848531052,0.705947456699447,0.7029791046049891,0.6628649268152181,0.6091352920795285,0.2567370429595146,0.6535972121081295,0.5706663563799912,0.7330511930996613,0.6645439411246608,0.5172704004425673,0.1238882922844139,0.6454384930609306,0.6865047975453018,0.7071263161734994,0.5705270507243844,0.5851740300889305,0.4885999153777029,0.5827354769124312,0.0239523667712844,0.3573422337147276,0.495765140717496,0.7162122102538987,0.6611083077510267,0.7180575365896832,0.6446273721560554,0.2547599571469118,0.7566679797246073,0.5930185238421518,0.6263029188866104,0.3993660764222056,0.7103178570703124,0.5713305828391398,0.7050933282515942,0.6870034445422084,0.6102072901939566,0.7079724741176917,0.7112888072636568,0.7492408359410063,0.6820166294931829,0.6075618184170141,0.7158609528990171,0.6781247611812603,0.7464864055627681,0.2823264042190451,0.4109070009841619,0.6605593694772599,0.6952191372191353,0.1654420733377721,0.6680204349150283,0.4949615763457107,0.5978227034457954,0.6837025341222017,0.5712502464772474,0.6220298665860468,0.6466885821859959,0.6363951652298555,0.7047931325938472,0.7636485619996934,0.5852908069048889,0.7651254360605889,0.6161564242321512,0.5098519541101603,0.7518692268821991,0.60043294901342,0.557347622511613,0.6413041903506802,0.7024628947445616,0.5858586300023704,0.6887921778530354,0.7488544429116339,0.5477730476270279,0.593340422792271,0.7489161279000881,0.7044244680571375,0.640040616163284,0.6015603738443187,0.6405140556837132,0.6717825437089173,0.6344549499357989,0.6219784526230758,0.4953660887502677,0.5002314931327102,0.2653117484731741,0.7094531689636673,0.7494092451416423,0.6933579251678945,0.6263387445759298,0.5924589685675292,0.5986321123746743,0.7221783702089665,0.6365722494978974,0.6410123825293345,0.4973012633185316,0.5839260467408239,0.4306182973609284,0.6456336382884252,0.7183142380543178,0.2234945061552079,0.2954329912505275,0.6709671766393199,0.7504426912158406,0.6118859962683346,0.5187008727721591,0.7057703891585944,0.5080921823639696,0.6904584635520693,0.3051502285076308,0.6958165307388609,0.6815374524920329,0.7140560925710472,0.6984528683753916,0.7319070919171349,0.5745141843911776,0.4586845685086158,0.6609074073182916,0.5232303868528839,0.6535724567257833,0.3282689967736757,0.6555304997519134,0.6587035208707981,0.495546481404605,0.4413832573630213,0.7117915010199288,0.4923105677275208,0.7047612832459343,0.2824903715892518,0.6549426491435624,0.4342249243207465,0.6803211845067775,0.7284562016754909,0.7078413458879441,0.7807633668999076,0.5922952796456947,0.5759247800821108,0.7081668419696704,0.5334148717361978,0.5652898364253501,0.6104465234371922,0.7317096673610596,0.6636951890911267,0.659140920402117,0.3952451550026659,0.6923108327651505,0.1198425132882416,0.5885936894845518,0.7036316193086658,0.703772964069933,0.7121861090565618,0.7548313411309313,0.7666154651803404,0.2619665407674808,0.6473727821815991,0.5819802398826008,0.6428972186219171,0.6177377757065927,0.5313407216958058,0.5986583828980028,0.501308468594292,0.6664424519552968,0.7651057865385212,0.5738405161746867,0.7561078884474521,0.6402018177118465,0.462204930913421,0.3317501680295368,0.6699670681732066,0.7659810473713963,0.6895650848141843,0.2714429768279456,0.1760406256233073,0.6156753285811992,0.6737371194166208,0.6257090346027011,0.4864418401140338,0.5289658285087285,0.5600864986413236,0.5989368155736363,0.7311297378418329,0.514818296761671,0.3437917862373299,0.748204082783147,0.7332137713837072,0.4581525181168522,0.2626562696709219,0.6823200671179018,0.6574635771143577,0.7756150234556971,0.7909698130306837,0.5454535565974076,0.4422946612453707,0.6225746857008014,null,0.4352513119138168,0.7763107082812815,0.6334349631106121,0.6513361147619012,0.5570077120596583,0.2338257164484567,0.3552308172290725,0.6608289914198783,0.6882387858634964,0.0509156034933721,0.33558617623308,0.5612876560786817,0.6992168588466124,0.1995430892462679,0.712768463231494,0.6618868600420863,0.7318727638257434,0.7307512832888281,0.0966100367748805,0.6043820469316155,0.7725711165964728,0.4279341883428694,0.5977648680611596,0.6118808031088434,0.6527550633490753,0.6364963607704553,0.6234734733706343,0.7238600003643091,0.6567787174204534,0.5528111893494622,0.7346357733570478,0.3494573309449184,0.2620553359511834,0.4907584156938881,0.6491030488561069,0.603388176696659,0.4919826349257847,0.6198526719399989,0.6274333167657095,0.7182921142141405,0.7797660720509568,0.5238795035201189,0.6550760686563266,0.4487337237131814,0.3434120217612429,0.6450881109941825,0.4084320053410289,0.6921664110816699,0.5362656081663173,0.5673951275416941,0.7192954712452143,0.5897158218040505,0.6680592302129481,0.7506146553881062,0.6184398011621871,0.7743680895683124,0.6945004681900009,0.62507889864914,0.5874918332121367,0.6743953122775311,0.5803621056214874,0.2735541611244237,0.5439567567369228,0.5331862806077896,0.4966507266311186,0.682144661108665,0.6962098017006059,0.5277560830566873,0.2299657860760792,0.7957270944903794,0.5434522199971914,0.5413680384938626,0.7234926821589504,0.4573980391520343,0.7292988671189998,0.7281706194426241,0.6827512508922978,0.6399398491481402,0.6238686713083913,0.7421584798141769,0.3488361733767661,0.503265573770721,0.0316710199379322,0.51437585566115,0.6573158210441619,0.7261271450380146,0.5695462383736847,0.4689462025520905,0.7174550590987756,0.5337033119344637,0.7641888557043178],\"yaxis\":\"y\",\"type\":\"scatter\"},{\"customdata\":[[100002,\"f-\"],[100003,\"a+\"]],\"hovertemplate\":\"CODE_GENDER=%{x}<br>EXT_SOURCE_2=%{y}<br>SK_ID_CURR=%{customdata[0]}<br>score_note=%{customdata[1]}<extra></extra>\",\"legendgroup\":\"\",\"marker\":{\"color\":\"green\",\"line\":{\"color\":\"black\",\"width\":1},\"size\":12,\"symbol\":\"circle\"},\"mode\":\"markers\",\"name\":\"S\\u00e9lectionn\\u00e9(s)\",\"orientation\":\"v\",\"showlegend\":false,\"x\":[0,1],\"xaxis\":\"x\",\"y\":[0.2629485927471776,0.6222457752555098],\"yaxis\":\"y\",\"type\":\"scatter\"}],                        {\"template\":{\"data\":{\"histogram2dcontour\":[{\"type\":\"histogram2dcontour\",\"colorbar\":{\"outlinewidth\":0,\"ticks\":\"\"},\"colorscale\":[[0.0,\"#0d0887\"],[0.1111111111111111,\"#46039f\"],[0.2222222222222222,\"#7201a8\"],[0.3333333333333333,\"#9c179e\"],[0.4444444444444444,\"#bd3786\"],[0.5555555555555556,\"#d8576b\"],[0.6666666666666666,\"#ed7953\"],[0.7777777777777778,\"#fb9f3a\"],[0.8888888888888888,\"#fdca26\"],[1.0,\"#f0f921\"]]}],\"choropleth\":[{\"type\":\"choropleth\",\"colorbar\":{\"outlinewidth\":0,\"ticks\":\"\"}}],\"histogram2d\":[{\"type\":\"histogram2d\",\"colorbar\":{\"outlinewidth\":0,\"ticks\":\"\"},\"colorscale\":[[0.0,\"#0d0887\"],[0.1111111111111111,\"#46039f\"],[0.2222222222222222,\"#7201a8\"],[0.3333333333333333,\"#9c179e\"],[0.4444444444444444,\"#bd3786\"],[0.5555555555555556,\"#d8576b\"],[0.6666666666666666,\"#ed7953\"],[0.7777777777777778,\"#fb9f3a\"],[0.8888888888888888,\"#fdca26\"],[1.0,\"#f0f921\"]]}],\"heatmap\":[{\"type\":\"heatmap\",\"colorbar\":{\"outlinewidth\":0,\"ticks\":\"\"},\"colorscale\":[[0.0,\"#0d0887\"],[0.1111111111111111,\"#46039f\"],[0.2222222222222222,\"#7201a8\"],[0.3333333333333333,\"#9c179e\"],[0.4444444444444444,\"#bd3786\"],[0.5555555555555556,\"#d8576b\"],[0.6666666666666666,\"#ed7953\"],[0.7777777777777778,\"#fb9f3a\"],[0.8888888888888888,\"#fdca26\"],[1.0,\"#f0f921\"]]}],\"heatmapgl\":[{\"type\":\"heatmapgl\",\"colorbar\":{\"outlinewidth\":0,\"ticks\":\"\"},\"colorscale\":[[0.0,\"#0d0887\"],[0.1111111111111111,\"#46039f\"],[0.2222222222222222,\"#7201a8\"],[0.3333333333333333,\"#9c179e\"],[0.4444444444444444,\"#bd3786\"],[0.5555555555555556,\"#d8576b\"],[0.6666666666666666,\"#ed7953\"],[0.7777777777777778,\"#fb9f3a\"],[0.8888888888888888,\"#fdca26\"],[1.0,\"#f0f921\"]]}],\"contourcarpet\":[{\"type\":\"contourcarpet\",\"colorbar\":{\"outlinewidth\":0,\"ticks\":\"\"}}],\"contour\":[{\"type\":\"contour\",\"colorbar\":{\"outlinewidth\":0,\"ticks\":\"\"},\"colorscale\":[[0.0,\"#0d0887\"],[0.1111111111111111,\"#46039f\"],[0.2222222222222222,\"#7201a8\"],[0.3333333333333333,\"#9c179e\"],[0.4444444444444444,\"#bd3786\"],[0.5555555555555556,\"#d8576b\"],[0.6666666666666666,\"#ed7953\"],[0.7777777777777778,\"#fb9f3a\"],[0.8888888888888888,\"#fdca26\"],[1.0,\"#f0f921\"]]}],\"surface\":[{\"type\":\"surface\",\"colorbar\":{\"outlinewidth\":0,\"ticks\":\"\"},\"colorscale\":[[0.0,\"#0d0887\"],[0.1111111111111111,\"#46039f\"],[0.2222222222222222,\"#7201a8\"],[0.3333333333333333,\"#9c179e\"],[0.4444444444444444,\"#bd3786\"],[0.5555555555555556,\"#d8576b\"],[0.6666666666666666,\"#ed7953\"],[0.7777777777777778,\"#fb9f3a\"],[0.8888888888888888,\"#fdca26\"],[1.0,\"#f0f921\"]]}],\"mesh3d\":[{\"type\":\"mesh3d\",\"colorbar\":{\"outlinewidth\":0,\"ticks\":\"\"}}],\"scatter\":[{\"fillpattern\":{\"fillmode\":\"overlay\",\"size\":10,\"solidity\":0.2},\"type\":\"scatter\"}],\"parcoords\":[{\"type\":\"parcoords\",\"line\":{\"colorbar\":{\"outlinewidth\":0,\"ticks\":\"\"}}}],\"scatterpolargl\":[{\"type\":\"scatterpolargl\",\"marker\":{\"colorbar\":{\"outlinewidth\":0,\"ticks\":\"\"}}}],\"bar\":[{\"error_x\":{\"color\":\"#2a3f5f\"},\"error_y\":{\"color\":\"#2a3f5f\"},\"marker\":{\"line\":{\"color\":\"#E5ECF6\",\"width\":0.5},\"pattern\":{\"fillmode\":\"overlay\",\"size\":10,\"solidity\":0.2}},\"type\":\"bar\"}],\"scattergeo\":[{\"type\":\"scattergeo\",\"marker\":{\"colorbar\":{\"outlinewidth\":0,\"ticks\":\"\"}}}],\"scatterpolar\":[{\"type\":\"scatterpolar\",\"marker\":{\"colorbar\":{\"outlinewidth\":0,\"ticks\":\"\"}}}],\"histogram\":[{\"marker\":{\"pattern\":{\"fillmode\":\"overlay\",\"size\":10,\"solidity\":0.2}},\"type\":\"histogram\"}],\"scattergl\":[{\"type\":\"scattergl\",\"marker\":{\"colorbar\":{\"outlinewidth\":0,\"ticks\":\"\"}}}],\"scatter3d\":[{\"type\":\"scatter3d\",\"line\":{\"colorbar\":{\"outlinewidth\":0,\"ticks\":\"\"}},\"marker\":{\"colorbar\":{\"outlinewidth\":0,\"ticks\":\"\"}}}],\"scattermapbox\":[{\"type\":\"scattermapbox\",\"marker\":{\"colorbar\":{\"outlinewidth\":0,\"ticks\":\"\"}}}],\"scatterternary\":[{\"type\":\"scatterternary\",\"marker\":{\"colorbar\":{\"outlinewidth\":0,\"ticks\":\"\"}}}],\"scattercarpet\":[{\"type\":\"scattercarpet\",\"marker\":{\"colorbar\":{\"outlinewidth\":0,\"ticks\":\"\"}}}],\"carpet\":[{\"aaxis\":{\"endlinecolor\":\"#2a3f5f\",\"gridcolor\":\"white\",\"linecolor\":\"white\",\"minorgridcolor\":\"white\",\"startlinecolor\":\"#2a3f5f\"},\"baxis\":{\"endlinecolor\":\"#2a3f5f\",\"gridcolor\":\"white\",\"linecolor\":\"white\",\"minorgridcolor\":\"white\",\"startlinecolor\":\"#2a3f5f\"},\"type\":\"carpet\"}],\"table\":[{\"cells\":{\"fill\":{\"color\":\"#EBF0F8\"},\"line\":{\"color\":\"white\"}},\"header\":{\"fill\":{\"color\":\"#C8D4E3\"},\"line\":{\"color\":\"white\"}},\"type\":\"table\"}],\"barpolar\":[{\"marker\":{\"line\":{\"color\":\"#E5ECF6\",\"width\":0.5},\"pattern\":{\"fillmode\":\"overlay\",\"size\":10,\"solidity\":0.2}},\"type\":\"barpolar\"}],\"pie\":[{\"automargin\":true,\"type\":\"pie\"}]},\"layout\":{\"autotypenumbers\":\"strict\",\"colorway\":[\"#636efa\",\"#EF553B\",\"#00cc96\",\"#ab63fa\",\"#FFA15A\",\"#19d3f3\",\"#FF6692\",\"#B6E880\",\"#FF97FF\",\"#FECB52\"],\"font\":{\"color\":\"#2a3f5f\"},\"hovermode\":\"closest\",\"hoverlabel\":{\"align\":\"left\"},\"paper_bgcolor\":\"white\",\"plot_bgcolor\":\"#E5ECF6\",\"polar\":{\"bgcolor\":\"#E5ECF6\",\"angularaxis\":{\"gridcolor\":\"white\",\"linecolor\":\"white\",\"ticks\":\"\"},\"radialaxis\":{\"gridcolor\":\"white\",\"linecolor\":\"white\",\"ticks\":\"\"}},\"ternary\":{\"bgcolor\":\"#E5ECF6\",\"aaxis\":{\"gridcolor\":\"white\",\"linecolor\":\"white\",\"ticks\":\"\"},\"baxis\":{\"gridcolor\":\"white\",\"linecolor\":\"white\",\"ticks\":\"\"},\"caxis\":{\"gridcolor\":\"white\",\"linecolor\":\"white\",\"ticks\":\"\"}},\"coloraxis\":{\"colorbar\":{\"outlinewidth\":0,\"ticks\":\"\"}},\"colorscale\":{\"sequential\":[[0.0,\"#0d0887\"],[0.1111111111111111,\"#46039f\"],[0.2222222222222222,\"#7201a8\"],[0.3333333333333333,\"#9c179e\"],[0.4444444444444444,\"#bd3786\"],[0.5555555555555556,\"#d8576b\"],[0.6666666666666666,\"#ed7953\"],[0.7777777777777778,\"#fb9f3a\"],[0.8888888888888888,\"#fdca26\"],[1.0,\"#f0f921\"]],\"sequentialminus\":[[0.0,\"#0d0887\"],[0.1111111111111111,\"#46039f\"],[0.2222222222222222,\"#7201a8\"],[0.3333333333333333,\"#9c179e\"],[0.4444444444444444,\"#bd3786\"],[0.5555555555555556,\"#d8576b\"],[0.6666666666666666,\"#ed7953\"],[0.7777777777777778,\"#fb9f3a\"],[0.8888888888888888,\"#fdca26\"],[1.0,\"#f0f921\"]],\"diverging\":[[0,\"#8e0152\"],[0.1,\"#c51b7d\"],[0.2,\"#de77ae\"],[0.3,\"#f1b6da\"],[0.4,\"#fde0ef\"],[0.5,\"#f7f7f7\"],[0.6,\"#e6f5d0\"],[0.7,\"#b8e186\"],[0.8,\"#7fbc41\"],[0.9,\"#4d9221\"],[1,\"#276419\"]]},\"xaxis\":{\"gridcolor\":\"white\",\"linecolor\":\"white\",\"ticks\":\"\",\"title\":{\"standoff\":15},\"zerolinecolor\":\"white\",\"automargin\":true,\"zerolinewidth\":2},\"yaxis\":{\"gridcolor\":\"white\",\"linecolor\":\"white\",\"ticks\":\"\",\"title\":{\"standoff\":15},\"zerolinecolor\":\"white\",\"automargin\":true,\"zerolinewidth\":2},\"scene\":{\"xaxis\":{\"backgroundcolor\":\"#E5ECF6\",\"gridcolor\":\"white\",\"linecolor\":\"white\",\"showbackground\":true,\"ticks\":\"\",\"zerolinecolor\":\"white\",\"gridwidth\":2},\"yaxis\":{\"backgroundcolor\":\"#E5ECF6\",\"gridcolor\":\"white\",\"linecolor\":\"white\",\"showbackground\":true,\"ticks\":\"\",\"zerolinecolor\":\"white\",\"gridwidth\":2},\"zaxis\":{\"backgroundcolor\":\"#E5ECF6\",\"gridcolor\":\"white\",\"linecolor\":\"white\",\"showbackground\":true,\"ticks\":\"\",\"zerolinecolor\":\"white\",\"gridwidth\":2}},\"shapedefaults\":{\"line\":{\"color\":\"#2a3f5f\"}},\"annotationdefaults\":{\"arrowcolor\":\"#2a3f5f\",\"arrowhead\":0,\"arrowwidth\":1},\"geo\":{\"bgcolor\":\"white\",\"landcolor\":\"#E5ECF6\",\"subunitcolor\":\"white\",\"showland\":true,\"showlakes\":true,\"lakecolor\":\"white\"},\"title\":{\"x\":0.05},\"mapbox\":{\"style\":\"light\"}}},\"xaxis\":{\"anchor\":\"y\",\"domain\":[0.0,1.0],\"title\":{\"text\":\"CODE_GENDER\"}},\"yaxis\":{\"anchor\":\"x\",\"domain\":[0.0,1.0],\"title\":{\"text\":\"EXT_SOURCE_2\"}},\"legend\":{\"title\":{\"text\":\"prediction_pret\"},\"tracegroupgap\":0},\"margin\":{\"t\":60},\"font\":{\"size\":12,\"color\":\"black\"}},                        {\"responsive\": true}                    ).then(function(){\n",
       "                            \n",
       "var gd = document.getElementById('42e1e0a3-a7dd-46af-941c-96a0e3ec36d5');\n",
       "var x = new MutationObserver(function (mutations, observer) {{\n",
       "        var display = window.getComputedStyle(gd).display;\n",
       "        if (!display || display === 'none') {{\n",
       "            console.log([gd, 'removed!']);\n",
       "            Plotly.purge(gd);\n",
       "            observer.disconnect();\n",
       "        }}\n",
       "}});\n",
       "\n",
       "// Listen for the removal of the full notebook cells\n",
       "var notebookContainer = gd.closest('#notebook-container');\n",
       "if (notebookContainer) {{\n",
       "    x.observe(notebookContainer, {childList: true});\n",
       "}}\n",
       "\n",
       "// Listen for the clearing of the current output cell\n",
       "var outputEl = gd.closest('.output');\n",
       "if (outputEl) {{\n",
       "    x.observe(outputEl, {childList: true});\n",
       "}}\n",
       "\n",
       "                        })                };                });            </script>        </div>"
      ]
     },
     "metadata": {},
     "output_type": "display_data"
    }
   ],
   "source": [
    "figure_variable_dash(df, \n",
    "                     [\"CODE_GENDER\", \"EXT_SOURCE_2\"], \n",
    "                     None,\n",
    "                     [100002, 100003], \n",
    "                     \"scatter\", \n",
    "                     {\"Pret\": \"blue\", \"Non pret\": \"red\"},\n",
    "                     12, \n",
    "                     12, \n",
    "                     \"circle\")"
   ]
  },
  {
   "cell_type": "code",
   "execution_count": 242,
   "id": "23de7850",
   "metadata": {},
   "outputs": [
    {
     "name": "stdout",
     "output_type": "stream",
     "text": [
      "Temps expiré, It's clearing time\n"
     ]
    }
   ],
   "source": [
    "def figure_variable_dash(df, selected_variable, selected_client, selected_client_score, selected_affichage, color_discrete_map, point_size, font_size, marker_type):\n",
    "    # Initialisation\n",
    "    figure_variables = px.scatter()\n",
    "\n",
    "    # On unpack\n",
    "    x_variable, y_variable = selected_variable\n",
    "    # Si une ou deux variables sont sélectionnées, on affiche soit un strip, soit un scatterplot\n",
    "    if x_variable is not None and df is not None:\n",
    "        hover_data = [\"SK_ID_CURR\", \"score_note\"]\n",
    "        color_column = df[\"prediction_pret\"]\n",
    "\n",
    "        if y_variable is None:\n",
    "            if selected_affichage == \"strip\":\n",
    "                figure_variables = px.strip(df, y=x_variable, \n",
    "                                            hover_data=hover_data, \n",
    "                                            color=color_column, \n",
    "                                            color_discrete_map=color_discrete_map).update_traces(offsetgroup=0.5)\n",
    "            elif selected_affichage == \"boxplot\":\n",
    "                figure_variables = px.box(df, y=x_variable, \n",
    "                                          hover_data=hover_data, \n",
    "                                          color=color_column, \n",
    "                                          color_discrete_map=color_discrete_map)\n",
    "        elif y_variable is not None:\n",
    "            if selected_affichage == \"scatter\":\n",
    "                figure_variables = px.scatter(df, x=x_variable, y=y_variable, \n",
    "                                              hover_data=hover_data, \n",
    "                                              color=color_column, \n",
    "                                              color_discrete_map=color_discrete_map)\n",
    "            elif selected_affichage == \"density\":\n",
    "                figure_variables = px.density_contour(df, x=x_variable, y=y_variable, \n",
    "                                                      hover_data=hover_data, \n",
    "                                                      color=color_column, \n",
    "                                                      color_discrete_map=color_discrete_map)\n",
    "                \n",
    "        if figure_variables:\n",
    "            figure_variables.update_layout(font=dict(size=font_size, color=\"black\"))\n",
    "            if selected_affichage != \"density\":\n",
    "                figure_variables.update_traces(marker=dict(symbol=marker_type, size=point_size))\n",
    "                    \n",
    "        if selected_client_score is not None :\n",
    "            # On sélectionne les ID des clients sélectionnés\n",
    "            selected_data = df[df[\"SK_ID_CURR\"].isin(selected_client_score)]\n",
    "            \n",
    "            if y_variable is None:\n",
    "                trace = px.strip(selected_data, y=x_variable, hover_data=hover_data\n",
    "                                ).update_traces(marker = dict(color = \"green\", symbol = marker_type), \n",
    "                                    marker_size=point_size, name=\"Sélectionné(s) score_note\", \n",
    "                                    marker_line_color=\"black\", marker_line_width=1)\n",
    "\n",
    "            elif y_variable is not None:\n",
    "                trace = px.scatter(selected_data, x=x_variable, y=y_variable, hover_data=hover_data\n",
    "                                ).update_traces(marker = dict(color = \"green\", symbol = marker_type), \n",
    "                                    marker_size=point_size, name=\"Sélectionné(s) score_note\", \n",
    "                                    marker_line_color=\"black\", marker_line_width=1)\n",
    "            \n",
    "            if (y_variable is not None) or (selected_affichage == \"boxplot\"):\n",
    "                figure_variables.add_trace(trace.data[0])\n",
    "            else:\n",
    "                figure_variables.add_trace(trace.data[0]).update_traces(offsetgroup=0.5)\n",
    "        \n",
    "        \n",
    "        if selected_client is not None :\n",
    "            selected_data_p = df[(df[\"SK_ID_CURR\"].isin(selected_client)) & (df[\"prediction_pret\"] == \"Pret\")]\n",
    "            selected_data_np = df[(df[\"SK_ID_CURR\"].isin(selected_client)) & (df[\"prediction_pret\"] == \"Non pret\")]\n",
    "            \n",
    "            for selected_data in [selected_data_p, selected_data_np]:\n",
    "                \n",
    "                if not selected_data.empty:\n",
    "                    \n",
    "                    if y_variable is None:\n",
    "                        trace = px.strip(selected_data, y=x_variable, color=selected_data[\"prediction_pret\"], \n",
    "                        color_discrete_map=color_discrete_map, hover_data=hover_data\n",
    "                        ).update_traces(marker = dict(symbol = marker_type), \n",
    "                                        marker_size=point_size+18, name=\"Sélectionné(s)\", \n",
    "                                        marker_line_color=\"black\", marker_line_width=2)\n",
    "\n",
    "                    elif y_variable is not None:\n",
    "                        trace = px.scatter(selected_data, x=x_variable, y=y_variable, color=selected_data[\"prediction_pret\"], \n",
    "                                           color_discrete_map=color_discrete_map, hover_data=hover_data\n",
    "                                          ).update_traces(marker = dict(symbol = marker_type), \n",
    "                                                          marker_size=point_size+18, name=\"Sélectionné(s)\", \n",
    "                                                          marker_line_color=\"black\", marker_line_width=2)\n",
    "                else :\n",
    "                    trace = px.strip()\n",
    "                if (y_variable is not None) or (selected_affichage == \"boxplot\"):\n",
    "                    figure_variables.add_trace(trace.data[0])\n",
    "                else:\n",
    "                    figure_variables.add_trace(trace.data[0]).update_traces(offsetgroup=0.5)\n",
    "        \n",
    "        \n",
    "\n",
    "    return figure_variables"
   ]
  },
  {
   "cell_type": "code",
   "execution_count": 173,
   "id": "b8a8f7eb",
   "metadata": {},
   "outputs": [],
   "source": [
    "def graph_risque(fl_risque, fl_nb_client, threshold_model):\n",
    "    fig_risque = px.line(fl_risque, x=\"Threshold\", y=\"Risque\", line_shape=\"linear\")\n",
    "    \n",
    "    fig_risque.update_yaxes(range=[0, fl_risque[\"Risque\"].max()])\n",
    "    \n",
    "    fig_risque.update_traces(fillcolor=\"rgba(0, 255, 0, 0.2)\")  \n",
    "    fig_risque.update_layout(\n",
    "        title=\"Risque de se tromper sur un client solvable selon le threshold\",\n",
    "        xaxis_title=\"Thresholds\",\n",
    "        yaxis_title=\"Risque de se tromper sur un client solvable (%)\",\n",
    "        xaxis_tickangle=-90,  \n",
    "    )   \n",
    "    fig_risque.add_shape(type=\"line\", x0=threshold_model, x1=threshold_model, y0=0, y1=fl_risque.Risque.max(),\n",
    "                            line=dict(color=\"black\", width=2), row=1, col=1)\n",
    "    \n",
    "    fig_risque.update_layout(\n",
    "        title=dict(font=dict(size=24, color=\"black\"), x=0.5, xanchor='center'),\n",
    "        font=dict(size=18, color=\"black\"))\n",
    "    \n",
    "    fig_client = px.line(fl_nb_client, x=\"Threshold\", y=\"Nombre de clients\", line_shape=\"linear\")\n",
    "\n",
    "    fig_client.update_yaxes(range=[0, fl_nb_client[\"Nombre de clients\"].max()])\n",
    "\n",
    "    fig_client.update_traces(fillcolor=\"rgba(0, 255, 0, 0.2)\")  \n",
    "    fig_client.update_layout(\n",
    "        title=\"Estimation du nombre de clients solvables trouvables\",\n",
    "        xaxis_title=\"Thresholds\",\n",
    "        yaxis_title=\"Pourcentage de clients solvables trouvables (%)\",\n",
    "        xaxis_tickangle=-90,  \n",
    "    )\n",
    "    \n",
    "    fig_client.add_shape(type=\"line\", x0=threshold_model, x1=threshold_model, y0=0, y1=fl_nb_client[\"Nombre de clients\"].max(),\n",
    "                            line=dict(color=\"black\", width=2), row=1, col=1)\n",
    "    \n",
    "    \n",
    "    fig_client.update_layout(\n",
    "        title=dict(font=dict(size=24, color=\"black\"), x=0.5, xanchor='center'),\n",
    "        font=dict(size=18, color=\"black\"))\n",
    "    \n",
    "    return fig_risque, fig_client"
   ]
  },
  {
   "cell_type": "code",
   "execution_count": 174,
   "id": "d3fc1051",
   "metadata": {},
   "outputs": [],
   "source": [
    "def personnalized_describe(df):\n",
    "    ##\n",
    "    #        Permet de mesure plusieurs métrics du dataframe\n",
    "    ##\n",
    "    liste_statistique = [\"Nombre d'entrées\", \"Remplissage\", \"Moyenne\", \"Mediane\", \"Ecart-type\", \"Maximum\", \"Minimun\"]\n",
    "    results = df.describe().transpose()\n",
    "    results['Remplissage'] = (df.count() / df.shape[0] * 100).round(2).astype(str) + \" %\"\n",
    "    \n",
    "    results.rename(columns={'50%': 'Mediane', 'count': \"Nombre d'entrées\", 'mean' : \"Moyenne\", 'std':\"Ecart-type\", 'max':\"Maximum\",'min':\"Minimun\"},\n",
    "                   inplace=True)\n",
    "    results = round(results, 2)\n",
    "    results.rename_axis(index='Statistiques', inplace=True)\n",
    "    \n",
    "    return results[liste_statistique].transpose()"
   ]
  },
  {
   "cell_type": "code",
   "execution_count": 175,
   "id": "02170111",
   "metadata": {},
   "outputs": [],
   "source": [
    "def test_stat(groupe1, groupe2):\n",
    "    \n",
    "    # On réalise un t-test\n",
    "    t_statistic, p_value = stats.ttest_ind(groupe1.dropna(), groupe2.dropna())\n",
    "\n",
    "    # On prend un alpa = 0.05\n",
    "    alpha = 0.05  \n",
    "\n",
    "    # On test s'il y a une différence significative ou non entre les 2 groupes\n",
    "    if p_value < alpha:\n",
    "        result = \"La moyenne des deux groupes est statistiquement différente\"\n",
    "    else:\n",
    "        result = \"La moyenne des deux groupes n'est pas statistiquement différente\"\n",
    "        \n",
    "    p_value = \"<0.001\" if p_value < 0.001 else \"{:.3f}\".format(p_value)\n",
    "\n",
    "    result = f\"p_value : {p_value}, Résultat : {result}\" \n",
    "\n",
    "    return result  "
   ]
  },
  {
   "cell_type": "code",
   "execution_count": 254,
   "id": "b1d28100",
   "metadata": {
    "scrolled": false
   },
   "outputs": [
    {
     "data": {
      "text/html": [
       "\n",
       "        <iframe\n",
       "            width=\"100%\"\n",
       "            height=\"650\"\n",
       "            src=\"http://127.0.0.1:8050/\"\n",
       "            frameborder=\"0\"\n",
       "            allowfullscreen\n",
       "            \n",
       "        ></iframe>\n",
       "        "
      ],
      "text/plain": [
       "<IPython.lib.display.IFrame at 0x29d4686b690>"
      ]
     },
     "metadata": {},
     "output_type": "display_data"
    }
   ],
   "source": [
    "##### Initialize the app - incorporate css\n",
    "external_stylesheets = ['https://codepen.io/chriddyp/pen/bWLwgP.css']\n",
    "\n",
    "app = Dash(__name__, external_stylesheets=external_stylesheets, suppress_callback_exceptions=True)\n",
    "\n",
    "#server = app.server\n",
    "app.title = 'Modèle de prédiction'\n",
    "\n",
    "versionning = \"version : 1.3.0\"\n",
    "\n",
    "temps_actuel = time.time()\n",
    "# Temps d'inactivité\n",
    "temps_inactivite = 5 * 60\n",
    "interval_check = 5*60*1000 # 5 minutes\n",
    "\n",
    "initial_size = 18\n",
    "initial_point_size = 8\n",
    "initial_palette = \"plotly\"\n",
    "initial_style_point = \"circle\"\n",
    "\n",
    "# On récupère le threshold optimal du modèle\n",
    "initial_threshold = API_get_threshold()\n",
    "\n",
    "lettres = ['a', 'b', 'c', 'd', 'e', 'f']\n",
    "signes = ['++', '+', '-', '--']\n",
    "\n",
    "options = [{'label': f'{letter}', 'value': f'{letter}'}\n",
    "           for letter in lettres]\n",
    "\n",
    "options += [{'label': f'{letter}{sign}', 'value': f'{letter}{sign}'}\n",
    "            for letter in lettres for sign in signes]\n",
    "\n",
    "\n",
    "# On charge l'importance des features sur le modèle qui a été généré par SHAP\n",
    "feature_importance = API_feature_importance_model()\n",
    "\n",
    "# Define the layout for the home page\n",
    "home_page = html.Div([ \n",
    "    # Titre dashboard\n",
    "    html.Div(className='row', children=\"Utilisation du modèle pour prédire l'obtention d'un prêt\",\n",
    "             style={'textAlign': 'center', 'color': 'black', 'fontSize': 48}),\n",
    "    \n",
    "    html.Div(className='row', children=versionning,\n",
    "             style={'textAlign': 'right', 'color': 'black', 'fontSize': 12}),\n",
    "    \n",
    "    html.Hr(style={'border-top': '4px solid black'}), # Ligne horizontale\n",
    "    \n",
    "    dcc.Link(\"Calibration du modèle\", href=\"/page_2\"),\n",
    "    \n",
    "    # Upload liste de clients et leur caractéristiques\n",
    "    html.Div(className='row',\n",
    "        style={'textAlign': 'center', 'color': 'black', 'fontSize': 24}, children=[\n",
    "            html.Div(className='row', children = \"Chargez votre fichier clients ou le fichier test.csv\"),\n",
    "            # Boutton pour upload données \n",
    "            dcc.Upload(id=\"upload-data\",children=[\n",
    "                html.Button(\"Upload un fichier .csv (10 MB maximum)\", style={'color': 'black'})], multiple=False),\n",
    "            html.Div(className='row', children=\"ou\"),\n",
    "            # Boutton pour upload les données tests\n",
    "            html.Button(\"Upload test.csv\", id=\"test_file_button\", n_clicks=0, style={'color': 'black', 'margin-right': '10px'}),\n",
    "            # Boutton pour upload les données tests\n",
    "            html.Button(html.Strong(\"Effacer données\"), id=\"del_file_button\", n_clicks=0, style={'color': 'black'}),\n",
    "    ]),   \n",
    "    html.Hr(style={'border-top': '1px solid black'}), # Ligne horizontale\n",
    "    \n",
    "        # Choix des clients\n",
    "\n",
    "    html.Div(className='client-selection', children=[\n",
    "            html.Div(\"Visualisez les résultats de prédiction de prêt sur l'ensemble de vos clients (ou sélectionnés):\",\n",
    "                     style={'textAlign': 'center', 'color': 'black', 'fontSize': 30}),\n",
    "            html.Div([\n",
    "                dcc.Dropdown(\n",
    "                    value=None,\n",
    "                    style={'textAlign': 'left', 'color': 'black', 'fontSize': 15, 'width': '100%','margin-right': '10px'},\n",
    "                    placeholder=\"Sélection client(s)\",\n",
    "                    multi=True,\n",
    "                    id='dropdown_client',\n",
    "                ),\n",
    "                dcc.Dropdown(\n",
    "                    value=None,\n",
    "                    style={'textAlign': 'left', 'color': 'black', 'fontSize': 15, 'width': '100%'},\n",
    "                    placeholder=\"Sélection catégorie de clients\",\n",
    "                    multi=False,\n",
    "                    id='dropdown_client_categorie',\n",
    "                ),  \n",
    "            ], style={'display': 'flex', 'flex-direction': 'row', 'width': '100%'}),\n",
    "            html.Div([\n",
    "                dcc.Dropdown(\n",
    "                    value=None,\n",
    "                    style={'textAlign': 'left', 'color': 'black', 'fontSize': 15, 'width': '100%'},\n",
    "                    placeholder=\"Sélection catégorie de note de clients\",\n",
    "                    multi=False,\n",
    "                    id='dropdown_score_note')\n",
    "            ], style={'float': 'right', 'width': '50%'})\n",
    "        ],\n",
    "    ),\n",
    "\n",
    "    # On affiche les 2 tableaux\n",
    "    html.Div([\n",
    "        html.Div(\"Visualisation des données\", style={'float': 'center', 'textAlign': 'center', 'color': 'black', 'fontSize': 24, 'width': '50%'}),\n",
    "        html.Div(\"Score de prédiction de l'obtention d'un prêt\", style={'float': 'center', 'textAlign': 'center', 'color': 'black', 'fontSize': 24, 'width': '50%'}),\n",
    "    ], style={'display': 'flex', 'flex-direction': 'row', 'width': '100%'}),\n",
    "    \n",
    "    html.Div([\n",
    "        html.Div(id=\"table_client\", style={'width': '50%','margin-right': '10px'}),\n",
    "        html.Div(id=\"table_prediction\", style={'width': '50%', 'margin-left': '50px'}),\n",
    "    ], style={'display': 'flex', 'flex-direction': 'row', 'width': '100%'}),\n",
    "    \n",
    "    html.Div([\n",
    "            html.Button(\"⇓ Desciption des données ⇓\", id=\"describe-button\", n_clicks = 1, style = {'display': 'none'}),\n",
    "            html.Div(id=\"table_description\"),\n",
    "        ],  style={'color': 'black'}),\n",
    "\n",
    "    html.Hr(style={'border-top': '1px solid black'}), # Ligne horizontale\n",
    "\n",
    "        # Upload liste de clients et leur caractéristiques\n",
    "    html.Div(className='row',\n",
    "        style={'textAlign': 'center', 'color': 'black', 'fontSize': 24}, children=[\n",
    "            html.Div(className='row', children = \"Télécharger les résultats de la prédiction\"),\n",
    "            # Boutton pour download les résultats \n",
    "            html.Button(\"Result_prediction_all.csv\", id=\"download-data_all-button\", n_clicks = 0, style={'color': 'black', 'margin-right':'10px'}),\n",
    "            html.Button(\"Result_prediction_client.csv\", id=\"download-data_client-button\", n_clicks = 0, style={'color': 'black'}),\n",
    "            dcc.Download(id=\"download-data\"),\n",
    "    ]),  \n",
    "\n",
    "    html.Hr(style={'border-top': '1px solid black'}), # Ligne horizontale\n",
    "\n",
    "\n",
    "    html.Div(className=\"figure_client\", children=[\n",
    "        html.Div(className='row', children=\"Options d'affichages\",\n",
    "            style={'textAlign': 'center', 'color': 'black', 'fontSize': 30}),\n",
    "        # Option pour la taille des polices, des points et couleurs graphiques\n",
    "        html.Div([\n",
    "            html.Label(\"Taille police (axes et valeurs)\", style={'textAlign': 'center'}),\n",
    "            dcc.Slider(id='font-size-slider', min=18, max=36, step=2, value=initial_size,\n",
    "                marks={i: str(i) for i in range(18, 37, 2)})\n",
    "        ], style={'width': '50%', 'float': 'left', 'margin': '0 auto'}),\n",
    "\n",
    "        html.Div([\n",
    "            html.Label(\"Taille points (graphique)\", style={'textAlign': 'center'}),\n",
    "            dcc.Slider(id='point-size-slider', min=4, max=16, step=2, value=initial_point_size,\n",
    "                marks={i: str(i) for i in range(4, 17, 2)})\n",
    "        ], style={'width': '50%', 'float': 'right', 'margin': '0 auto'}),\n",
    "\n",
    "        html.Div([\n",
    "            html.Div([\n",
    "                html.Label(\"Palette de couleurs :\"),\n",
    "                dcc.RadioItems(id='color-palette-dropdown',\n",
    "                    style={'color': 'black', 'fontSize': 15},\n",
    "                    value=initial_palette, inline=True,\n",
    "                    options=[\n",
    "                        {'label': 'Défaut', 'value': 'plotly'},\n",
    "                        {'label': 'Daltonien', 'value': 'colorblind'}\n",
    "                    ]\n",
    "                )], style={'width': '50%', 'float': 'left'}),\n",
    "            html.Div([\n",
    "                html.Label(\"Palette de styles :\"),\n",
    "                dcc.RadioItems(id='style-point-dropdown',\n",
    "                    style={'color': 'black', 'fontSize': 15},\n",
    "                    value=initial_style_point, inline=True,\n",
    "                    options=[\n",
    "                        {'label': 'Rond', 'value': 'circle'},\n",
    "                        {'label': 'Carré', 'value': 'square'},\n",
    "                        {'label': 'Croix', 'value': 'x'},\n",
    "                        {'label': 'Diamand', 'value': 'diamond'}\n",
    "                    ]\n",
    "                )], style={'width': '50%', 'float': 'right'}),\n",
    "            ], style={'textAlign': 'center', 'width': '100%'}),\n",
    "        \n",
    "        html.Div([\n",
    "            html.Button(\"RESET affichage\", id='reset-button', n_clicks=0),\n",
    "        ], style={'textAlign': 'center', 'width': '100%'})\n",
    "    ]),\n",
    "\n",
    "        html.Hr(style={'border-top': '1px solid black'}), # Ligne horizontale\n",
    "\n",
    "\n",
    "    # Choix des variables à représenter\n",
    "        html.Div(\"Afficher la distribution des scores et des variables définissant les clients\",\n",
    "         style={'textAlign': 'center', 'color': 'black', 'fontSize': 30}),\n",
    "        html.Div([\n",
    "            html.Label(\"Sélectionnez une métrique de score :\", \n",
    "                style={'textAlign': 'center', 'color': 'black', 'fontSize': 15}),\n",
    "            dcc.RadioItems(id='dropdown_scoring', \n",
    "                style={'textAlign': 'center', 'color': 'black', 'fontSize': 15},\n",
    "                options=[\n",
    "                    {'label': 'Score', 'value': 'score'},\n",
    "                    {'label': 'Proba_pred_pret', 'value': 'proba_pred_pret'},\n",
    "                    {'label': 'Score_note', 'value': 'score_note'}],\n",
    "                value='score', inline=True)],\n",
    "            style={'width': '50%', 'float': 'left'}),\n",
    "\n",
    "        html.Div([\n",
    "            html.Div([\n",
    "                dcc.Dropdown(\n",
    "                    value=None,\n",
    "                    style={'textAlign': 'center', 'color': 'black', 'fontSize': 15},\n",
    "                    placeholder=\"Sélection variable (abscisse)\",\n",
    "                    multi=False,\n",
    "                    id='dropdown_variable_x'\n",
    "                )\n",
    "            ], style={'width': '50%', 'display': 'inline-block'}),\n",
    "\n",
    "            html.Div([\n",
    "                dcc.Dropdown(\n",
    "                    value=None,\n",
    "                    style={'textAlign': 'center', 'color': 'black', 'fontSize': 15},\n",
    "                    placeholder=\"Sélection variable (ordonné)\",\n",
    "                    multi=False,\n",
    "                    id='dropdown_variable_y'\n",
    "                )\n",
    "            ], style={'width': '50%', 'display': 'inline-block'}),\n",
    "             \n",
    "            html.Button(\"⇐ Echanger ⇒\", id='exchange-button', n_clicks=0),\n",
    "            \n",
    "            dcc.RadioItems(id='dropdown_fig_type', \n",
    "                style={'textAlign': 'center', 'color': 'black', 'fontSize': 15},\n",
    "                options=[\n",
    "                    {'label': 'Strip', 'value': 'strip'},\n",
    "                    {'label': 'Boxplot', 'value': 'boxplot'}],\n",
    "                value='strip', inline=True)], style={'width': '50%', 'float': 'right'}),\n",
    "\n",
    "        html.Div([\n",
    "            html.Div([\n",
    "            dcc.Graph(id=\"graph_pred\", style={'height': '600px', 'width': '50%', 'float': 'left'}),\n",
    "\n",
    "            dcc.Graph(id=\"graph_variables\", style={'height': '600px', 'width': '50%', 'float': 'right'}),\n",
    "\n",
    "            ], style={'display': 'flex', 'flex-direction': 'row', 'width': '100%'}),\n",
    "            html.Div(children=\"\", id='statistique-variables', style={'width': '100%', 'float': 'left'}),\n",
    "            html.Hr(style={'border-top': '0px solid black'}), # Ligne horizontale\n",
    "        ], style={'display': 'flex', 'flex-direction': 'column', 'width': '100%'}),\n",
    "         \n",
    "        html.Hr(style={'border-top': '1px solid black'}), # Ligne horizontale\n",
    "    \n",
    "        html.Div(className='row', children=\"Information sur le modèle et les clients\",\n",
    "            style={'textAlign': 'center', 'color': 'black', 'fontSize': 30}),\n",
    "        \n",
    "        html.Div([ \n",
    "            html.Label(\"Importances des variables pour le modèle (défaut = 0.9)\", \n",
    "            style={'textAlign': 'center', 'color': 'black', 'fontSize': 18}),\n",
    "            \n",
    "            dcc.Slider(id='feature-importance-slider', min=0, max=1, step=0.05, value=0.9,\n",
    "                marks={i: str(round(i, 2)) for i in np.arange(0, 1.01, 0.05)}),\n",
    "        ], style={'width': '50%', 'float': 'left'}),\n",
    "        \n",
    "        html.Div([\n",
    "            dcc.Dropdown(\n",
    "                style={'textAlign': 'center','color': 'black','fontSize': 15,  'float': 'center'},\n",
    "                placeholder=\"Sélection client parmis les clients sélectionnés (1 client maximum)\",\n",
    "                value=None, multi=False, id='dropdown_client_var'\n",
    "            ),\n",
    "        ], style={'width': '50%', 'float': 'right', 'margin': '0 auto'}),\n",
    "        \n",
    "        html.Div([\n",
    "            dcc.Graph(id=\"graph_model\", style={'width': '50%', 'float': 'left'}),\n",
    "        \n",
    "            dcc.Graph(id=\"graph_client\", style={'width': '50%', 'float': 'right'}),\n",
    "        ], style={'display': 'flex', 'flex-direction': 'row', 'width': '100%'}),\n",
    "        \n",
    "    # Nous permet de suivre l'activité utilisateur, si pas d'activité, élimination des données\n",
    "    dcc.Interval(\n",
    "        id='activity-interval',\n",
    "        interval=interval_check, \n",
    "        n_intervals=0),\n",
    "    dcc.Store(id='clear-screen', data=False),\n",
    "    dcc.Store(id='time_session', data=None),\n",
    "    dcc.Store(id='initialize_figure_model', data=False),  \n",
    "    dcc.Store(id='fichier_utilisateur', data=None),\n",
    "    dcc.Store(id='fichier_utilisateur_prediction', data=None),\n",
    "    dcc.Store(id='selected_clients_note', data=None),\n",
    "\n",
    "]),\n",
    "\n",
    "\n",
    "# On crée une seconde page qui permettra à l'utilisateur de modifier le modèle\n",
    "page_2 = html.Div([\n",
    "    html.Div([\n",
    "        dcc.Link(\"Retour à la page principale\", href=\"/\")]),\n",
    "    \n",
    "    html.Div([\n",
    "        html.Label(\"Threshold du modèle\", style={'textAlign': 'center'}),\n",
    "        dcc.Slider(id='threshold-slider', min=0, max=0.99, step=0.01, value=None, \n",
    "                marks={initial_threshold: {'label': f\"{initial_threshold}\"}},\n",
    "        tooltip={\"placement\": \"bottom\", \"always_visible\": True})\n",
    "    ], style={'width': '75%', 'float': 'center', 'margin': '0 auto'}),\n",
    "    \n",
    "    html.Div([\n",
    "            html.Button(\"RESET Threshold\", id='reset-button-threshold', n_clicks=0),\n",
    "        ], style={'textAlign': 'center', 'width': '100%'}),\n",
    "    \n",
    "    html.Div([\n",
    "        html.Div(id=\"risk-display\"),\n",
    "        html.Div(id=\"risk-model-display\"),\n",
    "        html.Div(id=\"risk-dynamic-display\")\n",
    "    ], style={'display': 'flex', 'flex-direction': 'row', 'width': '100%'}),\n",
    "    \n",
    "        html.Div([\n",
    "        dcc.Graph(id=\"graph_risque\", style={'height': '600px', 'width': '50%', 'float': 'left'}),\n",
    "\n",
    "        dcc.Graph(id=\"graph_nb_client\", style={'height': '600px', 'width': '50%', 'float': 'right'}),\n",
    "\n",
    "        ], style={'display': 'flex', 'flex-direction': 'row', 'width': '100%'}),\n",
    "    \n",
    "    dcc.Store(id='file_risque', data=None),\n",
    "    dcc.Store(id='file_nb_client', data=None),\n",
    "    \n",
    "])\n",
    "\n",
    "app.layout = html.Div([\n",
    "    dcc.Location(id='url', refresh=False),\n",
    "\n",
    "    # Contenu de la page\n",
    "    html.Div(id='page-content'),\n",
    "    \n",
    "    # On initialise la valeur \n",
    "    dcc.Store(id='threshold_model', data=initial_threshold),\n",
    "])\n",
    "\n",
    "\n",
    "# Callback pour mettre à jour la page\n",
    "@app.callback(\n",
    "    Output('page-content', 'children'),\n",
    "    Input('url', 'pathname')\n",
    ")\n",
    "def display_page(pathname):\n",
    "    if pathname == '/page_2':\n",
    "        return page_2\n",
    "    else:\n",
    "        return home_page    \n",
    "    \n",
    "@app.callback(\n",
    "    Output('threshold-slider', 'value'),\n",
    "    Output('threshold_model', 'data'),\n",
    "    \n",
    "    Input('threshold-slider', 'value'),\n",
    "    Input('threshold_model', 'data'),\n",
    "    Input('reset-button-threshold', 'n_clicks'),\n",
    "    Input('graph_risque', 'clickData'),\n",
    "    Input('graph_nb_client', 'clickData'),   \n",
    ") \n",
    "\n",
    "def modification_threshold_page2(threshold_slider, threshold_model, reset_button, click_risque, click_client):\n",
    "    # On initialise ou on réinitialise\n",
    "    if threshold_slider is None:\n",
    "        if threshold_model != initial_threshold :\n",
    "            return threshold_model, threshold_model\n",
    "        \n",
    "        else:\n",
    "            return initial_threshold, initial_threshold\n",
    "    \n",
    "    elif ctx.triggered_id == \"reset-button-threshold\":\n",
    "        return initial_threshold, initial_threshold\n",
    "    # On modifie si on touche le graphique\n",
    "    elif ctx.triggered_id == \"graph_risque\":\n",
    "        return click_risque[\"points\"][0][\"x\"], click_risque[\"points\"][0][\"x\"]\n",
    "    elif ctx.triggered_id == \"graph_nb_client\":\n",
    "        return click_client[\"points\"][0][\"x\"], click_client[\"points\"][0][\"x\"]\n",
    "    else: \n",
    "        return threshold_slider, threshold_slider\n",
    "    \n",
    "@app.callback(    \n",
    "    Output(component_id=\"file_risque\", component_property=\"data\"),\n",
    "    Output(component_id=\"file_nb_client\", component_property=\"data\"),\n",
    "    \n",
    "    Input(component_id=\"file_risque\", component_property=\"data\"),\n",
    "    Input(component_id=\"file_nb_client\", component_property=\"data\"),\n",
    ")\n",
    "\n",
    "def read_file_page2(fl_risque, fl_nb_client):\n",
    "    if (fl_risque is None and fl_nb_client is None):\n",
    "        fl_risque, fl_nb_client = API_risque_th_model(), API_client_th_model()\n",
    "        fl_risque = fl_risque.to_json(date_format='iso', orient='split')\n",
    "        fl_nb_client = fl_nb_client.to_json(date_format='iso', orient='split')\n",
    "        return fl_risque, fl_nb_client\n",
    "    else : \n",
    "        return dash.no_update, dash.no_update\n",
    "   \n",
    "    \n",
    "@app.callback(    \n",
    "    Output(component_id=\"graph_risque\", component_property=\"figure\"),\n",
    "    Output(component_id=\"graph_nb_client\", component_property=\"figure\"),\n",
    "    \n",
    "    Input(component_id=\"file_risque\", component_property=\"data\"),\n",
    "    Input(component_id=\"file_nb_client\", component_property=\"data\"),\n",
    "    Input('threshold_model', 'data'),\n",
    ")\n",
    "\n",
    "def graphs_page2(fl_risque, fl_nb_client, threshold_model):\n",
    "    \n",
    "    fl_risque = pd.read_json(fl_risque, orient='split')\n",
    "    fl_nb_client = pd.read_json(fl_nb_client, orient='split')\n",
    "    \n",
    "    fig_risque, fig_client = graph_risque(fl_risque, fl_nb_client, threshold_model)\n",
    "    \n",
    "    return fig_risque, fig_client\n",
    "\n",
    "@app.callback(\n",
    "    Output(component_id=\"risk-display\", component_property=\"children\"),\n",
    "    Output(component_id=\"risk-model-display\", component_property=\"children\"),\n",
    "    Output(component_id=\"risk-dynamic-display\", component_property=\"children\"),\n",
    "    \n",
    "    Input(component_id=\"file_risque\", component_property=\"data\"),\n",
    "    Input(component_id=\"file_nb_client\", component_property=\"data\"),\n",
    "    Input('threshold_model', 'data'),\n",
    ")\n",
    "\n",
    "def affichage_texte_page2(fl_risque, fl_nb_client, threshold_model):\n",
    "    \n",
    "    fl_risque = pd.read_json(fl_risque, orient='split')\n",
    "    fl_nb_client = pd.read_json(fl_nb_client, orient='split')\n",
    "    \n",
    "    textes = []\n",
    "    \n",
    "    for i in range(3) :\n",
    "        if i == 0:\n",
    "            risque_pourcent = fl_risque.loc[fl_risque.Threshold.min(), 'Risque']\n",
    "            nb_client_pourcent = fl_nb_client.loc[fl_nb_client.Threshold.min(), 'Nombre de clients']\n",
    "            sentence = f\"Risque sans le modèle : {risque_pourcent:.2f} %\"\n",
    "            \n",
    "        elif i == 1:\n",
    "            risque_pourcent = fl_risque.loc[fl_risque.Threshold == initial_threshold, 'Risque'].values[0]\n",
    "            nb_client_pourcent = fl_nb_client.loc[fl_nb_client.Threshold == initial_threshold, 'Nombre de clients'].values[0]\n",
    "            sentence = f\"Risque avec le modèle : {risque_pourcent:.2f} %\"\n",
    "        else:\n",
    "            if not fl_risque.empty:\n",
    "                risque_pourcent = fl_risque.loc[fl_risque.Threshold == threshold_model, 'Risque'].values[0]\n",
    "            else:\n",
    "                risque_pourcent = 0\n",
    "            if not fl_nb_client.empty:\n",
    "                nb_client_pourcent = fl_nb_client.loc[fl_nb_client.Threshold == threshold_model, 'Nombre de clients'].values[0]\n",
    "            else:\n",
    "                nb_client_pourcent = 0\n",
    "            \n",
    "            sentence = f\"Risque avec nouveau threshold : {risque_pourcent:.2f} %\"\n",
    "    \n",
    "\n",
    "        sentence2 = f\"Pourcentage de clients solvable trouvable : {nb_client_pourcent:.2f} %\"\n",
    "            \n",
    "        textes.append(html.Div([\n",
    "            html.Div(\n",
    "                sentence,\n",
    "            ),\n",
    "            html.Div(\n",
    "                sentence2,\n",
    "            ),\n",
    "        ],\n",
    "        style={\n",
    "            'width': '600px', \n",
    "            'height': '300px',  \n",
    "            'border': '2px solid #000', \n",
    "            'textAlign': 'center', \n",
    "            'verticalAlign': 'middle',  \n",
    "            'lineHeight': '150px',  \n",
    "            'fontSize': '18px',  \n",
    "            'background-color': '#f0f0f0',  \n",
    "            'border-radius': '10px', \n",
    "        }))\n",
    "        \n",
    "\n",
    "    return textes[0], textes[1], textes[2]\n",
    "\n",
    "    \n",
    "    \n",
    "    \n",
    "@app.callback(    \n",
    "    Output(component_id=\"fichier_utilisateur\", component_property=\"data\"),\n",
    "    Output(component_id=\"fichier_utilisateur_prediction\", component_property=\"data\"),\n",
    "    \n",
    "    Input(component_id=\"test_file_button\", component_property=\"n_clicks\"),\n",
    "    Input(component_id=\"upload-data\", component_property=\"contents\"),  \n",
    "    Input(component_id=\"clear-screen\", component_property=\"data\"),\n",
    "    Input(component_id=\"del_file_button\", component_property=\"n_clicks\"),\n",
    "    \n",
    "    State(component_id=\"threshold_model\", component_property=\"data\"),\n",
    "    \n",
    "    prevent_initial_call=True,\n",
    ")\n",
    "\n",
    "# Téléchargement des fichiers\n",
    "def gestion_files(n_clicks_load_file, content, clear_statut, n_clicks_, proba_threshold_model):\n",
    "            \n",
    "    # On charge un fichier csv \n",
    "    if content is not None: \n",
    "        content_type, content_string = content.split(\",\")\n",
    "        decoded = base64.b64decode(content_string)\n",
    "        \n",
    "        file_size = len(decoded)\n",
    "        \n",
    "        # on met une taille limite sur le fichier téléchargé de 10 MB\n",
    "        if file_size > 10 * 1024 * 1024:\n",
    "            print(\"La taille du fichier est plus importante que la taille limite\")\n",
    "            \n",
    "            fichier_utilisateur = None\n",
    "            fichier_utilisateur_score = None\n",
    "        else :\n",
    "            file_df = pd.read_csv(io.StringIO(decoded.decode('utf-8')))\n",
    "\n",
    "            # Plusieurs étapes de préparation du fichier\n",
    "            file_df = application_model(file_df, proba_threshold_model)\n",
    "            file_df_client_score = API_local_importance(file_df)\n",
    "\n",
    "            # On prépare pour stocker sur l'app\n",
    "            fichier_utilisateur = file_df.to_json(date_format='iso', orient='split')\n",
    "            fichier_utilisateur_score = file_df_client_score.to_json(date_format='iso', orient='split')\n",
    "\n",
    "    \n",
    "    # On charge le fichier test.csv (en local, livré avec l'application)\n",
    "    elif ctx.triggered_id == \"test_file_button\":\n",
    "        file_df = pd.read_csv(\"test.csv\")\n",
    "        \n",
    "        # On mesure les différentes métriques\n",
    "        file_df = application_model(file_df, proba_threshold_model)\n",
    "        file_df_client_score = API_local_importance(file_df)\n",
    "        fichier_utilisateur = file_df.to_json(date_format='iso', orient='split')\n",
    "        fichier_utilisateur_score = file_df_client_score.to_json(date_format='iso', orient='split')\n",
    "                \n",
    "    # on efface les données\n",
    "    elif clear_statut == True :\n",
    "        fichier_utilisateur = None\n",
    "        fichier_utilisateur_score = None\n",
    "        \n",
    "    # on efface les données si on appuie sur le boutton effacer les données\n",
    "    elif ctx.triggered_id == \"del_file_button\":\n",
    "        fichier_utilisateur = None\n",
    "        fichier_utilisateur_score = None\n",
    "    \n",
    "    else:\n",
    "        fichier_utilisateur = dash.no_update\n",
    "        fichier_utilisateur_score = dash.no_update\n",
    "    \n",
    "    \n",
    "    return fichier_utilisateur, fichier_utilisateur_score\n",
    "\n",
    "\n",
    "@app.callback(\n",
    "\n",
    "    Output(component_id=\"dropdown_client\", component_property=\"options\"),\n",
    "    Output(component_id=\"dropdown_variable_x\", component_property=\"options\"),\n",
    "    Output(component_id=\"dropdown_variable_y\", component_property=\"options\"),\n",
    "    Output(component_id=\"dropdown_fig_type\", component_property=\"options\"),\n",
    "    Output(component_id=\"dropdown_client_var\", component_property=\"options\"),\n",
    "    Output(component_id=\"dropdown_client_categorie\", component_property=\"options\"),\n",
    "    Output(component_id=\"dropdown_score_note\", component_property=\"options\"),\n",
    "    \n",
    "    Output(component_id=\"dropdown_client\", component_property=\"value\"),\n",
    "    Output(component_id=\"selected_clients_note\", component_property=\"value\"),\n",
    "    Output(component_id=\"dropdown_variable_x\", component_property=\"value\"),\n",
    "    Output(component_id=\"dropdown_variable_y\", component_property=\"value\"),\n",
    "    Output(component_id=\"dropdown_fig_type\", component_property=\"value\"),\n",
    "    Output(component_id=\"exchange-button\", component_property=\"n_clicks\"),\n",
    "\n",
    "    Input(component_id=\"dropdown_client\", component_property=\"value\"),\n",
    "    Input(component_id=\"dropdown_score_note\", component_property=\"value\"),\n",
    "    Input(component_id=\"dropdown_client_categorie\", component_property=\"value\"),\n",
    "    Input(component_id=\"dropdown_variable_x\", component_property=\"value\"),\n",
    "    Input(component_id=\"dropdown_variable_y\", component_property=\"value\"),\n",
    "    Input(component_id=\"dropdown_fig_type\", component_property=\"value\"),\n",
    "    Input(component_id=\"dropdown_client_var\", component_property=\"value\"),   \n",
    "    Input(component_id=\"feature-importance-slider\", component_property=\"value\"),   \n",
    "    Input(component_id=\"clear-screen\", component_property=\"data\"),\n",
    "    Input(component_id=\"exchange-button\", component_property=\"n_clicks\"),\n",
    "    Input(component_id=\"fichier_utilisateur\", component_property=\"data\"),  \n",
    "    Input(component_id=\"graph_pred\", component_property=\"clickData\"),\n",
    "    Input(component_id=\"graph_variables\", component_property=\"clickData\"),\n",
    "    \n",
    "    prevent_initial_call=True,\n",
    ")\n",
    "\n",
    "def update_dropdown_menu(selected_client, selected_client_note, selected_client_categ, selected_variable_x, selected_variable_y, \n",
    "                         selected_affichage, selected_client_variable, variance_importance, \n",
    "                         clear_statut, n_click_echange, fichier_utilisateur, click_graph_pred, click_graph_var):\n",
    "    \n",
    "    if ctx.triggered_id == \"exchange-button\":\n",
    "        # Remise à 0 du boutton\n",
    "        n_click_echange = 0\n",
    "        # On empêche l'actualisation des autres\n",
    "        (option_drop_clients, option_drop_var_graph, option_client_variable,\n",
    "                selected_client, selected_client_note_liste, selected_affichage, option_client_categ, option_note_categ) = [dash.no_update,\n",
    "        dash.no_update,dash.no_update,dash.no_update,dash.no_update,dash.no_update,dash.no_update, dash.no_update]\n",
    "        \n",
    "        # on vérifie qu'on a bien 2 variables d'entrées\n",
    "        if selected_variable_y is not None :\n",
    "            temp = selected_variable_x\n",
    "            selected_variable_x = selected_variable_y\n",
    "            selected_variable_y = temp\n",
    "            \n",
    "            # On réactualise la liste du drop\n",
    "            feat_imp_threshold = feature_importance_threshold(feature_importance, \"Features\", \"Importance\", variance_importance).Features.values\n",
    "            option_drop_var_x=[{'label': str(var), 'value': var} for var in [col for col in feat_imp_threshold]]\n",
    "            option_drop_var_y=[{'label': str(var), 'value': var} for var in \n",
    "                               [col for col in feat_imp_threshold if col != selected_variable_x]]\n",
    "        else :\n",
    "            selected_variable_x, selected_variable_y = dash.no_update, dash.no_update\n",
    "            option_drop_var_x, option_drop_var_y = dash.no_update, dash.no_update\n",
    "            \n",
    "        return (option_drop_clients, option_drop_var_x, option_drop_var_y, option_drop_var_graph, option_client_variable,\n",
    "                option_client_categ, option_note_categ, selected_client, selected_client_note_liste, selected_variable_x, selected_variable_y, selected_affichage, n_click_echange)\n",
    "    \n",
    "    # Par défaut, si aucun fichier de chargé\n",
    "    if (fichier_utilisateur is None) or (clear_statut is True):\n",
    "        return ([], [], [], [], [], [], [], None, None, None, None, None, 0)\n",
    "        \n",
    "    elif fichier_utilisateur is not None :\n",
    "        \n",
    "        file_df = pd.read_json(fichier_utilisateur, orient='split')\n",
    "      \n",
    "        # On met à jour la liste de dropdown\n",
    "        # La liste de variable est dépendante de la liste de feature importance\n",
    "\n",
    "        feat_imp_threshold = feature_importance_threshold(feature_importance, \"Features\", \"Importance\", variance_importance).Features.values\n",
    "        # Liste de variables (dépend des features liés au threshold du modèle)\n",
    "        option_drop_var_x=[{'label': str(var), 'value': var} for var in [col for col in feat_imp_threshold]]\n",
    "        option_drop_var_y=[]\n",
    "        \n",
    "        # Liste des clients selon le fichier loadé\n",
    "        # Et dépendant si choix d'une catégorie de clients ou non\n",
    "        if selected_client_categ is not None:\n",
    "            filtered_df = file_df[file_df['prediction_pret'] == selected_client_categ]\n",
    "            option_drop_clients=[{'label': str(client), 'value': client} for client in filtered_df['SK_ID_CURR']]    \n",
    "        else :\n",
    "            option_drop_clients=[{'label': str(client), 'value': client} for client in file_df['SK_ID_CURR']] \n",
    "        \n",
    "        # On revient à la condition initiale\n",
    "        selected_client = None if selected_client == [] else selected_client\n",
    "\n",
    "        # On transforme en liste si un seul client sélectionné\n",
    "        if (type(selected_client) != list) & (selected_client is not None):\n",
    "            selected_client = [selected_client]\n",
    "            # On ajoute à la liste si on appuie sur un client sur le graph\n",
    "            if ctx.triggered_id == \"graph_pred\":\n",
    "                selected_client.append(click_graph_pred[\"points\"][0][\"customdata\"][0])\n",
    "            elif ctx.triggered_id == \"graph_variables\":\n",
    "                selected_client.append(click_graph_var[\"points\"][0][\"customdata\"][0])\n",
    "        elif selected_client is None :             \n",
    "            # On ajoute à la liste si on appuie sur un client sur le graph\n",
    "            if ctx.triggered_id == \"graph_pred\":\n",
    "                selected_client = [click_graph_pred[\"points\"][0][\"customdata\"][0]]\n",
    "            elif ctx.triggered_id == \"graph_variables\":\n",
    "                selected_client = [click_graph_var[\"points\"][0][\"customdata\"][0]]\n",
    "                \n",
    "        else : \n",
    "            # On ajoute à la liste si on appuie sur un client sur le graph\n",
    "            if ctx.triggered_id == \"graph_pred\":\n",
    "                selected_client.append(click_graph_pred[\"points\"][0][\"customdata\"][0])\n",
    "            elif ctx.triggered_id == \"graph_variables\":\n",
    "                selected_client.append(click_graph_var[\"points\"][0][\"customdata\"][0])\n",
    "\n",
    "            # On place en premier ceux qui ont été sélectionnés\n",
    "        option_client_variable = []\n",
    "         \n",
    "        if selected_client is not None:\n",
    "            option_client_variable.extend([{'label': str(client), 'value': client} for client in selected_client])\n",
    "            option_client_variable.extend([{'label': str(client), 'value': client} for client in file_df['SK_ID_CURR'] if client not in selected_client])\n",
    "        else :     \n",
    "            option_client_variable.extend([{'label': str(client), 'value': client} for client in file_df['SK_ID_CURR']])\n",
    "\n",
    "        # Si aucune variable n'est sélectionnée, nous n'affichons rien\n",
    "        if selected_variable_x == None:\n",
    "            \n",
    "            # Pas de valeur en ordonnée \n",
    "            selected_variable_y = None\n",
    "            \n",
    "            option_drop_var_graph = []\n",
    "            selected_affichage = None\n",
    "\n",
    "        # Si une ou deux variables sont sélectionnées, on affiche soit un strip, soit un scatterplot\n",
    "        elif selected_variable_x is not None:\n",
    "            # On met à jour la liste de variable, sans sélectionné la variable en x\n",
    "            option_drop_var_y=[{'label': str(var), 'value': var} for var in \n",
    "                               [col for col in feat_imp_threshold if col != selected_variable_x]]\n",
    "            \n",
    "            if selected_variable_y is None :\n",
    "                # On met à jour les options d'affichages pour une variable\n",
    "                option_drop_var_graph=[\n",
    "                        {'label': 'Strip', 'value': 'strip'},\n",
    "                        {'label': 'Boxplot', 'value': 'boxplot'}]\n",
    "                if(selected_affichage not in [\"strip\", \"boxplot\"]):\n",
    "                    selected_affichage = \"strip\"\n",
    "                \n",
    "            else :\n",
    "                # On met à jour les options d'affichages pour deux variables\n",
    "                option_drop_var_graph=[\n",
    "                        {'label': 'Scatterplot', 'value': 'scatter'},\n",
    "                        {'label': 'Densité', 'value': 'density'}]\n",
    "                if(selected_affichage not in [\"scatter\", \"density\"]):\n",
    "                    selected_affichage = \"scatter\" \n",
    "        \n",
    "        option_client_categ = [\"Pret\", \"Non pret\", \"Score note\"]\n",
    "        if selected_client_categ == \"Score note\":\n",
    "            option_note_categ = options\n",
    "            # Si on a sélectionné \n",
    "            if ctx.triggered_id  == \"dropdown_score_note\":\n",
    "                if selected_client_note in [\"a\", \"b\", \"c\", \"d\", \"e\", \"f\"]:\n",
    "                    selected_client_note_liste = file_df.loc[file_df['score_note'].str.startswith(selected_client_note), \"SK_ID_CURR\"]\n",
    "                # Sinon c'est lettre spécifique\n",
    "                else:\n",
    "                    selected_client_note_liste = file_df.loc[file_df['score_note'] == selected_client_note, \"SK_ID_CURR\"]\n",
    "            else: \n",
    "                selected_client_note_liste = None\n",
    "        else: \n",
    "            option_note_categ = []\n",
    "            selected_client_note_liste = None\n",
    "            \n",
    "        return (option_drop_clients, option_drop_var_x, option_drop_var_y, option_drop_var_graph, option_client_variable,\n",
    "                option_client_categ, option_note_categ, selected_client, selected_client_note_liste, selected_variable_x, selected_variable_y, selected_affichage, n_click_echange)\n",
    "\n",
    "@app.callback(\n",
    "    Output(component_id=\"dropdown_client_var\", component_property=\"value\"),\n",
    "    \n",
    "    Input(component_id=\"graph_pred\", component_property=\"clickData\"),\n",
    "    Input(component_id=\"graph_variables\", component_property=\"clickData\"),\n",
    "    prevent_initial_call=True,\n",
    ")\n",
    "def select_client_graph_var(click_graph_pred, click_graph_var):\n",
    "    # On sélectionne le client pour afficher l'impact de ses features sur son score\n",
    "    if ctx.triggered_id == \"graph_pred\":\n",
    "        return click_graph_pred[\"points\"][0][\"customdata\"][0]\n",
    "    elif ctx.triggered_id == \"graph_variables\":\n",
    "        return click_graph_var[\"points\"][0][\"customdata\"][0] \n",
    "\n",
    "\n",
    "@app.callback(\n",
    "    Output(component_id=\"table_client\", component_property=\"children\"),\n",
    "    Output(component_id=\"table_prediction\", component_property=\"children\"),\n",
    "\n",
    "    Input(component_id=\"dropdown_client\", component_property=\"value\"),  \n",
    "    Input(component_id=\"dropdown_client_categorie\", component_property=\"value\"),\n",
    "    Input(component_id=\"fichier_utilisateur\", component_property=\"data\"),\n",
    "    Input(component_id=\"selected_clients_note\", component_property=\"value\"),\n",
    "    \n",
    "    prevent_initial_call=True,\n",
    ")\n",
    "                \n",
    "def affichage_tab_clients(selected_client, client_categ, fichier_utilisateur, client_categ_note):\n",
    "\n",
    "    if fichier_utilisateur is not None :\n",
    "        # On prend la colonne ID client et les dernières colonnes liées à la prédiction crédit\n",
    "        cols = [0] + list(range(-6, 0))\n",
    "        \n",
    "        file_df = pd.read_json(fichier_utilisateur, orient='split')\n",
    "        file_df = file_df.round(2)\n",
    "        \n",
    "        # On a des options communs pour les deux tableaux\n",
    "        tableau_options = {\n",
    "            'page_size': 10,\n",
    "            'style_table': {'overflowX': 'auto'},\n",
    "            'sort_action': 'native', # permet de trier la colonnes\n",
    "            'sort_mode': 'multi', # permet de trier plusieurs colonnes\n",
    "        }\n",
    "        # On filtre sur le choix entre clients ayant reçu le prêt ou non, ou alors on affiche tous \n",
    "        if client_categ is not None:\n",
    "            if client_categ in [\"Pret\", \"Non pret\"]:\n",
    "                filtered_df = file_df[file_df['prediction_pret'] == client_categ]\n",
    "            else:\n",
    "                if client_categ_note is not None :\n",
    "                        filtered_df = file_df[file_df['SK_ID_CURR'].isin(client_categ_note)]\n",
    "                else:\n",
    "                    filtered_df = file_df\n",
    "        else:\n",
    "            filtered_df = file_df\n",
    "        \n",
    "        # On filtre sur la sélection d'un ou plusieurs clients\n",
    "        if selected_client is not None:\n",
    "            filtered_df = filtered_df[filtered_df['SK_ID_CURR'].isin(selected_client)]\n",
    "\n",
    "        # On crée le premier tableau\n",
    "        table1 = dash_table.DataTable(\n",
    "            data=filtered_df.iloc[:, :200].to_dict('records'),\n",
    "            **tableau_options,\n",
    "        )\n",
    "\n",
    "        # On crée le premier tableau\n",
    "        table2 = dash_table.DataTable(\n",
    "            data=filtered_df.iloc[:, cols].to_dict('records'),\n",
    "            **tableau_options,\n",
    "        )\n",
    "        \n",
    "    # Sinon pas de modification\n",
    "    else : \n",
    "        table1 = dash_table.DataTable()\n",
    "        table2 = dash_table.DataTable()\n",
    "\n",
    "    return table1, table2\n",
    "\n",
    "@app.callback(\n",
    "    Output(component_id=\"table_description\", component_property=\"children\"),\n",
    "    Output(component_id=\"describe-button\", component_property=\"n_clicks\"),\n",
    "    Output(component_id=\"describe-button\", component_property=\"children\"),\n",
    "    Output(component_id=\"describe-button\", component_property=\"style\"),\n",
    "    \n",
    "    Input(component_id=\"describe-button\", component_property=\"n_clicks\"),\n",
    "    Input(component_id=\"fichier_utilisateur\", component_property=\"data\"),\n",
    "    \n",
    "    State(component_id=\"dropdown_client\", component_property=\"value\"),  \n",
    "    \n",
    "    prevent_initial_call=True,\n",
    ")\n",
    "# Cleaning, effacement\n",
    "def affichage_description(n_clicks, fichier_utilisateur, selected_client):\n",
    "    \n",
    "    if fichier_utilisateur is not None :\n",
    "        \n",
    "        button_visibilite = {'display': 'inline-block'}\n",
    "        \n",
    "        if n_clicks%2 == 0:\n",
    "            file_df = pd.read_json(fichier_utilisateur, orient='split')\n",
    "\n",
    "            # On réalise la description\n",
    "            results_describe = personnalized_describe(file_df.iloc[:, 1:]).reset_index()\n",
    "            table3 = dash_table.DataTable(\n",
    "                data=results_describe.to_dict('records'),\n",
    "                page_size=10,\n",
    "                style_table={'overflowX': 'auto'}\n",
    "            )\n",
    "            texte_button = \"⇑ Cacher la description ⇑\"\n",
    "\n",
    "        else :\n",
    "            texte_button = \"⇓ Desciption des données ⇓\"\n",
    "            table3 = dash_table.DataTable()\n",
    "            n_clicks = 1\n",
    "    else : \n",
    "        table3 = dash_table.DataTable()\n",
    "        n_clicks = 1\n",
    "        button_visibilite = {'display': 'none'}\n",
    "        texte_button = dash.no_update\n",
    "\n",
    "    return table3, n_clicks, texte_button, button_visibilite\n",
    "    \n",
    "    \n",
    "@app.callback(\n",
    "    Output(component_id=\"download-data\", component_property=\"data\"),\n",
    "    \n",
    "    Input(component_id=\"download-data_all-button\", component_property=\"n_clicks\"),\n",
    "    Input(component_id=\"download-data_client-button\", component_property=\"n_clicks\"),\n",
    "    \n",
    "    State(component_id=\"dropdown_client\", component_property=\"value\"),\n",
    "    State(component_id=\"dropdown_client_categorie\", component_property=\"value\"),\n",
    "    State(component_id=\"selected_clients_note\", component_property=\"value\"),\n",
    "    State(component_id=\"fichier_utilisateur\", component_property=\"data\"),\n",
    "    State(component_id=\"fichier_utilisateur_prediction\", component_property=\"data\"),\n",
    "    prevent_initial_call=True,\n",
    ")\n",
    "\n",
    "def download_files(n_clicks_dl_file_all, n_clicks_dl_file_clients, selected_client, selected_client_categ, selected_client_categ_note, fichier_utilisateur, fichier_utilisateur_prediction):\n",
    "    \n",
    "    file_sent = None\n",
    "    \n",
    "    if fichier_utilisateur is not None :\n",
    "        \n",
    "        file_df = pd.read_json(fichier_utilisateur, orient='split')\n",
    "        file_df_client_score = pd.read_json(fichier_utilisateur_prediction, orient='split')\n",
    "\n",
    "        list_var_dl = [\"SK_ID_CURR\", \"score\", \"score_note\"]\n",
    "        # On ajoute la contribution des variables au score (% selon la contribution totale)\n",
    "        # Négative ou positive, selon l'outcome (Négatif si contribue à ne pas obtenir un prêt, positif inversement)\n",
    "\n",
    "        # On mesure la contribution en pourcentage\n",
    "        contribution_pourcentage = round(file_df_client_score.apply(lambda x : ((x[2:]) / abs(x[2:]).sum()) * - 100, axis = 1), 2)\n",
    "        \n",
    "        # On assemble les deux types d'informations\n",
    "        dl_file = pd.concat([file_df[list_var_dl], contribution_pourcentage],  axis = 1)\n",
    "\n",
    "        # On télécharge l'ensemble des données clients\n",
    "        if ctx.triggered_id == \"download-data_all-button\":\n",
    "            file_sent = dcc.send_data_frame(dl_file.to_csv, \"Result_prediction_all.csv\", index=False)\n",
    "        \n",
    "        # On télécharge les données des clients sélectionnés\n",
    "        elif ctx.triggered_id == \"download-data_client-button\" :\n",
    "            # Safegard pour éviter toute erreur de téléchargement avec conditions\n",
    "            # Selected_client est prioritaire sur la catégorie\n",
    "            if selected_client is not None:\n",
    "                file_sent = dcc.send_data_frame(dl_file.loc[dl_file.SK_ID_CURR.isin(selected_client), :].to_csv, \n",
    "                                                \"Result_prediction_client.csv\", index=False)\n",
    "            elif selected_client_categ is not None:\n",
    "                if selected_client_categ != \"Score note\":\n",
    "                    # On récupère les ID\n",
    "                    selected_df = file_df.loc[file_df.prediction_pret == selected_client_categ, \"SK_ID_CURR\"]\n",
    "                else:\n",
    "                    # On recherche tous les clients ayant un score de la lettre\n",
    "                    if selected_client_categ_note in [\"a\", \"b\", \"c\", \"d\", \"e\", \"f\"]:\n",
    "                        selected_df = file_df.loc[file_df['score_note'].str.startswith(selected_client_categ_note), \"SK_ID_CURR\"]\n",
    "                    # Sinon c'est lettre spécifique\n",
    "                    else:\n",
    "                        selected_df = file_df.loc[file_df['score_note'] == selected_client_categ_note, \"SK_ID_CURR\"]\n",
    "                \n",
    "                \n",
    "                file_sent = dcc.send_data_frame(dl_file.loc[dl_file.SK_ID_CURR.isin(selected_df), :].to_csv, \n",
    "                                                \"Result_prediction_client.csv\", index=False)\n",
    "            \n",
    "    return file_sent\n",
    "\n",
    "\n",
    "\n",
    "@app.callback(\n",
    "    Output(component_id=\"graph_pred\", component_property=\"figure\"),\n",
    "    Output(component_id=\"graph_variables\", component_property=\"figure\"),\n",
    "    Output(component_id=\"graph_model\", component_property=\"figure\"),\n",
    "    Output(component_id=\"graph_client\", component_property=\"figure\"),\n",
    "    Output(component_id=\"initialize_figure_model\", component_property=\"data\"),\n",
    "    \n",
    "    Input(component_id=\"dropdown_scoring\", component_property=\"value\"),\n",
    "    Input(component_id=\"dropdown_client\", component_property=\"value\"),\n",
    "    Input(component_id=\"selected_clients_note\", component_property=\"value\"),\n",
    "    Input(component_id=\"dropdown_variable_x\", component_property=\"value\"),\n",
    "    Input(component_id=\"dropdown_variable_y\", component_property=\"value\"),\n",
    "    Input(component_id=\"dropdown_fig_type\", component_property=\"value\"),\n",
    "    Input(component_id=\"dropdown_client_var\", component_property=\"value\"),  \n",
    "    Input(component_id=\"feature-importance-slider\", component_property=\"value\"),\n",
    "    Input(component_id=\"color-palette-dropdown\", component_property=\"value\"),\n",
    "    Input(component_id=\"point-size-slider\", component_property=\"value\"),\n",
    "    Input(component_id=\"font-size-slider\", component_property=\"value\"), \n",
    "    Input(component_id=\"style-point-dropdown\", component_property=\"value\"),\n",
    "    Input(component_id=\"fichier_utilisateur\", component_property=\"data\"),\n",
    "    Input(component_id=\"fichier_utilisateur_prediction\", component_property=\"data\"),\n",
    "    Input(component_id=\"threshold_model\", component_property=\"data\"),\n",
    "    \n",
    "    State(component_id=\"initialize_figure_model\", component_property=\"data\"),\n",
    "    #prevent_initial_call=True,\n",
    ")\n",
    "\n",
    "def figures_callback(scoring_choisie, selected_client, selected_client_score, selected_variable_x, selected_variable_y,\n",
    "                     selected_affichage, selected_client_variable, variance_importance,\n",
    "                     color_point, point_size, font_size, marker_type,\n",
    "                    fichier_utilisateur, fichier_utilisateur_prediction, proba_threshold_model, initialize_graph_model):    \n",
    "    \n",
    "    var_x_y = [selected_variable_x, selected_variable_y]\n",
    "        \n",
    "    # On défini des couleurs selon la condition\n",
    "    if color_point == \"plotly\" :\n",
    "        color_discrete_map = {\"Pret\": \"blue\", \"Non pret\": \"red\"}\n",
    "    \n",
    "    #Développé par IBM, source : https://davidmathlogic.com/colorblind/)\n",
    "    elif color_point == \"colorblind\" :\n",
    "        color_discrete_map = {\"Pret\": '#648FFF', \"Non pret\": '#FFB000'}\n",
    "        \n",
    "    # On prépare le graphique sur les features importances du modèle    \n",
    "    if (initialize_graph_model == False) or (ctx.triggered_id == \"feature-importance-slider\"):        \n",
    "        figure_feat_imp = figure_feature_importance_dash(feature_importance, \"Features\", \"Importance\", \n",
    "                                                         font_size, variance_importance, color_point, var_x_y)\n",
    "        initialize_graph_model = True\n",
    "    else : \n",
    "        figure_feat_imp = dash.no_update\n",
    "    \n",
    "    trigger_patch = [\"color-palette-dropdown\", \"point-size-slider\", \"font-size-slider\", \"style-point-dropdown\"]    \n",
    "    \n",
    "    if fichier_utilisateur is not None :\n",
    "        file_df = pd.read_json(fichier_utilisateur, orient='split')\n",
    "        # Seulement is on a initialisé une première fois les graphiques\n",
    "        if ctx.triggered_id in trigger_patch :\n",
    "\n",
    "            # On utilise patch pour ne devoir changer qu'un aspect de l'image\n",
    "            patched_figure_score = Patch()\n",
    "            patched_figure_variable = Patch()\n",
    "            patched_figure_features_model = Patch()\n",
    "            patched_figure_features_client = Patch()\n",
    "\n",
    "            if ctx.triggered_id == \"color-palette-dropdown\":\n",
    "                for patched in [patched_figure_score, patched_figure_variable, patched_figure_features_model, patched_figure_features_client]:\n",
    "\n",
    "                    patched['data'][0]['marker']['color'] = color_discrete_map[\"Non pret\"]\n",
    "                    patched['data'][1]['marker']['color'] = color_discrete_map[\"Pret\"]\n",
    "                    patched['data'][3]['marker']['color'] = color_discrete_map[\"Non pret\"]\n",
    "                    patched['data'][2]['marker']['color'] = color_discrete_map[\"Pret\"]\n",
    "            \n",
    "            elif ctx.triggered_id == \"style-point-dropdown\":\n",
    "                for patched in [patched_figure_score, patched_figure_variable]:\n",
    "                    for i in range(4):\n",
    "                        patched['data'][i]['marker']['symbol'] = marker_type\n",
    "                    \n",
    "                    \n",
    "            elif ctx.triggered_id == \"point-size-slider\":\n",
    "                for patched in [patched_figure_score, patched_figure_variable]:\n",
    "                    for i in range(4):\n",
    "                        patched['data'][i]['marker']['size'] = point_size if i < 2 else point_size + 18\n",
    "\n",
    "            elif ctx.triggered_id == \"font-size-slider\":\n",
    "                for patched in [patched_figure_score, patched_figure_variable, patched_figure_features_model, patched_figure_features_client]:\n",
    "                    patched['layout']['font']['size'] = font_size\n",
    "                    patched['layout']['title']['font']['size'] = font_size + 8 \n",
    "                    if patched in [patched_figure_features_model, patched_figure_features_client]:\n",
    "                        patched['layout']['margin']['l'] = 200 - ((1 - font_size / 36) * 30) # on va de 50 à 200 (18 à 36 en taille)  \n",
    "                         \n",
    "                patched_figure_features_client['layout']['annotations'][0]['font']['size'] = font_size + 8\n",
    "                patched_figure_features_client['layout']['annotations'][1]['font']['size'] = font_size + 8\n",
    "\n",
    "            return patched_figure_score, patched_figure_variable, patched_figure_features_model, patched_figure_features_client, initialize_graph_model \n",
    "        \n",
    "        figure_score = dash.no_update\n",
    "        figure_variable = dash.no_update\n",
    "        figure_feature_importance_client = dash.no_update\n",
    "        \n",
    "        # fichier_utilisateur nous permet d'actualiser au chargement des données\n",
    "        if ctx.triggered_id in [\"dropdown_scoring\", \"fichier_utilisateur\"]:\n",
    "            figure_score = figure_score_dash(file_df, scoring_choisie, selected_client, color_discrete_map, point_size, font_size, proba_threshold_model, marker_type)\n",
    "            \n",
    "        elif ctx.triggered_id in [\"dropdown_variable_x\", \"dropdown_variable_y\", \"dropdown_fig_type\"]:\n",
    "            figure_variable = figure_variable_dash(file_df, var_x_y, selected_client, selected_client_score, selected_affichage, color_discrete_map, point_size, font_size, marker_type)\n",
    "            # On met à jour l'autre figure que dans la condition où une variable a été sélectionnée\n",
    "            if ctx.triggered_id in [\"dropdown_variable_x\", \"dropdown_variable_y\"]:\n",
    "                figure_feat_imp = figure_feature_importance_dash(feature_importance, \"Features\", \"Importance\", \n",
    "                                                         font_size, variance_importance, color_point, var_x_y)\n",
    "                \n",
    "        elif (ctx.triggered_id == \"dropdown_client_var\"):\n",
    "            # on met à jour la figure car changement de client\n",
    "            if selected_client_variable is not None :\n",
    "                file_df_client_score = pd.read_json(fichier_utilisateur_prediction, orient='split')\n",
    "                df1 = file_df_client_score[file_df_client_score.SK_ID_CURR == selected_client_variable]\n",
    "                df2 = file_df[file_df.SK_ID_CURR == selected_client_variable]\n",
    "                figure_feature_importance_client = figure_feature_client_dash(df1, df2, nb_variable = 10, color_point = color_point, size = font_size)            \n",
    "\n",
    "            # on revient à aucun affichage\n",
    "            else : \n",
    "                figure_feature_importance_client = px.bar() \n",
    "\n",
    "        elif (ctx.triggered_id == \"dropdown_client\" or ctx.triggered_id == \"dropdown_score_note\") :\n",
    "            figure_score = figure_score_dash(file_df, scoring_choisie, selected_client, color_discrete_map, point_size, font_size, proba_threshold_model, marker_type)\n",
    "            figure_variable = figure_variable_dash(file_df, var_x_y, selected_client, selected_client_score, selected_affichage, color_discrete_map, point_size, font_size, marker_type)\n",
    "        \n",
    "            \n",
    "    else :\n",
    "        figure_score = px.scatter() \n",
    "        figure_variable = px.scatter()\n",
    "        figure_feature_importance_client = px.bar()  \n",
    "        \n",
    "        if ctx.triggered_id in [\"color-palette-dropdown\", \"font-size-slider\"]     :\n",
    "            figure_feat_imp = figure_feature_importance_dash(feature_importance, \"Features\", \"Importance\", \n",
    "                                                         font_size, variance_importance, color_point, var_x_y)\n",
    "\n",
    "    return figure_score, figure_variable, figure_feat_imp, figure_feature_importance_client, initialize_graph_model\n",
    "\n",
    "\n",
    "@app.callback(\n",
    "    Output(component_id=\"statistique-variables\", component_property=\"children\"),\n",
    "    \n",
    "    Input(component_id=\"dropdown_variable_x\", component_property=\"value\"),\n",
    "    Input(component_id=\"dropdown_variable_y\", component_property=\"value\"),\n",
    "    \n",
    "    State(component_id=\"fichier_utilisateur\", component_property=\"data\"),\n",
    ")\n",
    "\n",
    "def statistique_affichage(var_x, var_y, fichier_utilisateur):\n",
    "    resultX = \"\"\n",
    "    resultY = \"\"\n",
    "    children = []\n",
    "    \n",
    "    if var_x is not None :\n",
    "        file_df = pd.read_json(fichier_utilisateur, orient='split')\n",
    "        resultX = test_stat(file_df.loc[file_df.prediction_pret == \"Pret\", var_x], file_df.loc[file_df.prediction_pret == \"Non pret\", var_x])\n",
    "        resultX = f\"Variable : {var_x}, {resultX}\"  \n",
    "        children.append(html.P(resultX))\n",
    "        if var_y is not None :\n",
    "            resultY = test_stat(file_df.loc[file_df.prediction_pret == \"Pret\", var_y], file_df.loc[file_df.prediction_pret == \"Non pret\", var_y]) \n",
    "            resultY = f\"Variable : {var_y}, {resultY}\"\n",
    "            children.append(html.P(resultY))\n",
    "        children.append(html.P())\n",
    "    return children \n",
    "    \n",
    "\n",
    "@app.callback(\n",
    "    Output(component_id=\"color-palette-dropdown\", component_property=\"value\"),\n",
    "    Output(component_id=\"point-size-slider\", component_property=\"value\"),\n",
    "    Output(component_id=\"font-size-slider\", component_property=\"value\"),\n",
    "    Output(component_id=\"style-point-dropdown\", component_property=\"value\"),\n",
    "    Input(component_id=\"reset-button\", component_property=\"n_clicks\"),\n",
    "    Input(component_id=\"del_file_button\", component_property=\"n_clicks\"),\n",
    ")\n",
    "     \n",
    "def reset_affichage(n_clicks_reset, n_click_del):\n",
    "   # On reset les valeurs \n",
    "    return initial_palette,initial_point_size, initial_size, initial_style_point\n",
    "\n",
    "# Principaux bouttons ou options \n",
    "@app.callback(\n",
    "    Output(component_id=\"clear-screen\", component_property=\"data\"),\n",
    "    Output(component_id=\"time_session\", component_property=\"data\"),\n",
    "              \n",
    "    Input(component_id=\"test_file_button\", component_property=\"n_clicks\"),\n",
    "    Input(component_id=\"exchange-button\", component_property=\"n_clicks\"),\n",
    "    Input(component_id=\"download-data_all-button\", component_property=\"n_clicks\"),\n",
    "    Input(component_id=\"download-data_client-button\", component_property=\"n_clicks\"),\n",
    "    Input(component_id=\"dropdown_client_var\", component_property=\"value\"),\n",
    "    Input(component_id=\"dropdown_client\", component_property=\"value\"),\n",
    "    Input(component_id=\"dropdown_variable_x\", component_property=\"value\"),\n",
    "    Input(component_id=\"dropdown_variable_y\", component_property=\"value\"),\n",
    "    Input(component_id=\"dropdown_fig_type\", component_property=\"value\"),\n",
    "    Input(component_id=\"dropdown_scoring\", component_property=\"value\"),\n",
    "    Input(component_id=\"feature-importance-slider\", component_property=\"value\"),\n",
    "    Input(component_id=\"color-palette-dropdown\", component_property=\"value\"),\n",
    "    Input(component_id=\"point-size-slider\", component_property=\"value\"),\n",
    "    Input(component_id=\"font-size-slider\", component_property=\"value\"), \n",
    "    Input(component_id=\"fichier_utilisateur\", component_property=\"data\"),    \n",
    "    Input(component_id=\"del_file_button\", component_property=\"n_clicks\"),\n",
    "    Input(component_id=\"reset-button\", component_property=\"n_clicks\"),\n",
    "    \n",
    "    Input(component_id=\"time_session\", component_property=\"data\"),\n",
    "    Input(component_id=\"activity-interval\", component_property=\"n_intervals\"), \n",
    ")\n",
    "\n",
    "# On ne prévient pas à l'initialisation, pour avoir un premier temps de référence\n",
    "# Permet de surveiller l'activité utilisateur\n",
    "# Permet d'avoir des sessions courtes\n",
    "\n",
    "def inactivity(arg1, arg2, arg3, arg4, arg5, arg6, arg7, arg8, arg9, arg10, arg11, arg12, arg13, arg14, arg15, arg16, arg17, temps_actuel, n_interval):\n",
    "    \n",
    "    # Initialisation\n",
    "    if temps_actuel == None:\n",
    "        temps_actuel = time.time()   \n",
    "        \n",
    "    elapsed_time = time.time() - temps_actuel\n",
    "    clear_statut = False\n",
    "\n",
    "    # Si il y a une activité utilisateur, on consigne le temps\n",
    "    # On ne modifie pas le temps quand c'est activity-interval qui intervient\n",
    "    if ctx.triggered_id != \"activity-interval\" and elapsed_time < (temps_inactivite):\n",
    "        temps_actuel = time.time()\n",
    "        \n",
    "        return clear_statut, temps_actuel\n",
    "    \n",
    "    # Si l'utilisateur n'a rien réalisé dans les 5 - 10 dernières minutes, les données sont réinitialisées\n",
    "    elif ctx.triggered_id == \"activity-interval\" :\n",
    "        temps_actuel = time.time()\n",
    "        \n",
    "        if elapsed_time < temps_inactivite:\n",
    "            \n",
    "            return clear_statut, temps_actuel\n",
    "        \n",
    "        else:\n",
    "            print(\"Temps expiré, It's clearing time\")\n",
    "            clear_statut = True\n",
    "\n",
    "            return clear_statut, temps_actuel\n",
    "        \n",
    "# Run the app\n",
    "if __name__ == '__main__':\n",
    "    app.run(debug=False)"
   ]
  },
  {
   "cell_type": "code",
   "execution_count": 20,
   "id": "c16b8483",
   "metadata": {},
   "outputs": [
    {
     "name": "stdout",
     "output_type": "stream",
     "text": [
      "2023-09-15 20:33:20\n",
      "Temps expiré, It's clearing time\n",
      "Temps expiré, It's clearing time\n",
      "Temps expiré, It's clearing time\n"
     ]
    }
   ],
   "source": [
    "from datetime import datetime\n",
    "\n",
    "# Your string\n",
    "date_string = \"20230915203320\"  # Replace with your actual string\n",
    "\n",
    "# Parse the string into a datetime object\n",
    "date_format = \"%Y%m%d%H%M%S\"\n",
    "parsed_datetime = datetime.strptime(date_string, date_format)\n",
    "\n",
    "# Now, parsed_datetime contains the datetime object\n",
    "print(parsed_datetime)"
   ]
  },
  {
   "cell_type": "code",
   "execution_count": 27,
   "id": "ecef7a4b",
   "metadata": {},
   "outputs": [],
   "source": [
    "import os\n",
    "all_files = os.listdir()\n",
    "\n",
    "desired_files = [file for file in all_files if \"banking_model_\" in file and len(file) == 28]"
   ]
  },
  {
   "cell_type": "code",
   "execution_count": 29,
   "id": "9bdd0637",
   "metadata": {},
   "outputs": [
    {
     "data": {
      "text/plain": [
       "['banking_model_20230915203320']"
      ]
     },
     "execution_count": 29,
     "metadata": {},
     "output_type": "execute_result"
    }
   ],
   "source": [
    "desired_files"
   ]
  },
  {
   "cell_type": "code",
   "execution_count": null,
   "id": "da110e77",
   "metadata": {},
   "outputs": [],
   "source": []
  }
 ],
 "metadata": {
  "kernelspec": {
   "display_name": "Python 3 (ipykernel)",
   "language": "python",
   "name": "python3"
  },
  "language_info": {
   "codemirror_mode": {
    "name": "ipython",
    "version": 3
   },
   "file_extension": ".py",
   "mimetype": "text/x-python",
   "name": "python",
   "nbconvert_exporter": "python",
   "pygments_lexer": "ipython3",
   "version": "3.11.4"
  }
 },
 "nbformat": 4,
 "nbformat_minor": 5
}
