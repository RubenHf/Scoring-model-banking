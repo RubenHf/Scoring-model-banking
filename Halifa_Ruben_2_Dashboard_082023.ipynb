{
 "cells": [
  {
   "cell_type": "code",
   "execution_count": 1,
   "id": "4c6d9347",
   "metadata": {},
   "outputs": [
    {
     "name": "stderr",
     "output_type": "stream",
     "text": [
      "Using `tqdm.autonotebook.tqdm` in notebook mode. Use `tqdm.tqdm` instead to force console mode (e.g. in jupyter console)\n"
     ]
    }
   ],
   "source": [
    "import dash\n",
    "from dash import Dash, html, dash_table, dcc, callback, Output, Input, State\n",
    "import pandas as pd\n",
    "import plotly\n",
    "import dash\n",
    "import plotly.express as px\n",
    "import plotly.subplots as sp\n",
    "import copy\n",
    "import base64\n",
    "import io\n",
    "import numpy as np\n",
    "import itertools\n",
    "import mlflow\n",
    "import shap\n",
    "import pickle\n",
    "from mlflow.sklearn import load_model\n"
   ]
  },
  {
   "cell_type": "code",
   "execution_count": 2,
   "id": "251a8301",
   "metadata": {},
   "outputs": [],
   "source": [
    "# Pour générer le fichier requirement \n",
    "#pip freeze > requirements.txt"
   ]
  },
  {
   "cell_type": "code",
   "execution_count": 3,
   "id": "bf118257",
   "metadata": {},
   "outputs": [
    {
     "name": "stdout",
     "output_type": "stream",
     "text": [
      "Pandas Version : 1.5.3\n",
      "Plotly Version : 5.9.0\n",
      "Dash Version : 2.12.1\n",
      "numpy Version : 1.23.5\n",
      "mlflow Version : 2.6.0\n",
      "shap Version : 0.42.1\n"
     ]
    }
   ],
   "source": [
    "libraries = {\n",
    "    \"Pandas\" : pd,\n",
    "    \"Plotly\" : plotly,\n",
    "    \"Dash\" : dash,\n",
    "    \"numpy\" : np,\n",
    "    \"mlflow\" : mlflow,\n",
    "    \"shap\" : shap\n",
    "}\n",
    "\n",
    "# On affiche les différentes versions des librairies utilisées\n",
    "for lib_name, lib in libraries.items():\n",
    "    print(f\"{lib_name} Version : {lib.__version__}\")"
   ]
  },
  {
   "cell_type": "code",
   "execution_count": 4,
   "id": "9d4ae41a",
   "metadata": {},
   "outputs": [],
   "source": [
    "# On load le modèle \n",
    "model = load_model(\"banking_model_20230901135647\")"
   ]
  },
  {
   "cell_type": "code",
   "execution_count": 5,
   "id": "a1461849",
   "metadata": {},
   "outputs": [],
   "source": [
    "proba_threshold = 0.42"
   ]
  },
  {
   "cell_type": "code",
   "execution_count": 6,
   "id": "446cdece",
   "metadata": {},
   "outputs": [],
   "source": [
    "# on charge l'objet explainer du modèle\n",
    "with open('explainer_model.pkl', 'rb') as explainer_file:\n",
    "    explainer_model = pickle.load(explainer_file)\n",
    "# on charge les valeurs du modèle\n",
    "feature_importance = pd.read_csv(\"shap_values_model.csv\") "
   ]
  },
  {
   "cell_type": "code",
   "execution_count": 7,
   "id": "d0a19d68",
   "metadata": {},
   "outputs": [],
   "source": [
    "def preparation_file(df, model):\n",
    "    \n",
    "    if \"DAYS_BIRTH\" in df.columns:\n",
    "        df[\"ANNEES_AGE\"] = (abs(df.DAYS_BIRTH) / 365.25)\n",
    "        # On élimine l' ancienne variable\n",
    "        df.drop([\"DAYS_BIRTH\"], axis = 1, inplace = True)\n",
    "        \n",
    "    if \"ANNEES_LAST_PHONE_CHANGE\" in df.columns:\n",
    "        df[\"ANNEES_LAST_PHONE_CHANGE\"] = round((abs(df.DAYS_LAST_PHONE_CHANGE) / 365.25), 2)\n",
    "        # On élimine l' ancienne variable\n",
    "        df.drop([\"DAYS_LAST_PHONE_CHANGE\"], axis = 1, inplace = True)\n",
    "    \n",
    "    # On corrige les erreurs \n",
    "    infinity_indices = np.where(np.isinf(df))\n",
    "    for row_ind, col_ind in zip(*infinity_indices):\n",
    "        df.iloc[row_ind, col_ind] = df.iloc[:,col_ind].median()\n",
    "    \n",
    "    # On récupère les features du modèle\n",
    "    features = model.named_steps[\"select_columns\"].columns\n",
    "    \n",
    "    return  df[features]"
   ]
  },
  {
   "cell_type": "code",
   "execution_count": 8,
   "id": "03c38eb1",
   "metadata": {},
   "outputs": [],
   "source": [
    "def scoring_pret(df, threshold):\n",
    "    \n",
    "    # On calcul un score selon si le client a obtenu un prêt ou pas\n",
    "    # Ce score donne une autre appréciation des probabilités, plus parlant pour un consommateur\n",
    "    min_value = 1 - threshold  # Minimum value of proba_pred_pret\n",
    "    max_value = 1 - threshold\n",
    "    \n",
    "    df.loc[df.prediction_pret == \"Pret\", \"score\"] = (df[\"proba_pred_pret\"] - min_value) / (1 - min_value)\n",
    "    df.loc[df.prediction_pret == \"Non pret\", \"score\"] = (1 - (df[\"proba_pred_pret\"]) / (max_value)) * - 1\n",
    "    df.loc[:, \"score\"] = round(df.loc[:, \"score\"], 4)\n",
    "    \n",
    "    lettres = ['a', 'b', 'c', 'd', 'e', 'f']\n",
    "    signes = ['++', '+', '-', '--']\n",
    "\n",
    "    # On génére 2 dictionnaires\n",
    "    bon_clients = {}\n",
    "    mauvais_clients = {}\n",
    "\n",
    "    point_decr = (100 / ((len(lettres) * len(signes)) / 2)) / 100\n",
    "\n",
    "    point = 1\n",
    "    for l, s in itertools.product(lettres[:3], signes):\n",
    "        key = l + s\n",
    "        bon_clients[key] = round(point, 2)\n",
    "        point -= point_decr\n",
    "    \n",
    "    point = 0\n",
    "    for l, s in itertools.product(lettres[3:], signes):\n",
    "        key = l + s\n",
    "        mauvais_clients[key] = round(point, 2)*-1\n",
    "        point += point_decr\n",
    "\n",
    "    condition1 = df.prediction_pret == \"Pret\"\n",
    "    condition2 = df.prediction_pret == \"Non pret\"\n",
    "\n",
    "    for keys, items in bon_clients.items():\n",
    "        df.loc[(condition1) & (df.score <= items), \"score_note\"] = keys\n",
    "\n",
    "    for keys, items in mauvais_clients.items():\n",
    "        df.loc[(condition2) & (df.score <= items), \"score_note\"] = keys\n",
    "\n",
    "\n",
    "    df.loc[:, \"score\"] = round(df.loc[:, \"score\"]*100, 2)\n",
    "    \n",
    "    return df"
   ]
  },
  {
   "cell_type": "code",
   "execution_count": 9,
   "id": "649de41c",
   "metadata": {},
   "outputs": [],
   "source": [
    "def application_model(df, model, threshold):\n",
    "    \n",
    "    result_df = copy.deepcopy(df)\n",
    " \n",
    "    # On prédit les probabilité selon le modèle\n",
    "    # Prédiction d'avoir un prêt\n",
    "    result_df[\"proba_pred_pret\"] = model.predict_proba(df)[:, 0]\n",
    "    # Prédiction de ne pas avoir un prêt\n",
    "    result_df[\"proba_pred_non_pret\"] = 1 - result_df[\"proba_pred_pret\"]\n",
    "    \n",
    "    # Résultat selon le threshold du modèle établit. \n",
    "    # Si au dessus, la valeur = 1, ce qui correspond à la non obtention d'un prêt\n",
    "    result_df[\"prediction\"] = np.where(result_df[\"proba_pred_non_pret\"] >= threshold, 1, 0)\n",
    "    \n",
    "    result_df[\"prediction_pret\"] = np.where(result_df[\"prediction\"] == 1, \"Non pret\", \"Pret\")\n",
    "    result_df = scoring_pret(result_df, threshold)\n",
    "\n",
    "    return result_df"
   ]
  },
  {
   "cell_type": "code",
   "execution_count": 10,
   "id": "e8bc5269",
   "metadata": {},
   "outputs": [],
   "source": [
    "def feature_importance_client(df, model, explainer_model): \n",
    "    \n",
    "    features = model.named_steps[\"select_columns\"].columns\n",
    "    \n",
    "    x_train_preprocessed = model[:-1].transform(df[features])\n",
    "    \n",
    "    selected_cols = df[features].columns[model.named_steps[\"feature_selection\"].get_support()]\n",
    "    \n",
    "    x_train_preprocessed = pd.DataFrame(x_train_preprocessed, columns = selected_cols)\n",
    "    \n",
    "    shap_values = explainer_model(x_train_preprocessed)\n",
    "    \n",
    "    df_sk_shape = pd.DataFrame({'SK_ID_CURR': df[\"SK_ID_CURR\"].values, 'value_total': shap_values.values.sum(axis=1)})\n",
    "\n",
    "    df_feat_shape = pd.DataFrame(shap_values.values, columns = selected_cols)\n",
    "\n",
    "    df_shape_score = pd.concat([df_sk_shape, df_feat_shape], axis = 1)\n",
    "    \n",
    "    return df_shape_score"
   ]
  },
  {
   "cell_type": "code",
   "execution_count": 44,
   "id": "8af1b95b",
   "metadata": {},
   "outputs": [
    {
     "data": {
      "application/vnd.plotly.v1+json": {
       "config": {
        "plotlyServerURL": "https://plot.ly"
       },
       "data": [
        {
         "alignmentgroup": "True",
         "hovertemplate": "x=%{x}<br>y=%{y}<br>text=%{text}<extra></extra>",
         "legendgroup": "",
         "marker": {
          "color": [
           "blue",
           "blue",
           "red",
           "red",
           "red",
           "blue",
           "red",
           "red",
           "red",
           "red",
           "red"
          ],
          "pattern": {
           "shape": ""
          }
         },
         "name": "",
         "offsetgroup": "",
         "orientation": "h",
         "showlegend": false,
         "text": [
          "0.25",
          "0.11",
          "-0.11",
          "-0.12",
          "-0.16",
          "0.17",
          "-0.18",
          "-0.21",
          "-0.29",
          "-0.35",
          "-0.6"
         ],
         "textposition": "auto",
         "type": "bar",
         "x": [
          0.25,
          0.11,
          -0.11,
          -0.12,
          -0.16,
          0.17,
          -0.18,
          -0.21,
          -0.29,
          -0.35,
          -0.6
         ],
         "xaxis": "x",
         "y": [
          "SOMME DES VARIABLES RESTANTES (50)",
          "INSTAL_PAYMENT_DIFF_MAX",
          "BURO_DAYS_CREDIT_MEAN",
          "PREV_NAME_PRODUCT_TYPE_x-sell_MEAN",
          "OCCUPATION_TYPE_Laborers",
          "APPROVED_AMT_APPLICATION_MAX",
          "PREV_RATE_DOWN_PAYMENT_MEAN",
          "APPROVED_HOUR_APPR_PROCESS_START_MAX",
          "APPROVED_AMT_ANNUITY_MAX",
          "ANNEES_AGE",
          "EXT_SOURCE_2"
         ],
         "yaxis": "y"
        },
        {
         "alignmentgroup": "True",
         "hovertemplate": "valeur=%{text}<br>index=%{y}<extra></extra>",
         "legendgroup": "",
         "marker": {
          "color": [
           "red"
          ],
          "pattern": {
           "shape": ""
          }
         },
         "name": "",
         "offsetgroup": "",
         "orientation": "h",
         "showlegend": false,
         "text": [
          -1.49
         ],
         "textposition": "auto",
         "type": "bar",
         "x": [
          -1.49
         ],
         "xaxis": "x2",
         "y": [
          0
         ],
         "yaxis": "y2"
        }
       ],
       "layout": {
        "annotations": [
         {
          "font": {
           "size": 16
          },
          "showarrow": false,
          "text": "Valeurs par variable",
          "x": 0.5,
          "xanchor": "center",
          "xref": "paper",
          "y": 1,
          "yanchor": "bottom",
          "yref": "paper"
         },
         {
          "font": {
           "size": 16
          },
          "showarrow": false,
          "text": "Valeur globale : Pas de prêt",
          "x": 0.5,
          "xanchor": "center",
          "xref": "paper",
          "y": 0.09000000000000001,
          "yanchor": "bottom",
          "yref": "paper"
         }
        ],
        "font": {
         "color": "black",
         "size": 18
        },
        "height": 1281,
        "shapes": [
         {
          "line": {
           "color": "black",
           "width": 2
          },
          "type": "line",
          "x0": 0,
          "x1": 0,
          "xref": "x",
          "y0": -0.5,
          "y1": 10.5,
          "yref": "y"
         },
         {
          "line": {
           "color": "black",
           "width": 2
          },
          "type": "line",
          "x0": 0,
          "x1": 0,
          "xref": "x2",
          "y0": -0.5,
          "y1": 0.5,
          "yref": "y2"
         }
        ],
        "template": {
         "data": {
          "bar": [
           {
            "error_x": {
             "color": "#2a3f5f"
            },
            "error_y": {
             "color": "#2a3f5f"
            },
            "marker": {
             "line": {
              "color": "#E5ECF6",
              "width": 0.5
             },
             "pattern": {
              "fillmode": "overlay",
              "size": 10,
              "solidity": 0.2
             }
            },
            "type": "bar"
           }
          ],
          "barpolar": [
           {
            "marker": {
             "line": {
              "color": "#E5ECF6",
              "width": 0.5
             },
             "pattern": {
              "fillmode": "overlay",
              "size": 10,
              "solidity": 0.2
             }
            },
            "type": "barpolar"
           }
          ],
          "carpet": [
           {
            "aaxis": {
             "endlinecolor": "#2a3f5f",
             "gridcolor": "white",
             "linecolor": "white",
             "minorgridcolor": "white",
             "startlinecolor": "#2a3f5f"
            },
            "baxis": {
             "endlinecolor": "#2a3f5f",
             "gridcolor": "white",
             "linecolor": "white",
             "minorgridcolor": "white",
             "startlinecolor": "#2a3f5f"
            },
            "type": "carpet"
           }
          ],
          "choropleth": [
           {
            "colorbar": {
             "outlinewidth": 0,
             "ticks": ""
            },
            "type": "choropleth"
           }
          ],
          "contour": [
           {
            "colorbar": {
             "outlinewidth": 0,
             "ticks": ""
            },
            "colorscale": [
             [
              0,
              "#0d0887"
             ],
             [
              0.1111111111111111,
              "#46039f"
             ],
             [
              0.2222222222222222,
              "#7201a8"
             ],
             [
              0.3333333333333333,
              "#9c179e"
             ],
             [
              0.4444444444444444,
              "#bd3786"
             ],
             [
              0.5555555555555556,
              "#d8576b"
             ],
             [
              0.6666666666666666,
              "#ed7953"
             ],
             [
              0.7777777777777778,
              "#fb9f3a"
             ],
             [
              0.8888888888888888,
              "#fdca26"
             ],
             [
              1,
              "#f0f921"
             ]
            ],
            "type": "contour"
           }
          ],
          "contourcarpet": [
           {
            "colorbar": {
             "outlinewidth": 0,
             "ticks": ""
            },
            "type": "contourcarpet"
           }
          ],
          "heatmap": [
           {
            "colorbar": {
             "outlinewidth": 0,
             "ticks": ""
            },
            "colorscale": [
             [
              0,
              "#0d0887"
             ],
             [
              0.1111111111111111,
              "#46039f"
             ],
             [
              0.2222222222222222,
              "#7201a8"
             ],
             [
              0.3333333333333333,
              "#9c179e"
             ],
             [
              0.4444444444444444,
              "#bd3786"
             ],
             [
              0.5555555555555556,
              "#d8576b"
             ],
             [
              0.6666666666666666,
              "#ed7953"
             ],
             [
              0.7777777777777778,
              "#fb9f3a"
             ],
             [
              0.8888888888888888,
              "#fdca26"
             ],
             [
              1,
              "#f0f921"
             ]
            ],
            "type": "heatmap"
           }
          ],
          "heatmapgl": [
           {
            "colorbar": {
             "outlinewidth": 0,
             "ticks": ""
            },
            "colorscale": [
             [
              0,
              "#0d0887"
             ],
             [
              0.1111111111111111,
              "#46039f"
             ],
             [
              0.2222222222222222,
              "#7201a8"
             ],
             [
              0.3333333333333333,
              "#9c179e"
             ],
             [
              0.4444444444444444,
              "#bd3786"
             ],
             [
              0.5555555555555556,
              "#d8576b"
             ],
             [
              0.6666666666666666,
              "#ed7953"
             ],
             [
              0.7777777777777778,
              "#fb9f3a"
             ],
             [
              0.8888888888888888,
              "#fdca26"
             ],
             [
              1,
              "#f0f921"
             ]
            ],
            "type": "heatmapgl"
           }
          ],
          "histogram": [
           {
            "marker": {
             "pattern": {
              "fillmode": "overlay",
              "size": 10,
              "solidity": 0.2
             }
            },
            "type": "histogram"
           }
          ],
          "histogram2d": [
           {
            "colorbar": {
             "outlinewidth": 0,
             "ticks": ""
            },
            "colorscale": [
             [
              0,
              "#0d0887"
             ],
             [
              0.1111111111111111,
              "#46039f"
             ],
             [
              0.2222222222222222,
              "#7201a8"
             ],
             [
              0.3333333333333333,
              "#9c179e"
             ],
             [
              0.4444444444444444,
              "#bd3786"
             ],
             [
              0.5555555555555556,
              "#d8576b"
             ],
             [
              0.6666666666666666,
              "#ed7953"
             ],
             [
              0.7777777777777778,
              "#fb9f3a"
             ],
             [
              0.8888888888888888,
              "#fdca26"
             ],
             [
              1,
              "#f0f921"
             ]
            ],
            "type": "histogram2d"
           }
          ],
          "histogram2dcontour": [
           {
            "colorbar": {
             "outlinewidth": 0,
             "ticks": ""
            },
            "colorscale": [
             [
              0,
              "#0d0887"
             ],
             [
              0.1111111111111111,
              "#46039f"
             ],
             [
              0.2222222222222222,
              "#7201a8"
             ],
             [
              0.3333333333333333,
              "#9c179e"
             ],
             [
              0.4444444444444444,
              "#bd3786"
             ],
             [
              0.5555555555555556,
              "#d8576b"
             ],
             [
              0.6666666666666666,
              "#ed7953"
             ],
             [
              0.7777777777777778,
              "#fb9f3a"
             ],
             [
              0.8888888888888888,
              "#fdca26"
             ],
             [
              1,
              "#f0f921"
             ]
            ],
            "type": "histogram2dcontour"
           }
          ],
          "mesh3d": [
           {
            "colorbar": {
             "outlinewidth": 0,
             "ticks": ""
            },
            "type": "mesh3d"
           }
          ],
          "parcoords": [
           {
            "line": {
             "colorbar": {
              "outlinewidth": 0,
              "ticks": ""
             }
            },
            "type": "parcoords"
           }
          ],
          "pie": [
           {
            "automargin": true,
            "type": "pie"
           }
          ],
          "scatter": [
           {
            "fillpattern": {
             "fillmode": "overlay",
             "size": 10,
             "solidity": 0.2
            },
            "type": "scatter"
           }
          ],
          "scatter3d": [
           {
            "line": {
             "colorbar": {
              "outlinewidth": 0,
              "ticks": ""
             }
            },
            "marker": {
             "colorbar": {
              "outlinewidth": 0,
              "ticks": ""
             }
            },
            "type": "scatter3d"
           }
          ],
          "scattercarpet": [
           {
            "marker": {
             "colorbar": {
              "outlinewidth": 0,
              "ticks": ""
             }
            },
            "type": "scattercarpet"
           }
          ],
          "scattergeo": [
           {
            "marker": {
             "colorbar": {
              "outlinewidth": 0,
              "ticks": ""
             }
            },
            "type": "scattergeo"
           }
          ],
          "scattergl": [
           {
            "marker": {
             "colorbar": {
              "outlinewidth": 0,
              "ticks": ""
             }
            },
            "type": "scattergl"
           }
          ],
          "scattermapbox": [
           {
            "marker": {
             "colorbar": {
              "outlinewidth": 0,
              "ticks": ""
             }
            },
            "type": "scattermapbox"
           }
          ],
          "scatterpolar": [
           {
            "marker": {
             "colorbar": {
              "outlinewidth": 0,
              "ticks": ""
             }
            },
            "type": "scatterpolar"
           }
          ],
          "scatterpolargl": [
           {
            "marker": {
             "colorbar": {
              "outlinewidth": 0,
              "ticks": ""
             }
            },
            "type": "scatterpolargl"
           }
          ],
          "scatterternary": [
           {
            "marker": {
             "colorbar": {
              "outlinewidth": 0,
              "ticks": ""
             }
            },
            "type": "scatterternary"
           }
          ],
          "surface": [
           {
            "colorbar": {
             "outlinewidth": 0,
             "ticks": ""
            },
            "colorscale": [
             [
              0,
              "#0d0887"
             ],
             [
              0.1111111111111111,
              "#46039f"
             ],
             [
              0.2222222222222222,
              "#7201a8"
             ],
             [
              0.3333333333333333,
              "#9c179e"
             ],
             [
              0.4444444444444444,
              "#bd3786"
             ],
             [
              0.5555555555555556,
              "#d8576b"
             ],
             [
              0.6666666666666666,
              "#ed7953"
             ],
             [
              0.7777777777777778,
              "#fb9f3a"
             ],
             [
              0.8888888888888888,
              "#fdca26"
             ],
             [
              1,
              "#f0f921"
             ]
            ],
            "type": "surface"
           }
          ],
          "table": [
           {
            "cells": {
             "fill": {
              "color": "#EBF0F8"
             },
             "line": {
              "color": "white"
             }
            },
            "header": {
             "fill": {
              "color": "#C8D4E3"
             },
             "line": {
              "color": "white"
             }
            },
            "type": "table"
           }
          ]
         },
         "layout": {
          "annotationdefaults": {
           "arrowcolor": "#2a3f5f",
           "arrowhead": 0,
           "arrowwidth": 1
          },
          "autotypenumbers": "strict",
          "coloraxis": {
           "colorbar": {
            "outlinewidth": 0,
            "ticks": ""
           }
          },
          "colorscale": {
           "diverging": [
            [
             0,
             "#8e0152"
            ],
            [
             0.1,
             "#c51b7d"
            ],
            [
             0.2,
             "#de77ae"
            ],
            [
             0.3,
             "#f1b6da"
            ],
            [
             0.4,
             "#fde0ef"
            ],
            [
             0.5,
             "#f7f7f7"
            ],
            [
             0.6,
             "#e6f5d0"
            ],
            [
             0.7,
             "#b8e186"
            ],
            [
             0.8,
             "#7fbc41"
            ],
            [
             0.9,
             "#4d9221"
            ],
            [
             1,
             "#276419"
            ]
           ],
           "sequential": [
            [
             0,
             "#0d0887"
            ],
            [
             0.1111111111111111,
             "#46039f"
            ],
            [
             0.2222222222222222,
             "#7201a8"
            ],
            [
             0.3333333333333333,
             "#9c179e"
            ],
            [
             0.4444444444444444,
             "#bd3786"
            ],
            [
             0.5555555555555556,
             "#d8576b"
            ],
            [
             0.6666666666666666,
             "#ed7953"
            ],
            [
             0.7777777777777778,
             "#fb9f3a"
            ],
            [
             0.8888888888888888,
             "#fdca26"
            ],
            [
             1,
             "#f0f921"
            ]
           ],
           "sequentialminus": [
            [
             0,
             "#0d0887"
            ],
            [
             0.1111111111111111,
             "#46039f"
            ],
            [
             0.2222222222222222,
             "#7201a8"
            ],
            [
             0.3333333333333333,
             "#9c179e"
            ],
            [
             0.4444444444444444,
             "#bd3786"
            ],
            [
             0.5555555555555556,
             "#d8576b"
            ],
            [
             0.6666666666666666,
             "#ed7953"
            ],
            [
             0.7777777777777778,
             "#fb9f3a"
            ],
            [
             0.8888888888888888,
             "#fdca26"
            ],
            [
             1,
             "#f0f921"
            ]
           ]
          },
          "colorway": [
           "#636efa",
           "#EF553B",
           "#00cc96",
           "#ab63fa",
           "#FFA15A",
           "#19d3f3",
           "#FF6692",
           "#B6E880",
           "#FF97FF",
           "#FECB52"
          ],
          "font": {
           "color": "#2a3f5f"
          },
          "geo": {
           "bgcolor": "white",
           "lakecolor": "white",
           "landcolor": "#E5ECF6",
           "showlakes": true,
           "showland": true,
           "subunitcolor": "white"
          },
          "hoverlabel": {
           "align": "left"
          },
          "hovermode": "closest",
          "mapbox": {
           "style": "light"
          },
          "paper_bgcolor": "white",
          "plot_bgcolor": "#E5ECF6",
          "polar": {
           "angularaxis": {
            "gridcolor": "white",
            "linecolor": "white",
            "ticks": ""
           },
           "bgcolor": "#E5ECF6",
           "radialaxis": {
            "gridcolor": "white",
            "linecolor": "white",
            "ticks": ""
           }
          },
          "scene": {
           "xaxis": {
            "backgroundcolor": "#E5ECF6",
            "gridcolor": "white",
            "gridwidth": 2,
            "linecolor": "white",
            "showbackground": true,
            "ticks": "",
            "zerolinecolor": "white"
           },
           "yaxis": {
            "backgroundcolor": "#E5ECF6",
            "gridcolor": "white",
            "gridwidth": 2,
            "linecolor": "white",
            "showbackground": true,
            "ticks": "",
            "zerolinecolor": "white"
           },
           "zaxis": {
            "backgroundcolor": "#E5ECF6",
            "gridcolor": "white",
            "gridwidth": 2,
            "linecolor": "white",
            "showbackground": true,
            "ticks": "",
            "zerolinecolor": "white"
           }
          },
          "shapedefaults": {
           "line": {
            "color": "#2a3f5f"
           }
          },
          "ternary": {
           "aaxis": {
            "gridcolor": "white",
            "linecolor": "white",
            "ticks": ""
           },
           "baxis": {
            "gridcolor": "white",
            "linecolor": "white",
            "ticks": ""
           },
           "bgcolor": "#E5ECF6",
           "caxis": {
            "gridcolor": "white",
            "linecolor": "white",
            "ticks": ""
           }
          },
          "title": {
           "x": 0.05
          },
          "xaxis": {
           "automargin": true,
           "gridcolor": "white",
           "linecolor": "white",
           "ticks": "",
           "title": {
            "standoff": 15
           },
           "zerolinecolor": "white",
           "zerolinewidth": 2
          },
          "yaxis": {
           "automargin": true,
           "gridcolor": "white",
           "linecolor": "white",
           "ticks": "",
           "title": {
            "standoff": 15
           },
           "zerolinecolor": "white",
           "zerolinewidth": 2
          }
         }
        },
        "title": {
         "font": {
          "color": "black",
          "size": 26
         },
         "text": "Les 10 variables contribuant le plus à la prédiction du client : 100002 ",
         "x": 0.5,
         "xanchor": "center"
        },
        "xaxis": {
         "anchor": "y",
         "domain": [
          0,
          1
         ],
         "matches": "x2",
         "showticklabels": false,
         "title": {
          "text": "Importance relative de chaque variable"
         }
        },
        "xaxis2": {
         "anchor": "y2",
         "domain": [
          0,
          1
         ]
        },
        "yaxis": {
         "anchor": "x",
         "automargin": true,
         "domain": [
          0.19,
          1
         ],
         "dtick": 1,
         "tickmode": "array",
         "ticktext": [
          [
           "SOMME DES VARIABLES RESTANTES (50)"
          ],
          "INSTAL_PAYMENT_DIFF_ (0.0)",
          "BURO_DAYS_CREDIT_MEA (-874)",
          "PREV_NAME_PRODUCT_TY (0.0)",
          "OCCUPATION_TYPE_Labo (1.0)",
          "APPROVED_AMT_APPLICA (179055)",
          "PREV_RATE_DOWN_PAYME (0.0)",
          "APPROVED_HOUR_APPR_P (9)",
          "APPROVED_AMT_ANNUITY (9252)",
          "ANNEES_AGE (26)",
          "EXT_SOURCE_2 (0.26)"
         ],
         "tickvals": [
          0,
          1,
          2,
          3,
          4,
          5,
          6,
          7,
          8,
          9,
          10
         ],
         "title": {
          "text": "Variable(s) d'intérêt(s)"
         }
        },
        "yaxis2": {
         "anchor": "x2",
         "domain": [
          0,
          0.09000000000000001
         ],
         "ticktext": [
          [
           "Résultat global"
          ]
         ],
         "tickvals": [
          0
         ]
        }
       }
      },
      "text/html": [
       "<div>                            <div id=\"2babac1a-452c-4350-8b61-56ab7533fc0c\" class=\"plotly-graph-div\" style=\"height:1281px; width:100%;\"></div>            <script type=\"text/javascript\">                require([\"plotly\"], function(Plotly) {                    window.PLOTLYENV=window.PLOTLYENV || {};                                    if (document.getElementById(\"2babac1a-452c-4350-8b61-56ab7533fc0c\")) {                    Plotly.newPlot(                        \"2babac1a-452c-4350-8b61-56ab7533fc0c\",                        [{\"alignmentgroup\":\"True\",\"hovertemplate\":\"x=%{x}<br>y=%{y}<br>text=%{text}<extra></extra>\",\"legendgroup\":\"\",\"marker\":{\"color\":[\"blue\",\"blue\",\"red\",\"red\",\"red\",\"blue\",\"red\",\"red\",\"red\",\"red\",\"red\"],\"pattern\":{\"shape\":\"\"}},\"name\":\"\",\"offsetgroup\":\"\",\"orientation\":\"h\",\"showlegend\":false,\"text\":[\"0.25\",\"0.11\",\"-0.11\",\"-0.12\",\"-0.16\",\"0.17\",\"-0.18\",\"-0.21\",\"-0.29\",\"-0.35\",\"-0.6\"],\"textposition\":\"auto\",\"x\":[0.25,0.11,-0.11,-0.12,-0.16,0.17,-0.18,-0.21,-0.29,-0.35,-0.6],\"xaxis\":\"x\",\"y\":[\"SOMME DES VARIABLES RESTANTES (50)\",\"INSTAL_PAYMENT_DIFF_MAX\",\"BURO_DAYS_CREDIT_MEAN\",\"PREV_NAME_PRODUCT_TYPE_x-sell_MEAN\",\"OCCUPATION_TYPE_Laborers\",\"APPROVED_AMT_APPLICATION_MAX\",\"PREV_RATE_DOWN_PAYMENT_MEAN\",\"APPROVED_HOUR_APPR_PROCESS_START_MAX\",\"APPROVED_AMT_ANNUITY_MAX\",\"ANNEES_AGE\",\"EXT_SOURCE_2\"],\"yaxis\":\"y\",\"type\":\"bar\"},{\"alignmentgroup\":\"True\",\"hovertemplate\":\"valeur=%{text}<br>index=%{y}<extra></extra>\",\"legendgroup\":\"\",\"marker\":{\"color\":[\"red\"],\"pattern\":{\"shape\":\"\"}},\"name\":\"\",\"offsetgroup\":\"\",\"orientation\":\"h\",\"showlegend\":false,\"text\":[-1.49],\"textposition\":\"auto\",\"x\":[-1.49],\"xaxis\":\"x2\",\"y\":[0],\"yaxis\":\"y2\",\"type\":\"bar\"}],                        {\"template\":{\"data\":{\"histogram2dcontour\":[{\"type\":\"histogram2dcontour\",\"colorbar\":{\"outlinewidth\":0,\"ticks\":\"\"},\"colorscale\":[[0.0,\"#0d0887\"],[0.1111111111111111,\"#46039f\"],[0.2222222222222222,\"#7201a8\"],[0.3333333333333333,\"#9c179e\"],[0.4444444444444444,\"#bd3786\"],[0.5555555555555556,\"#d8576b\"],[0.6666666666666666,\"#ed7953\"],[0.7777777777777778,\"#fb9f3a\"],[0.8888888888888888,\"#fdca26\"],[1.0,\"#f0f921\"]]}],\"choropleth\":[{\"type\":\"choropleth\",\"colorbar\":{\"outlinewidth\":0,\"ticks\":\"\"}}],\"histogram2d\":[{\"type\":\"histogram2d\",\"colorbar\":{\"outlinewidth\":0,\"ticks\":\"\"},\"colorscale\":[[0.0,\"#0d0887\"],[0.1111111111111111,\"#46039f\"],[0.2222222222222222,\"#7201a8\"],[0.3333333333333333,\"#9c179e\"],[0.4444444444444444,\"#bd3786\"],[0.5555555555555556,\"#d8576b\"],[0.6666666666666666,\"#ed7953\"],[0.7777777777777778,\"#fb9f3a\"],[0.8888888888888888,\"#fdca26\"],[1.0,\"#f0f921\"]]}],\"heatmap\":[{\"type\":\"heatmap\",\"colorbar\":{\"outlinewidth\":0,\"ticks\":\"\"},\"colorscale\":[[0.0,\"#0d0887\"],[0.1111111111111111,\"#46039f\"],[0.2222222222222222,\"#7201a8\"],[0.3333333333333333,\"#9c179e\"],[0.4444444444444444,\"#bd3786\"],[0.5555555555555556,\"#d8576b\"],[0.6666666666666666,\"#ed7953\"],[0.7777777777777778,\"#fb9f3a\"],[0.8888888888888888,\"#fdca26\"],[1.0,\"#f0f921\"]]}],\"heatmapgl\":[{\"type\":\"heatmapgl\",\"colorbar\":{\"outlinewidth\":0,\"ticks\":\"\"},\"colorscale\":[[0.0,\"#0d0887\"],[0.1111111111111111,\"#46039f\"],[0.2222222222222222,\"#7201a8\"],[0.3333333333333333,\"#9c179e\"],[0.4444444444444444,\"#bd3786\"],[0.5555555555555556,\"#d8576b\"],[0.6666666666666666,\"#ed7953\"],[0.7777777777777778,\"#fb9f3a\"],[0.8888888888888888,\"#fdca26\"],[1.0,\"#f0f921\"]]}],\"contourcarpet\":[{\"type\":\"contourcarpet\",\"colorbar\":{\"outlinewidth\":0,\"ticks\":\"\"}}],\"contour\":[{\"type\":\"contour\",\"colorbar\":{\"outlinewidth\":0,\"ticks\":\"\"},\"colorscale\":[[0.0,\"#0d0887\"],[0.1111111111111111,\"#46039f\"],[0.2222222222222222,\"#7201a8\"],[0.3333333333333333,\"#9c179e\"],[0.4444444444444444,\"#bd3786\"],[0.5555555555555556,\"#d8576b\"],[0.6666666666666666,\"#ed7953\"],[0.7777777777777778,\"#fb9f3a\"],[0.8888888888888888,\"#fdca26\"],[1.0,\"#f0f921\"]]}],\"surface\":[{\"type\":\"surface\",\"colorbar\":{\"outlinewidth\":0,\"ticks\":\"\"},\"colorscale\":[[0.0,\"#0d0887\"],[0.1111111111111111,\"#46039f\"],[0.2222222222222222,\"#7201a8\"],[0.3333333333333333,\"#9c179e\"],[0.4444444444444444,\"#bd3786\"],[0.5555555555555556,\"#d8576b\"],[0.6666666666666666,\"#ed7953\"],[0.7777777777777778,\"#fb9f3a\"],[0.8888888888888888,\"#fdca26\"],[1.0,\"#f0f921\"]]}],\"mesh3d\":[{\"type\":\"mesh3d\",\"colorbar\":{\"outlinewidth\":0,\"ticks\":\"\"}}],\"scatter\":[{\"fillpattern\":{\"fillmode\":\"overlay\",\"size\":10,\"solidity\":0.2},\"type\":\"scatter\"}],\"parcoords\":[{\"type\":\"parcoords\",\"line\":{\"colorbar\":{\"outlinewidth\":0,\"ticks\":\"\"}}}],\"scatterpolargl\":[{\"type\":\"scatterpolargl\",\"marker\":{\"colorbar\":{\"outlinewidth\":0,\"ticks\":\"\"}}}],\"bar\":[{\"error_x\":{\"color\":\"#2a3f5f\"},\"error_y\":{\"color\":\"#2a3f5f\"},\"marker\":{\"line\":{\"color\":\"#E5ECF6\",\"width\":0.5},\"pattern\":{\"fillmode\":\"overlay\",\"size\":10,\"solidity\":0.2}},\"type\":\"bar\"}],\"scattergeo\":[{\"type\":\"scattergeo\",\"marker\":{\"colorbar\":{\"outlinewidth\":0,\"ticks\":\"\"}}}],\"scatterpolar\":[{\"type\":\"scatterpolar\",\"marker\":{\"colorbar\":{\"outlinewidth\":0,\"ticks\":\"\"}}}],\"histogram\":[{\"marker\":{\"pattern\":{\"fillmode\":\"overlay\",\"size\":10,\"solidity\":0.2}},\"type\":\"histogram\"}],\"scattergl\":[{\"type\":\"scattergl\",\"marker\":{\"colorbar\":{\"outlinewidth\":0,\"ticks\":\"\"}}}],\"scatter3d\":[{\"type\":\"scatter3d\",\"line\":{\"colorbar\":{\"outlinewidth\":0,\"ticks\":\"\"}},\"marker\":{\"colorbar\":{\"outlinewidth\":0,\"ticks\":\"\"}}}],\"scattermapbox\":[{\"type\":\"scattermapbox\",\"marker\":{\"colorbar\":{\"outlinewidth\":0,\"ticks\":\"\"}}}],\"scatterternary\":[{\"type\":\"scatterternary\",\"marker\":{\"colorbar\":{\"outlinewidth\":0,\"ticks\":\"\"}}}],\"scattercarpet\":[{\"type\":\"scattercarpet\",\"marker\":{\"colorbar\":{\"outlinewidth\":0,\"ticks\":\"\"}}}],\"carpet\":[{\"aaxis\":{\"endlinecolor\":\"#2a3f5f\",\"gridcolor\":\"white\",\"linecolor\":\"white\",\"minorgridcolor\":\"white\",\"startlinecolor\":\"#2a3f5f\"},\"baxis\":{\"endlinecolor\":\"#2a3f5f\",\"gridcolor\":\"white\",\"linecolor\":\"white\",\"minorgridcolor\":\"white\",\"startlinecolor\":\"#2a3f5f\"},\"type\":\"carpet\"}],\"table\":[{\"cells\":{\"fill\":{\"color\":\"#EBF0F8\"},\"line\":{\"color\":\"white\"}},\"header\":{\"fill\":{\"color\":\"#C8D4E3\"},\"line\":{\"color\":\"white\"}},\"type\":\"table\"}],\"barpolar\":[{\"marker\":{\"line\":{\"color\":\"#E5ECF6\",\"width\":0.5},\"pattern\":{\"fillmode\":\"overlay\",\"size\":10,\"solidity\":0.2}},\"type\":\"barpolar\"}],\"pie\":[{\"automargin\":true,\"type\":\"pie\"}]},\"layout\":{\"autotypenumbers\":\"strict\",\"colorway\":[\"#636efa\",\"#EF553B\",\"#00cc96\",\"#ab63fa\",\"#FFA15A\",\"#19d3f3\",\"#FF6692\",\"#B6E880\",\"#FF97FF\",\"#FECB52\"],\"font\":{\"color\":\"#2a3f5f\"},\"hovermode\":\"closest\",\"hoverlabel\":{\"align\":\"left\"},\"paper_bgcolor\":\"white\",\"plot_bgcolor\":\"#E5ECF6\",\"polar\":{\"bgcolor\":\"#E5ECF6\",\"angularaxis\":{\"gridcolor\":\"white\",\"linecolor\":\"white\",\"ticks\":\"\"},\"radialaxis\":{\"gridcolor\":\"white\",\"linecolor\":\"white\",\"ticks\":\"\"}},\"ternary\":{\"bgcolor\":\"#E5ECF6\",\"aaxis\":{\"gridcolor\":\"white\",\"linecolor\":\"white\",\"ticks\":\"\"},\"baxis\":{\"gridcolor\":\"white\",\"linecolor\":\"white\",\"ticks\":\"\"},\"caxis\":{\"gridcolor\":\"white\",\"linecolor\":\"white\",\"ticks\":\"\"}},\"coloraxis\":{\"colorbar\":{\"outlinewidth\":0,\"ticks\":\"\"}},\"colorscale\":{\"sequential\":[[0.0,\"#0d0887\"],[0.1111111111111111,\"#46039f\"],[0.2222222222222222,\"#7201a8\"],[0.3333333333333333,\"#9c179e\"],[0.4444444444444444,\"#bd3786\"],[0.5555555555555556,\"#d8576b\"],[0.6666666666666666,\"#ed7953\"],[0.7777777777777778,\"#fb9f3a\"],[0.8888888888888888,\"#fdca26\"],[1.0,\"#f0f921\"]],\"sequentialminus\":[[0.0,\"#0d0887\"],[0.1111111111111111,\"#46039f\"],[0.2222222222222222,\"#7201a8\"],[0.3333333333333333,\"#9c179e\"],[0.4444444444444444,\"#bd3786\"],[0.5555555555555556,\"#d8576b\"],[0.6666666666666666,\"#ed7953\"],[0.7777777777777778,\"#fb9f3a\"],[0.8888888888888888,\"#fdca26\"],[1.0,\"#f0f921\"]],\"diverging\":[[0,\"#8e0152\"],[0.1,\"#c51b7d\"],[0.2,\"#de77ae\"],[0.3,\"#f1b6da\"],[0.4,\"#fde0ef\"],[0.5,\"#f7f7f7\"],[0.6,\"#e6f5d0\"],[0.7,\"#b8e186\"],[0.8,\"#7fbc41\"],[0.9,\"#4d9221\"],[1,\"#276419\"]]},\"xaxis\":{\"gridcolor\":\"white\",\"linecolor\":\"white\",\"ticks\":\"\",\"title\":{\"standoff\":15},\"zerolinecolor\":\"white\",\"automargin\":true,\"zerolinewidth\":2},\"yaxis\":{\"gridcolor\":\"white\",\"linecolor\":\"white\",\"ticks\":\"\",\"title\":{\"standoff\":15},\"zerolinecolor\":\"white\",\"automargin\":true,\"zerolinewidth\":2},\"scene\":{\"xaxis\":{\"backgroundcolor\":\"#E5ECF6\",\"gridcolor\":\"white\",\"linecolor\":\"white\",\"showbackground\":true,\"ticks\":\"\",\"zerolinecolor\":\"white\",\"gridwidth\":2},\"yaxis\":{\"backgroundcolor\":\"#E5ECF6\",\"gridcolor\":\"white\",\"linecolor\":\"white\",\"showbackground\":true,\"ticks\":\"\",\"zerolinecolor\":\"white\",\"gridwidth\":2},\"zaxis\":{\"backgroundcolor\":\"#E5ECF6\",\"gridcolor\":\"white\",\"linecolor\":\"white\",\"showbackground\":true,\"ticks\":\"\",\"zerolinecolor\":\"white\",\"gridwidth\":2}},\"shapedefaults\":{\"line\":{\"color\":\"#2a3f5f\"}},\"annotationdefaults\":{\"arrowcolor\":\"#2a3f5f\",\"arrowhead\":0,\"arrowwidth\":1},\"geo\":{\"bgcolor\":\"white\",\"landcolor\":\"#E5ECF6\",\"subunitcolor\":\"white\",\"showland\":true,\"showlakes\":true,\"lakecolor\":\"white\"},\"title\":{\"x\":0.05},\"mapbox\":{\"style\":\"light\"}}},\"xaxis\":{\"anchor\":\"y\",\"domain\":[0.0,1.0],\"matches\":\"x2\",\"showticklabels\":false,\"title\":{\"text\":\"Importance relative de chaque variable\"}},\"yaxis\":{\"anchor\":\"x\",\"domain\":[0.19,1.0],\"ticktext\":[[\"SOMME DES VARIABLES RESTANTES (50)\"],\"INSTAL_PAYMENT_DIFF_ (0.0)\",\"BURO_DAYS_CREDIT_MEA (-874)\",\"PREV_NAME_PRODUCT_TY (0.0)\",\"OCCUPATION_TYPE_Labo (1.0)\",\"APPROVED_AMT_APPLICA (179055)\",\"PREV_RATE_DOWN_PAYME (0.0)\",\"APPROVED_HOUR_APPR_P (9)\",\"APPROVED_AMT_ANNUITY (9252)\",\"ANNEES_AGE (26)\",\"EXT_SOURCE_2 (0.26)\"],\"tickvals\":[0,1,2,3,4,5,6,7,8,9,10],\"title\":{\"text\":\"Variable(s) d'int\\u00e9r\\u00eat(s)\"},\"tickmode\":\"array\",\"dtick\":1,\"automargin\":true},\"xaxis2\":{\"anchor\":\"y2\",\"domain\":[0.0,1.0]},\"yaxis2\":{\"anchor\":\"x2\",\"domain\":[0.0,0.09000000000000001],\"ticktext\":[[\"R\\u00e9sultat global\"]],\"tickvals\":[0]},\"annotations\":[{\"font\":{\"size\":16},\"showarrow\":false,\"text\":\"Valeurs par variable\",\"x\":0.5,\"xanchor\":\"center\",\"xref\":\"paper\",\"y\":1.0,\"yanchor\":\"bottom\",\"yref\":\"paper\"},{\"font\":{\"size\":16},\"showarrow\":false,\"text\":\"Valeur globale : Pas de pr\\u00eat\",\"x\":0.5,\"xanchor\":\"center\",\"xref\":\"paper\",\"y\":0.09000000000000001,\"yanchor\":\"bottom\",\"yref\":\"paper\"}],\"height\":1281,\"title\":{\"font\":{\"size\":26,\"color\":\"black\"},\"text\":\"Les 10 variables contribuant le plus \\u00e0 la pr\\u00e9diction du client : 100002 \",\"x\":0.5,\"xanchor\":\"center\"},\"font\":{\"size\":18,\"color\":\"black\"},\"shapes\":[{\"line\":{\"color\":\"black\",\"width\":2},\"type\":\"line\",\"x0\":0,\"x1\":0,\"xref\":\"x\",\"y0\":-0.5,\"y1\":10.5,\"yref\":\"y\"},{\"line\":{\"color\":\"black\",\"width\":2},\"type\":\"line\",\"x0\":0,\"x1\":0,\"xref\":\"x2\",\"y0\":-0.5,\"y1\":0.5,\"yref\":\"y2\"}]},                        {\"responsive\": true}                    ).then(function(){\n",
       "                            \n",
       "var gd = document.getElementById('2babac1a-452c-4350-8b61-56ab7533fc0c');\n",
       "var x = new MutationObserver(function (mutations, observer) {{\n",
       "        var display = window.getComputedStyle(gd).display;\n",
       "        if (!display || display === 'none') {{\n",
       "            console.log([gd, 'removed!']);\n",
       "            Plotly.purge(gd);\n",
       "            observer.disconnect();\n",
       "        }}\n",
       "}});\n",
       "\n",
       "// Listen for the removal of the full notebook cells\n",
       "var notebookContainer = gd.closest('#notebook-container');\n",
       "if (notebookContainer) {{\n",
       "    x.observe(notebookContainer, {childList: true});\n",
       "}}\n",
       "\n",
       "// Listen for the clearing of the current output cell\n",
       "var outputEl = gd.closest('.output');\n",
       "if (outputEl) {{\n",
       "    x.observe(outputEl, {childList: true});\n",
       "}}\n",
       "\n",
       "                        })                };                });            </script>        </div>"
      ]
     },
     "metadata": {},
     "output_type": "display_data"
    }
   ],
   "source": [
    "#figure_feature_client_dash(df_client_score, file_df[df_client_score.SK_ID_CURR == 100002])\n",
    "df1 = file_df_client_score[file_df_client_score.SK_ID_CURR == 100002]\n",
    "df2 = file_df[file_df.SK_ID_CURR == 100002]\n",
    "figure_feature_client_dash(df1, df2)"
   ]
  },
  {
   "cell_type": "code",
   "execution_count": 43,
   "id": "803414d8",
   "metadata": {},
   "outputs": [],
   "source": [
    "def figure_feature_client_dash(df_shape, df_client, nb_variable = 10, color_point = \"plotly\", size = 18):\n",
    "    \n",
    "    # on ajuste la couleur des barres du graphique\n",
    "    if color_point == \"colorblind\":\n",
    "        color_bar = \"#648FFF\"\n",
    "        color_bar_selected = \"#FFB000\"\n",
    "    else :\n",
    "        color_bar = \"blue\"\n",
    "        color_bar_selected = \"red\"\n",
    "     \n",
    "    figure_height = (df_shape.shape[0] * size)\n",
    "    \n",
    "    for i, client in df_shape.iterrows():\n",
    "\n",
    "        figure_height = 200 + (len(client[2:]) * size+1)\n",
    "        \n",
    "        # on trie les variables selon leur influence sur le résultat et on ne garde que les nb_variables premières valeurs\n",
    "        index = abs(client[2:]).sort_values(ascending=True)[-nb_variable:].index\n",
    "        \n",
    "        nomVar = str(f\"SOMME DES VARIABLES RESTANTES ({(len(client) - 2 - nb_variable)})\")\n",
    "        # Ajout du score des variables non calculées\n",
    "        client.loc[nomVar] = client[~client.index.isin(index)][2:].sum()\n",
    "        \n",
    "        # on ajoute sous la forme d'un index\n",
    "        index = index.insert(0, pd.Index([nomVar]))\n",
    "        \n",
    "        \n",
    "        # On fait -1 pour inverser la contribution\n",
    "        # Négatif : Contribution négative à l'obtention du prêt\n",
    "        # Positif : Contribution positif à l'obtention du prêt\n",
    "        client[index] = client[index] * -1 \n",
    "        \n",
    "        # Pour afficher les valeurs sur le graphiques\n",
    "        texte_liste = round(client[index], 2).astype(str).values\n",
    "        # Permet de standardiser la taille du nom des variables\n",
    "        texte_variable = index[1:].str[:20]\n",
    "        \n",
    "        texte_valeur = df_client[index[1:]].values[0]\n",
    "\n",
    "        # on format\n",
    "        texte_valeur = [round(x) if abs(x) > 5 else round(x, 2) for x in texte_valeur]\n",
    "\n",
    "        \n",
    "        # On ajoute la valeur de la variable au nom de la variable\n",
    "        combined_texte = [f\"{x} ({y})\" for x, y in zip(texte_variable, texte_valeur)]\n",
    "\n",
    "        combined_texte.insert(0, pd.Index([nomVar]))\n",
    "\n",
    "        figure_var = px.bar(client[index], \n",
    "                        y=index, \n",
    "                        x=round(client[index], 2).values,\n",
    "                        text=texte_liste,  \n",
    "                        height=figure_height)\n",
    "\n",
    "        # on met une couleur selon si la variable a une influence positive ou négative sur le score.\n",
    "        colors = [color_bar_selected if client[col] <= 0 else color_bar for col in client[index].index]\n",
    "        figure_var.update_traces(marker_color=colors)\n",
    "        \n",
    "        # On fait -1 pour inverser la contribution\n",
    "        # Négatif : Contribution négative à l'obtention du prêt\n",
    "        # Positif : Contribution positif à l'obtention du prêt\n",
    "        shape_global = {'nom': [\"Résultat global\"], 'valeur': round(client[1] * -1, 2)}\n",
    "        figure_global = px.bar(shape_global,\n",
    "                        x='valeur',\n",
    "                        text='valeur',\n",
    "                        height=200)\n",
    "        colors = [color_bar_selected if shape_global[\"valeur\"] <= 0 else color_bar]\n",
    "        figure_global.update_traces(marker_color=colors)\n",
    "        \n",
    "        # On crée un subplot de 2 lignes, avec une différence de taille entre les 2 figures\n",
    "        fig_general = sp.make_subplots(rows=2, cols=1, row_heights=[9, 1], shared_xaxes=True,\n",
    "                              subplot_titles=(\"Valeurs par variable\", \n",
    "                                              f\"Valeur globale : {'Pas de prêt' if shape_global['valeur'] <= 0 else 'Prêt'}\"),\n",
    "                              vertical_spacing=0.1)\n",
    "\n",
    "        # On ajoute la première figure en haut\n",
    "        for trace in figure_var.data:\n",
    "            fig_general.add_trace(trace, row=1, col=1)\n",
    "\n",
    "        # On ajoute la seconde en bas\n",
    "        for trace in figure_global.data:\n",
    "            fig_general.add_trace(trace, row=2, col=1)  \n",
    "\n",
    "        fig_general.update_yaxes(ticktext=combined_texte, tickvals=list(range(nb_variable+1)), row=1, col=1)\n",
    "        fig_general.update_yaxes(ticktext=[shape_global[\"nom\"]], tickvals=[0], row=2, col=1)\n",
    "        fig_general.update_layout(height=figure_height)\n",
    "\n",
    "        fig_general.update_layout(\n",
    "            title=dict(\n",
    "                text = (f\"Les 10 variables contribuant le plus à la prédiction du client : {round(client[0])} \"),\n",
    "                font=dict(size=8+size, color=\"black\"), x=0.5, xanchor='center'),\n",
    "            \n",
    "            font=dict(size=size, color=\"black\"),\n",
    "            xaxis=dict(title = \"Importance relative de chaque variable\"),\n",
    "            yaxis=dict(title = \"Variable(s) d'intérêt(s)\",\n",
    "                tickmode='array', tickvals=list(range(nb_variable + 1)),  \n",
    "                dtick=1, automargin=True)\n",
    "        )\n",
    "            \n",
    "        fig_general.add_shape(type=\"line\", x0=0, x1=0, y0=-0.5, y1=nb_variable+0.5,\n",
    "                            line=dict(color=\"black\", width=2), row=1, col=1)\n",
    "        fig_general.add_shape(type=\"line\", x0=0, x1=0, y0=-0.5, y1=0.5,\n",
    "                            line=dict(color=\"black\", width=2), row=2, col=1)\n",
    "\n",
    "    return fig_general\n",
    "        \n",
    "def return_dataframe_client(df, list_client):\n",
    "    return df.loc[df.SK_ID_CURR.isin(list_client)]\n"
   ]
  },
  {
   "cell_type": "code",
   "execution_count": 13,
   "id": "0345718b",
   "metadata": {},
   "outputs": [],
   "source": [
    "def feature_importance_threshold(df, feats, importance, variance_importance = 0.9):\n",
    "\n",
    "    # On récupère le total\n",
    "    variance_total = df[importance].sum()\n",
    "    \n",
    "    # Ce qui va nous permettre d'identifier les variables à afficher\n",
    "    variance_threshold = variance_total * variance_importance\n",
    "    \n",
    "    # On trie\n",
    "    df.sort_values(importance, ascending = False, inplace = True)\n",
    "    \n",
    "    # On mesure la somme continue de l'importance, en partant de la variable la plus importante\n",
    "    cumsum = df[importance].cumsum()\n",
    "    \n",
    "    # On ne sélectionne que les features\n",
    "    cols_num = [cols_num for cols_num, val in zip(cumsum.index, cumsum) if val <= variance_threshold]\n",
    "    \n",
    "    sorted_df = copy.copy(df.loc[df.index.isin(cols_num), :]) \n",
    "    \n",
    "    return sorted_df\n",
    "\n",
    "def figure_feature_importance_dash(df, feats, importance, size, variance_importance = 0.9, color_point = \"plotly\", list_feat = None):\n",
    "    ## \n",
    "    #    Fonction retournant un object de type figure\n",
    "    #    On filtre les variables à afficher selon l'importance qu'ils ont sur le modèle (du plus important au moins)\n",
    "    #    variance_importance = 0.5 : On affiche les variables qui ont 50 % du poids du modèle \n",
    "    #    variance_importance = 1 : On affiche l'ensemble des variables qui contribue au modèle\n",
    "    ##\n",
    "    \n",
    "    # on ajuste la couleur des barres du graphique\n",
    "    if color_point == \"colorblind\":\n",
    "        color_bar = \"#648FFF\"\n",
    "        color_bar_selected = \"#FFB000\"\n",
    "    else :\n",
    "        color_bar = \"blue\"\n",
    "        color_bar_selected = \"red\"\n",
    "        \n",
    "    mask = feature_importance_threshold(df, feats, importance, variance_importance)\n",
    "    \n",
    "\n",
    "    mask.sort_values(by=importance, ascending = True, inplace = True)\n",
    "    \n",
    "    # Permet de standardiser la taille du nom des variables, selon la taille du texte\n",
    "    mask[\"truncated\"] = mask[feats].str[:(60 - size)]\n",
    "    \n",
    "    figure_height = 200 + (mask.shape[0] * (size+1))\n",
    "    \n",
    "    # On instancie un objet px.bar avec les features filtrées\n",
    "    figure = px.bar(mask, \n",
    "                    y=feats, \n",
    "                    x=importance,\n",
    "                    height=figure_height, \n",
    "                   )\n",
    "        \n",
    "    # Si on a une liste de features sélectionnées, on les met en avant\n",
    "    \n",
    "    if list_feat:\n",
    "        colors = [color_bar_selected if f in list_feat else color_bar for f in mask[feats]]\n",
    "        figure.update_traces(marker_color=colors)\n",
    "    else : \n",
    "        figure.update_traces(marker_color=color_bar)\n",
    "        \n",
    "    figure.update_yaxes(ticktext=mask[\"truncated\"], tickvals=list(range(len(mask[\"truncated\"]))))\n",
    "    \n",
    "    figure.update_layout(\n",
    "        title=dict(\n",
    "            text = (\n",
    "                    f\"{mask.shape[0]} variable{'(s)' if mask.shape[0] > 1 else ''} \"\n",
    "                    f\"contribue{'nt' if mask.shape[0] > 1 else ''} à expliquer \"\n",
    "                    f\"{variance_importance * 100} % du modèle\"\n",
    "                ),\n",
    "            font=dict(size=8+size, color=\"black\"),\n",
    "            x=0.5,  # Center the title horizontally\n",
    "            xanchor='center'\n",
    "        ),\n",
    "        font=dict(size=size, color=\"black\"),\n",
    "        xaxis=dict(title = \"Importance (valeur absolue)\"),\n",
    "        yaxis=dict(\n",
    "            tickmode='array',  \n",
    "            tickvals=list(range(mask.shape[0])),  \n",
    "            dtick=1,  \n",
    "            automargin=True)\n",
    "    )\n",
    "    # On retourne la figure\n",
    "    return figure\n"
   ]
  },
  {
   "cell_type": "code",
   "execution_count": 14,
   "id": "c9ac43ae",
   "metadata": {},
   "outputs": [],
   "source": [
    "file_df = None"
   ]
  },
  {
   "cell_type": "code",
   "execution_count": 45,
   "id": "625a6474",
   "metadata": {
    "scrolled": false
   },
   "outputs": [
    {
     "data": {
      "text/html": [
       "\n",
       "        <iframe\n",
       "            width=\"100%\"\n",
       "            height=\"650\"\n",
       "            src=\"http://127.0.0.1:8050/\"\n",
       "            frameborder=\"0\"\n",
       "            allowfullscreen\n",
       "            \n",
       "        ></iframe>\n",
       "        "
      ],
      "text/plain": [
       "<IPython.lib.display.IFrame at 0x2119563a6d0>"
      ]
     },
     "metadata": {},
     "output_type": "display_data"
    }
   ],
   "source": [
    "##### Initialize the app - incorporate css\n",
    "external_stylesheets = ['https://codepen.io/chriddyp/pen/bWLwgP.css']\n",
    "app = Dash(__name__, external_stylesheets=external_stylesheets)\n",
    "server = app.server\n",
    "#app.title = 'Sidebar'\n",
    "\n",
    "# App layout\n",
    "app.layout = html.Div([\n",
    "    \n",
    "    # Titre dashboard\n",
    "    html.Div(className='row', children=\"Utilisation du modèle pour prédire l'obtention d'un prêt\",\n",
    "             style={'textAlign': 'center', 'color': 'black', 'fontSize': 30}),\n",
    "    html.Hr(), # Ligne horizontale\n",
    "    \n",
    "    # Upload liste de clients et leur caractéristiques\n",
    "    html.Div(className='row',\n",
    "        style={'textAlign': 'center', 'color': 'black', 'fontSize': 24}, children=[\n",
    "            html.Div(className='row', children = \"Chargez votre fichier clients ou le fichier test.csv\"),\n",
    "            # Boutton pour upload données \n",
    "            dcc.Upload(id=\"upload-data\",children=[\n",
    "                html.Button(\"Upload un fichier .csv\", style={'color': 'black'})], multiple=False),\n",
    "            html.Div(className='row', children=\"ou\"),\n",
    "            # Boutton pour upload les données tests\n",
    "            html.Button(\"Upload test.csv\", id=\"test_file_button\", n_clicks=0, style={'color': 'black'}),\n",
    "    ]),   \n",
    "\n",
    "    html.Hr(), # Ligne horizontale\n",
    "    \n",
    "        # Choix des clients\n",
    "    html.Div(className='row', children=[\n",
    "        html.Div(className='client-selection', children=[\n",
    "                html.Div(\"Choix d'un client :\",\n",
    "                         style={'textAlign': 'left', 'color': 'black', 'fontSize': 18}),\n",
    "                dcc.Dropdown(\n",
    "                        value=None,\n",
    "                        style={'textAlign': 'left', 'color': 'black', 'fontSize': 15},\n",
    "                        placeholder=\"Sélection client(s)\",\n",
    "                        multi=True,\n",
    "                        id='dropdown_client'\n",
    "                ),\n",
    "            ],\n",
    "        ),\n",
    "        # On affiche les 2 tableaux\n",
    "        html.Div(id=\"table_client\"),\n",
    "        html.Div(className='row', children=\"Score de prédiction de l'obtention d'un prêt\",\n",
    "             style={'textAlign': 'center', 'color': 'black', 'fontSize': 30}),\n",
    "        html.Div(id=\"table_prediction\"),\n",
    "        \n",
    "            # Upload liste de clients et leur caractéristiques\n",
    "        html.Div(className='row',\n",
    "            style={'textAlign': 'center', 'color': 'black', 'fontSize': 24}, children=[\n",
    "                html.Div(className='row', children = \"Télécharger les fichiers de prédictions\"),\n",
    "                # Boutton pour download les résultats \n",
    "                html.Button(\"Result_prediction_all.csv\", id=\"download-data_all-button\", n_clicks = 0, style={'color': 'black'}),\n",
    "                html.Button(\"Result_prediction_client.csv\", id=\"download-data_client-button\", n_clicks = 0, style={'color': 'black'}),\n",
    "                dcc.Download(id=\"download-data\"),\n",
    "        ]),  \n",
    "        \n",
    "        html.Hr(), # Ligne horizontale\n",
    "        # On affiche les différents graphs liés au résultat du modèle\n",
    "        html.Div(className=\"figure_client\", children=[\n",
    "            # Option pour la taille des polices et des points\n",
    "            html.Label(\"Taille police (axes et valeurs)\"),\n",
    "            dcc.Slider(id='font-size-slider', min=18, max=36, step=2, value=18,\n",
    "                marks={i: str(i) for i in range(18, 37, 2)}),\n",
    "            html.Label(\"Taille points (graphique)\"),\n",
    "            dcc.Slider(id='point-size-slider', min=4, max=16, step=2, value=8,\n",
    "                marks={i: str(i) for i in range(4, 17, 2)}),\n",
    "            # Option pour la palette de couleur\n",
    "            html.Label(\"Sélectionnez une couleur de palette :\"),\n",
    "            dcc.RadioItems(id='color-palette-dropdown',\n",
    "                style={'textAlign': 'left', 'color': 'black', 'fontSize': 15},\n",
    "                options=[\n",
    "                    {'label': 'Défaut', 'value': 'plotly'},\n",
    "                    {'label': 'Daltonien', 'value': 'colorblind'}],\n",
    "                value='plotly', inline=True),\n",
    "            html.Div(className='row', children=\"Représentation des clients :\",\n",
    "             style={'textAlign': 'center', 'color': 'black', 'fontSize': 30}),\n",
    "            html.Label(\"Sélectionnez une métrique de score :\"),\n",
    "            dcc.RadioItems(id='variables_graph', \n",
    "                style={'textAlign': 'left', 'color': 'black', 'fontSize': 15},\n",
    "                options=[\n",
    "                    {'label': 'Score', 'value': 'score'},\n",
    "                    {'label': 'Proba_pred_pret', 'value': 'proba_pred_pret'},\n",
    "                    {'label': 'Score_note', 'value': 'score_note'}],\n",
    "                value='score', inline=True),\n",
    "            dcc.Graph(id=\"graph_pred\", style={'height': '600px', 'width': '100%', 'float': 'left'}),\n",
    "            html.Label(\"Importances des variables pour le modèle (défaut = 0.9)\"),\n",
    "            dcc.Slider(id='feature-importance-slider', min=0, max=1, step=0.05, value=0.9,\n",
    "                marks={i: str(round(i, 2)) for i in np.arange(0, 1.01, 0.05)}),\n",
    "            dcc.Graph(id=\"graph_model\", style={'width': '100%', 'float': 'left'}),\n",
    "            dcc.Dropdown(\n",
    "                        value=None,\n",
    "                        style={'textAlign': 'left', 'color': 'black', 'fontSize': 15},\n",
    "                        placeholder=\"Sélection client parmis les clients sélectionnés\",\n",
    "                        multi=False,\n",
    "                        id='dropdown_client_var'\n",
    "                ),\n",
    "            dcc.Graph(id=\"graph_client\", style={'width': '100%', 'float': 'left'}),\n",
    "            \n",
    "        ]),\n",
    "        # Choix des variables à représenter\n",
    "        html.Div(className='variable-selection', \n",
    "            children=[\n",
    "                html.Div(\"Afficher la distribution des variables définissant les clients\",\n",
    "                         style={'textAlign': 'center', 'color': 'black', 'fontSize': 18}),\n",
    "                dcc.RadioItems(id='dropdown_fig_type', \n",
    "                    style={'textAlign': 'left', 'color': 'black', 'fontSize': 15},\n",
    "                    options=[\n",
    "                        {'label': 'Strip', 'value': 'strip'},\n",
    "                        {'label': 'Boxplot', 'value': 'boxplot'}],\n",
    "                    value='strip', inline=True),\n",
    "                dcc.Dropdown(\n",
    "                        value=None,\n",
    "                        style={'textAlign': 'left', 'color': 'black', 'fontSize': 15},\n",
    "                        placeholder=\"Sélection variable(s) (2 maximum)\",\n",
    "                        multi=True,\n",
    "                        id='dropdown_variable'\n",
    "                ),\n",
    "                \n",
    "                dcc.Graph(id=\"graph_variables\", style={'height': '600px', 'width': '100%', 'float': 'left'}),\n",
    "                \n",
    "            ],\n",
    "        ),\n",
    "    ]),  \n",
    "])\n",
    "\n",
    "\n",
    "@app.callback(\n",
    "    Output(component_id=\"table_client\", component_property=\"children\"),\n",
    "    Output(component_id=\"table_prediction\", component_property=\"children\"),\n",
    "    Output(component_id=\"graph_pred\", component_property=\"figure\"),\n",
    "    Output(component_id=\"dropdown_variable\", component_property=\"options\"),\n",
    "    Output(component_id=\"dropdown_client\", component_property=\"options\"),\n",
    "    Output(component_id=\"dropdown_fig_type\", component_property=\"options\"),\n",
    "    Output(component_id=\"dropdown_fig_type\", component_property=\"value\"),\n",
    "    Output(component_id=\"graph_variables\", component_property=\"figure\"),\n",
    "    Output(component_id=\"graph_model\", component_property=\"figure\"),\n",
    "    Output(component_id=\"test_file_button\", component_property=\"n_clicks\"),\n",
    "    Output(component_id=\"upload-data\", component_property=\"contents\"),\n",
    "    Output(component_id=\"download-data\", component_property=\"data\"),\n",
    "    Output(component_id=\"download-data_all-button\", component_property=\"n_clicks\"),\n",
    "    Output(component_id=\"download-data_client-button\", component_property=\"n_clicks\"),\n",
    "    Output(component_id=\"graph_client\", component_property=\"figure\"),\n",
    "    Output(component_id=\"dropdown_client_var\", component_property=\"options\"),\n",
    "    \n",
    "    Input(component_id=\"test_file_button\", component_property=\"n_clicks\"),\n",
    "    Input(component_id=\"dropdown_client\", component_property=\"value\"),\n",
    "    Input(component_id=\"variables_graph\", component_property=\"value\"),\n",
    "    Input(component_id=\"dropdown_variable\", component_property=\"value\"),\n",
    "    Input(component_id=\"upload-data\", component_property=\"contents\"),    \n",
    "    Input(component_id=\"font-size-slider\", component_property=\"value\"), \n",
    "    Input(component_id=\"point-size-slider\", component_property=\"value\"),\n",
    "    Input(component_id=\"color-palette-dropdown\", component_property=\"value\"),\n",
    "    Input(component_id=\"dropdown_fig_type\", component_property=\"value\"),\n",
    "    Input(component_id=\"feature-importance-slider\", component_property=\"value\"),\n",
    "    Input(component_id=\"download-data_all-button\", component_property=\"n_clicks\"),\n",
    "    Input(component_id=\"download-data_client-button\", component_property=\"n_clicks\"),\n",
    "    Input(component_id=\"dropdown_client_var\", component_property=\"value\"),\n",
    "    \n",
    "    \n",
    ")\n",
    "\n",
    "\n",
    "\n",
    "def update_table_and_button(n_clicks_file, selected_client, scoring_choisie, selected_variable, content, font_size, point_size, color_point, selected_affichage, variance_importance, n_clicks_dl_file_all, n_clicks_dl_file_clients, selected_client_variable):\n",
    "    \n",
    "    # On défini des couleurs selon la condition\n",
    "    if color_point == \"plotly\" :\n",
    "        color_discrete_map = {\"Pret\": \"blue\", \"Non pret\": \"red\"}\n",
    "    \n",
    "    #Développé par IBM, source : https://davidmathlogic.com/colorblind/)\n",
    "    elif color_point == \"colorblind\" :\n",
    "        color_discrete_map = {\"Pret\": '#648FFF', \"Non pret\": '#FFB000'}\n",
    "    \n",
    "    global file_df\n",
    "    global file_df_client_score\n",
    "    \n",
    "    # On charge le fichier \n",
    "    if content is not None: \n",
    "        content_type, content_string = content.split(\",\")\n",
    "        decoded = base64.b64decode(content_string)\n",
    "        file_df = pd.read_csv(io.StringIO(decoded.decode('utf-8')))\n",
    "        \n",
    "        # Plusieurs étapes de préparation du fichier\n",
    "        file_df = preparation_file(file_df, model)\n",
    "        file_df = application_model(file_df, model, proba_threshold)\n",
    "        file_df_client_score = feature_importance_client(file_df, model, explainer_model)\n",
    "        \n",
    "        # On remet la valeur par défaut pour permettre de nouveaux téléchargements\n",
    "        content = None\n",
    "     \n",
    "    # On charge le fichier test.csv\n",
    "    if n_clicks_file == 1:\n",
    "        file_df = pd.read_csv(\"test.csv\")\n",
    "        # On mesure les différentes métriques\n",
    "        file_df = application_model(file_df, model, proba_threshold)\n",
    "        file_df_client_score = feature_importance_client(file_df, model, explainer_model)\n",
    "        n_clicks_file = 0\n",
    "        \n",
    "    # Par défaut, si aucun fichier de chargé\n",
    "    if file_df is None :\n",
    "        table1, table2 = dash_table.DataTable(), dash_table.DataTable()\n",
    "        figure_score, figure_variables, figure_feature_importance_client = px.scatter(height=0), px.scatter(height=0), px.bar(height=0)\n",
    "        option_drop_var, option_drop_clients, option_drop_var_graph, option_client_variable = [], [], [], []\n",
    "        selected_affichage, content = None, None,\n",
    "        n_clicks_dl_file_all, n_clicks_dl_file_clients = 0, 0\n",
    "        figure_feat_imp = figure_feature_importance_dash(feature_importance, \"Features\", \"Importance\", font_size, variance_importance, color_point, selected_variable)\n",
    "        \n",
    "        return (table1, table2, \n",
    "                figure_score, option_drop_var, \n",
    "                    option_drop_clients, option_drop_var_graph, \n",
    "                        selected_affichage, figure_variables, \n",
    "                            figure_feat_imp, n_clicks_file, content, \n",
    "                                None, n_clicks_dl_file_all, \n",
    "                                    n_clicks_dl_file_clients, figure_feature_importance_client, option_client_variable)\n",
    "    \n",
    "    elif file_df is not None :\n",
    "        # On met à jour la liste de dropdown\n",
    "        # La liste de variable est dépendante de la liste de feature importance\n",
    "\n",
    "        feat_imp_threshold = feature_importance_threshold(feature_importance, \"Features\", \"Importance\", variance_importance).Features.values\n",
    "        option_drop_var=[{'label': str(var), 'value': var} for var in [col for col in feat_imp_threshold]]\n",
    "        option_drop_clients=[{'label': str(client), 'value': client} for client in file_df['SK_ID_CURR']]\n",
    "\n",
    "        # On prend la colonne ID client et les dernières colonnes liées à la prédiction crédit\n",
    "        cols = [0] + list(range(-6, 0))\n",
    "\n",
    "        if selected_client == []:\n",
    "            selected_client = None\n",
    "\n",
    "        if (type(selected_client) != list) & (selected_client is not None):\n",
    "            selected_client = [selected_client]\n",
    "\n",
    "        if selected_client is None :\n",
    "            table1 = dash_table.DataTable(\n",
    "                data=file_df.iloc[:, :100].to_dict('records'),\n",
    "                page_size=10,\n",
    "                style_table={'overflowX': 'auto'}\n",
    "            )\n",
    "            table2 = dash_table.DataTable(\n",
    "                data=file_df.iloc[:, cols].to_dict('records'),\n",
    "                page_size=10,\n",
    "                style_table={'overflowX': 'auto'}\n",
    "            )\n",
    "        else :\n",
    "            filtered_df = file_df[file_df['SK_ID_CURR'].isin(selected_client)]\n",
    "            table1 = dash_table.DataTable(\n",
    "                data=filtered_df.iloc[:, :100].to_dict('records'),\n",
    "                page_size=10,\n",
    "                style_table={'overflowX': 'auto'}\n",
    "            )\n",
    "            table2 = dash_table.DataTable(\n",
    "                data=filtered_df.iloc[:, cols].to_dict('records'),\n",
    "                page_size=10,\n",
    "                style_table={'overflowX': 'auto'}\n",
    "            )\n",
    "\n",
    "        if scoring_choisie == \"score\" :\n",
    "            threshold = 0\n",
    "            textH = threshold + 5\n",
    "            textB = threshold - 5\n",
    "\n",
    "        elif scoring_choisie == \"proba_pred_pret\":\n",
    "            threshold = 1 - proba_threshold\n",
    "            textH = threshold + 0.05\n",
    "            textB = threshold - 0.05\n",
    " \n",
    "        if scoring_choisie in [\"score\", \"proba_pred_pret\"]:\n",
    "            figure_score = px.strip(file_df, y=scoring_choisie,\n",
    "                        # On fait figurer le nom des clients et leur note\n",
    "                        hover_data=[\"SK_ID_CURR\", \"score_note\"],  \n",
    "                        # On établit la coloration selon la condition de prêt \n",
    "                        color=file_df[\"prediction_pret\"],  \n",
    "                        color_discrete_map=color_discrete_map\n",
    "                        # on actualise les valeurs de l'axe des x\n",
    "                        ).update_xaxes(range=[-0.5, 0.5], tickvals=[0]  \n",
    "\n",
    "                        # On ajoute une ligne horizontale\n",
    "                        ).add_shape(type=\"line\", x0=-1, x1=1, y0=threshold, y1=threshold,\n",
    "                            line=dict(color=\"red\", width=1)\n",
    "\n",
    "                        # On ajoute un texte au dessus de la ligne\n",
    "                        ).add_annotation(text=\"Threshold\", x=-0.4, y=textH, showarrow=False,\n",
    "                            font=dict(color=\"red\", size=20)\n",
    "\n",
    "                        # On ajoute un texte au dessus de la ligne              \n",
    "                        ).add_annotation(text=\"Prêt\", x=0.4, y=textH, showarrow=False,\n",
    "                            font=dict(color=\"black\", size=20)\n",
    "\n",
    "                        # On ajoute un texte en dessous de la ligne\n",
    "                        ).add_annotation(text=\"Non Prêt\", x=0.4, y=textB, showarrow=False,\n",
    "                            font=dict(color=\"black\", size=20)\n",
    "\n",
    "                        # On regroupe tout sur un seul tick\n",
    "                        ).update_traces(offsetgroup=0.5)\n",
    "            figure_score.update_traces(marker = dict(size=point_size))\n",
    "            \n",
    "        else : \n",
    "            nb_pret = file_df[file_df.prediction_pret == 'Pret'].shape[0]\n",
    "            nb_non_pret = file_df[file_df.prediction_pret == 'Non pret'].shape[0]\n",
    "            nb_max = file_df[\"score_note\"].value_counts().max()\n",
    "            \n",
    "            figure_score = px.histogram(file_df.sort_values(\"score_note\"), x = \"score_note\",\n",
    "                        color=file_df.sort_values(\"score_note\")[\"prediction_pret\"],  \n",
    "                        color_discrete_map=color_discrete_map                       \n",
    "                            # On ajoute un texte au dessus de la ligne              \n",
    "                        ).add_annotation(text=f\"Prêt (n={nb_pret})\", x=1, y=nb_max, showarrow=False,\n",
    "                            font=dict(color=\"black\", size=20)\n",
    "\n",
    "                        # On ajoute un texte en dessous de la ligne\n",
    "                        ).add_annotation(text=f\"Non prêt (n={nb_non_pret})\", x=20, y=nb_max, showarrow=False,\n",
    "                            font=dict(color=\"black\", size=20))\n",
    "\n",
    "            figure_score.update_xaxes(title=dict(\n",
    "                        text = \"Distribution des clients selont leur score note\",\n",
    "                        font=dict(size=20, color=\"black\"),\n",
    "                    ))\n",
    "            figure_score.update_yaxes(title=dict(\n",
    "                        text = \"Comptage (nombre de client(s))\",\n",
    "                        font=dict(size=20, color=\"black\"),\n",
    "                    ))\n",
    "\n",
    "        figure_score.update_layout(font=dict(size=font_size, color=\"black\"))\n",
    "        \n",
    "        # On revient à la condition initiale\n",
    "        selected_variable = None if selected_variable == [] else selected_variable\n",
    "\n",
    "        # Si aucune variable n'est sélectionnée, nous n'affichons rien\n",
    "        if selected_variable == None:\n",
    "            figure_variables = px.scatter()\n",
    "            figure_feature_importance_client = px.bar()\n",
    "            option_drop_var_graph = []\n",
    "            option_client_variable = []\n",
    "            selected_affichage = None\n",
    "\n",
    "        # Si une ou deux variables sont sélectionnées, on affiche soit un strip, soit un scatterplot\n",
    "        elif (type(selected_variable) == list) :\n",
    "            \n",
    "            figure_variables = px.scatter()\n",
    "            figure_feature_importance_client = px.bar()\n",
    "            option_drop_var_graph = []\n",
    "            option_client_variable = []\n",
    "                \n",
    "            if len(selected_variable) == 1 :\n",
    "                # On met à jour les options d'affichages pour une variable\n",
    "                option_drop_var_graph=[\n",
    "                        {'label': 'Strip', 'value': 'strip'},\n",
    "                        {'label': 'Boxplot', 'value': 'boxplot'}]\n",
    "                if(selected_affichage not in [\"strip\", \"boxplot\"]):\n",
    "                    selected_affichage = \"strip\"\n",
    "                \n",
    "                # Type d'affichage\n",
    "                if selected_affichage == \"strip\":\n",
    "                    figure_variables = px.strip(file_df, y=selected_variable[0],\n",
    "                        # On fait figurer le nom des clients et leur note\n",
    "                        hover_data=[\"SK_ID_CURR\", \"score_note\"],  \n",
    "                        # On établit la coloration selon la condition de prêt \n",
    "                        color=file_df[\"prediction_pret\"],  \n",
    "                        color_discrete_map=color_discrete_map\n",
    "                        # On regroupe tout sur un seul tick\n",
    "                        ).update_traces(offsetgroup=0.5)\n",
    "                    \n",
    "                elif selected_affichage == \"boxplot\":\n",
    "                    figure_variables = px.box(file_df, y=selected_variable[0],\n",
    "                        # On fait figurer le nom des clients et leur note\n",
    "                        hover_data=[\"SK_ID_CURR\", \"score_note\"],  \n",
    "                        # On établit la coloration selon la condition de prêt \n",
    "                        color=file_df[\"prediction_pret\"],  \n",
    "                        color_discrete_map=color_discrete_map\n",
    "                        )\n",
    "            else :\n",
    "                \n",
    "                # On met à jour les options d'affichages pour deux variables\n",
    "                option_drop_var_graph=[\n",
    "                        {'label': 'Scatterplot', 'value': 'scatter'},\n",
    "                        {'label': 'Densité', 'value': 'density'}]\n",
    "                if(selected_affichage not in [\"scatter\", \"density\"]):\n",
    "                    selected_affichage = \"scatter\"\n",
    "                \n",
    "                # Type d'affichage\n",
    "                if selected_affichage == \"scatter\":\n",
    "                    figure_variables = px.scatter(file_df, x=selected_variable[0], y = selected_variable[1],\n",
    "                            hover_data=[\"SK_ID_CURR\", \"score_note\"],  \n",
    "                            color=file_df[\"prediction_pret\"], color_discrete_map=color_discrete_map)\n",
    "                else :    \n",
    "                    figure_variables = px.density_contour(file_df, x=selected_variable[0], y = selected_variable[1],\n",
    "                        hover_data=[\"SK_ID_CURR\", \"score_note\"],  \n",
    "                        color=file_df[\"prediction_pret\"], color_discrete_map=color_discrete_map)\n",
    "                    \n",
    "            figure_variables.update_layout(font=dict(size=font_size, color=\"black\"))\n",
    "            if selected_affichage != \"density\":\n",
    "                figure_variables.update_traces(marker=dict(size=point_size))\n",
    "\n",
    "        if (type(selected_client) == list) and (selected_client is not None) and (scoring_choisie != \"score_note\"):\n",
    "            # On met à jour les graphiques avec les clients sélectionnés\n",
    "            selected_data_p = file_df[(file_df[\"SK_ID_CURR\"].isin(selected_client)) & (file_df[\"prediction_pret\"] == \"Pret\")]\n",
    "            selected_data_np = file_df[(file_df[\"SK_ID_CURR\"].isin(selected_client)) & (file_df[\"prediction_pret\"] == \"Non pret\")]\n",
    "\n",
    "            # En créant une nouvelle trace\n",
    "            if not selected_data_p.empty:\n",
    "                # Mise à jour du graphique score avec les clients sélectionnés\n",
    "                selected_trace_p = px.strip(selected_data_p, y=scoring_choisie,  \n",
    "                                 color=selected_data_p[\"prediction_pret\"], color_discrete_map=color_discrete_map,\n",
    "                                 hover_data=[\"SK_ID_CURR\", \"score_note\"],\n",
    "                                 ).update_traces(marker_size=point_size+18, name = \"Sélectionné(s)\",\n",
    "                                                marker_line_color=\"black\", marker_line_width=2)\n",
    "                figure_score.add_trace(selected_trace_p.data[0]).update_traces(offsetgroup=0.5)\n",
    "\n",
    "                # Mise à jour du graphique variables avec les clients sélectionnés\n",
    "                if type(selected_variable) == list :\n",
    "                    if len(selected_variable) == 1 :\n",
    "                        selected_trace_p = px.strip(selected_data_p, y=selected_variable[0],  \n",
    "                                 color=selected_data_p[\"prediction_pret\"], color_discrete_map=color_discrete_map,\n",
    "                                 hover_data=[\"SK_ID_CURR\", \"score_note\"],\n",
    "                                 ).update_traces(marker_size=point_size+18, name = \"Sélectionné(s)\",\n",
    "                                                marker_line_color=\"black\", marker_line_width=2)\n",
    "                        figure_variables.add_trace(selected_trace_p.data[0])\n",
    "                        if selected_affichage == \"strip\":\n",
    "                            figure_variables.update_traces(offsetgroup=0.5)\n",
    "\n",
    "                    else :\n",
    "                        selected_trace_p = px.scatter(selected_data_p, x=selected_variable[0], y = selected_variable[1],  \n",
    "                                 color=selected_data_p[\"prediction_pret\"], color_discrete_map=color_discrete_map,\n",
    "                                 hover_data=[\"SK_ID_CURR\", \"score_note\"],\n",
    "                                 ).update_traces(marker_size=point_size+18, name = \"Sélectionné(s)\",\n",
    "                                                marker_line_color=\"black\", marker_line_width=2)\n",
    "                        figure_variables.add_trace(selected_trace_p.data[0])\n",
    "\n",
    "            if not selected_data_np.empty:\n",
    "                # Mise à jour du graphique score avec les clients sélectionnés\n",
    "                selected_trace_np = px.strip(selected_data_np, y=scoring_choisie, \n",
    "                                 color=selected_data_np[\"prediction_pret\"], color_discrete_map=color_discrete_map,\n",
    "                                 hover_data=[\"SK_ID_CURR\", \"score_note\"],\n",
    "                                 ).update_traces(marker_size=point_size+18, name = \"Sélectionné(s)\",\n",
    "                                                marker_line_color=\"black\", marker_line_width=2)\n",
    "                figure_score.add_trace(selected_trace_np.data[0]).update_traces(offsetgroup=0.5)\n",
    "\n",
    "                # Mise à jour du graphique variables avec les clients sélectionnés\n",
    "                if type(selected_variable) == list :\n",
    "                    if len(selected_variable) == 1 :\n",
    "                        selected_trace_np = px.strip(selected_data_np, y=selected_variable[0],  \n",
    "                                 color=selected_data_np[\"prediction_pret\"], color_discrete_map=color_discrete_map,\n",
    "                                 hover_data=[\"SK_ID_CURR\", \"score_note\"],\n",
    "                                 ).update_traces(marker_size=point_size+18, name = \"Sélectionné(s)\",\n",
    "                                                marker_line_color=\"black\", marker_line_width=2)\n",
    "                        figure_variables.add_trace(selected_trace_np.data[0])\n",
    "                        if selected_affichage == \"strip\":\n",
    "                            figure_variables.update_traces(offsetgroup=0.5)\n",
    "\n",
    "                    else :\n",
    "                        selected_trace_np = px.scatter(selected_data_np, x=selected_variable[0], y = selected_variable[1],  \n",
    "                                 color=selected_data_np[\"prediction_pret\"], color_discrete_map=color_discrete_map,\n",
    "                                 hover_data=[\"SK_ID_CURR\", \"score_note\"],\n",
    "                                 ).update_traces(marker_size=point_size+18, name = \"Sélectionné(s)\",\n",
    "                                                marker_line_color=\"black\", marker_line_width=2)\n",
    "                        figure_variables.add_trace(selected_trace_np.data[0])\n",
    "\n",
    "        # On prépare le graphique sur les features importances du modèle\n",
    "        figure_feat_imp = figure_feature_importance_dash(feature_importance, \"Features\", \"Importance\", font_size, variance_importance, color_point, selected_variable)        \n",
    "\n",
    "        if selected_client is not None:\n",
    "            option_client_variable = [clients for clients in selected_client]\n",
    "            \n",
    "            if selected_client_variable is not None:\n",
    "                df1 = file_df_client_score[file_df_client_score.SK_ID_CURR == selected_client_variable]\n",
    "                df2 = file_df[file_df.SK_ID_CURR == selected_client_variable]\n",
    "                figure_feature_importance_client = figure_feature_client_dash(df1, df2, nb_variable = 10, color_point = color_point, size = font_size)            \n",
    " \n",
    "        list_var_dl = [\"SK_ID_CURR\", \"score\", \"score_note\"]\n",
    "        # On télécharge l'ensemble des données clients\n",
    "        if n_clicks_dl_file_all > 0:\n",
    "            file_sent = dcc.send_data_frame(file_df[list_var_dl].to_csv, \"Result_prediction_all.csv\", index=False)\n",
    "            n_clicks_dl_file_all = 0\n",
    "        # On télécharge les données des clients sélectionnés\n",
    "        elif n_clicks_dl_file_clients > 0 :\n",
    "            # Safegard pour éviter toute erreur de téléchargement\n",
    "            if selected_client is not None:\n",
    "                file_sent = dcc.send_data_frame(file_df.loc[file_df.SK_ID_CURR.isin(selected_client), list_var_dl].to_csv, \"Result_prediction_client.csv\", index=False)\n",
    "            else:\n",
    "                file_sent = None\n",
    "            n_clicks_dl_file_clients = 0\n",
    "            \n",
    "        else :\n",
    "            file_sent = None\n",
    "        return (table1, table2, \n",
    "                figure_score, option_drop_var, \n",
    "                    option_drop_clients, option_drop_var_graph, \n",
    "                        selected_affichage, figure_variables, \n",
    "                        figure_feat_imp, n_clicks_file, \n",
    "                            content, file_sent, \n",
    "                                n_clicks_dl_file_all, n_clicks_dl_file_clients, \n",
    "                                    figure_feature_importance_client, option_client_variable )\n",
    "\n",
    "# Run the app\n",
    "if __name__ == '__main__':\n",
    "    app.run(debug=True)"
   ]
  },
  {
   "cell_type": "code",
   "execution_count": null,
   "id": "ceba9493",
   "metadata": {},
   "outputs": [],
   "source": []
  },
  {
   "cell_type": "code",
   "execution_count": null,
   "id": "9cb05a85",
   "metadata": {},
   "outputs": [],
   "source": []
  },
  {
   "cell_type": "code",
   "execution_count": null,
   "id": "e0a564a9",
   "metadata": {},
   "outputs": [],
   "source": []
  },
  {
   "cell_type": "code",
   "execution_count": null,
   "id": "2d7600be",
   "metadata": {},
   "outputs": [],
   "source": []
  },
  {
   "cell_type": "code",
   "execution_count": null,
   "id": "4c9b6f4c",
   "metadata": {},
   "outputs": [],
   "source": []
  },
  {
   "cell_type": "code",
   "execution_count": null,
   "id": "9a4ab8ed",
   "metadata": {},
   "outputs": [],
   "source": []
  },
  {
   "cell_type": "code",
   "execution_count": null,
   "id": "e4ea798d",
   "metadata": {},
   "outputs": [],
   "source": []
  },
  {
   "cell_type": "code",
   "execution_count": null,
   "id": "b6527997",
   "metadata": {},
   "outputs": [],
   "source": []
  },
  {
   "cell_type": "code",
   "execution_count": null,
   "id": "f41e75e1",
   "metadata": {},
   "outputs": [],
   "source": []
  },
  {
   "cell_type": "code",
   "execution_count": null,
   "id": "664057f3",
   "metadata": {},
   "outputs": [],
   "source": []
  },
  {
   "cell_type": "code",
   "execution_count": null,
   "id": "f52eb750",
   "metadata": {},
   "outputs": [],
   "source": []
  },
  {
   "cell_type": "code",
   "execution_count": null,
   "id": "c6fc3988",
   "metadata": {},
   "outputs": [],
   "source": []
  },
  {
   "cell_type": "code",
   "execution_count": null,
   "id": "b1d28100",
   "metadata": {},
   "outputs": [],
   "source": []
  }
 ],
 "metadata": {
  "kernelspec": {
   "display_name": "Python 3 (ipykernel)",
   "language": "python",
   "name": "python3"
  },
  "language_info": {
   "codemirror_mode": {
    "name": "ipython",
    "version": 3
   },
   "file_extension": ".py",
   "mimetype": "text/x-python",
   "name": "python",
   "nbconvert_exporter": "python",
   "pygments_lexer": "ipython3",
   "version": "3.11.4"
  }
 },
 "nbformat": 4,
 "nbformat_minor": 5
}
